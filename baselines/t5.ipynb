{
  "cells": [
    {
      "cell_type": "code",
      "execution_count": 69,
      "metadata": {
        "id": "pvr5WO3Dk3k7"
      },
      "outputs": [],
      "source": [
        "import pandas as pd\n",
        "from torch.utils.data import Dataset\n",
        "import torch\n",
        "import os\n",
        "import random\n",
        "import numpy as np\n",
        "from torch import nn\n",
        "from typing import Dict, Optional, Tuple, List\n",
        "from transformers import AutoTokenizer, AutoModel\n",
        "from torch.utils.data import Dataset, random_split\n",
        "import torch.optim as optim\n",
        "from tqdm import tqdm\n",
        "from sklearn.metrics import precision_score, f1_score, recall_score, classification_report\n",
        "import gc\n"
      ]
    },
    {
      "cell_type": "code",
      "execution_count": 70,
      "metadata": {},
      "outputs": [],
      "source": [
        "os.environ['CUDA_VISIBLE_DEVICES']='1'"
      ]
    },
    {
      "cell_type": "code",
      "execution_count": 71,
      "metadata": {
        "id": "tATY-ohJqYuC"
      },
      "outputs": [],
      "source": [
        "SEED = 42\n",
        "\n",
        "torch.manual_seed(SEED)\n",
        "torch.random.manual_seed(SEED)\n",
        "os.environ['PYTHONHASHSEED'] = str(SEED)\n",
        "random.seed(SEED)\n",
        "np.random.seed(SEED)\n",
        "torch.cuda.random.manual_seed(SEED)\n",
        "torch.cuda.random.manual_seed_all(SEED)\n",
        "torch.backends.cudnn.deterministic = True"
      ]
    },
    {
      "cell_type": "code",
      "execution_count": 72,
      "metadata": {
        "id": "NHSvAhT-JcIR"
      },
      "outputs": [],
      "source": [
        "# from google.colab import drive\n",
        "# drive.mount('/content/drive')"
      ]
    },
    {
      "cell_type": "code",
      "execution_count": 73,
      "metadata": {
        "id": "G3DBvzLkpxb9"
      },
      "outputs": [],
      "source": [
        "cuda=torch.device('cuda')\n",
        "device = cuda if torch.cuda.is_available() else \"cpu\""
      ]
    },
    {
      "cell_type": "code",
      "execution_count": 74,
      "metadata": {},
      "outputs": [
        {
          "name": "stdout",
          "output_type": "stream",
          "text": [
            "cuda\n"
          ]
        }
      ],
      "source": [
        "print(device)"
      ]
    },
    {
      "cell_type": "code",
      "execution_count": 75,
      "metadata": {
        "colab": {
          "base_uri": "https://localhost:8080/"
        },
        "id": "s3XTVchKHjRE",
        "outputId": "d75dfb6c-5364-4128-cf28-a6bc75254ad9"
      },
      "outputs": [
        {
          "name": "stdout",
          "output_type": "stream",
          "text": [
            "fatal: destination path 'TextGraphs17-shared-task' already exists and is not an empty directory.\n"
          ]
        }
      ],
      "source": [
        "!git clone https://github.com/uhh-lt/TextGraphs17-shared-task.git"
      ]
    },
    {
      "cell_type": "code",
      "execution_count": 76,
      "metadata": {
        "colab": {
          "base_uri": "https://localhost:8080/"
        },
        "id": "1Fv67LbbHkVl",
        "outputId": "6e6aa677-2999-4bce-cfba-a442b357424f"
      },
      "outputs": [
        {
          "name": "stdout",
          "output_type": "stream",
          "text": [
            "baselines  evaluation\t\t    README.md\t   submission_example\n",
            "data\t   question_graph_examples  reformat_data  visualization\n"
          ]
        }
      ],
      "source": [
        "!ls TextGraphs17-shared-task"
      ]
    },
    {
      "cell_type": "code",
      "execution_count": null,
      "metadata": {
        "id": "EDbHhQWcd6RJ"
      },
      "outputs": [],
      "source": []
    },
    {
      "cell_type": "code",
      "execution_count": 77,
      "metadata": {
        "id": "-8SEn7sx5qn4"
      },
      "outputs": [],
      "source": [
        "train_dev_path = \"TextGraphs17-shared-task/data/tsv/train.tsv\"\n",
        "test_path = \"TextGraphs17-shared-task/data/tsv/test.tsv\"\n",
        "\n",
        "train_dev_df = pd.read_csv(train_dev_path, sep='\\t')\n",
        "test_df = pd.read_csv(test_path, sep='\\t')"
      ]
    },
    {
      "cell_type": "code",
      "execution_count": null,
      "metadata": {
        "id": "H7d1Iwk0bi9E"
      },
      "outputs": [],
      "source": []
    },
    {
      "cell_type": "code",
      "execution_count": 78,
      "metadata": {
        "id": "ChpkDo0DILq-"
      },
      "outputs": [],
      "source": [
        "train_dev_questions = list(train_dev_df[\"question\"].unique())\n",
        "test_questions = list(test_df[\"question\"].unique())\n",
        "num_train_dev_questions = len(train_dev_questions)\n",
        "random.shuffle(train_dev_questions)"
      ]
    },
    {
      "cell_type": "markdown",
      "metadata": {
        "id": "zy04aCsungVN"
      },
      "source": [
        "### Splitting train into train/dev"
      ]
    },
    {
      "cell_type": "code",
      "execution_count": 79,
      "metadata": {
        "colab": {
          "base_uri": "https://localhost:8080/"
        },
        "id": "LxOT3ndTIKOi",
        "outputId": "ddf02101-fdb0-42c1-ad55-2604403e27f2"
      },
      "outputs": [
        {
          "name": "stdout",
          "output_type": "stream",
          "text": [
            "Questions: train - 3358, dev - 177, test - 1000\n"
          ]
        }
      ],
      "source": [
        "train_ratio = 0.95\n",
        "\n",
        "num_train_questions = int(num_train_dev_questions * train_ratio)\n",
        "train_questions = set(train_dev_questions[:num_train_questions])\n",
        "dev_questions = set(train_dev_questions[num_train_questions:])\n",
        "\n",
        "print(f\"Questions: train - {len(train_questions)}, dev - {len(dev_questions)}, test - {len(test_questions)}\")"
      ]
    },
    {
      "cell_type": "code",
      "execution_count": 80,
      "metadata": {
        "colab": {
          "base_uri": "https://localhost:8080/"
        },
        "id": "PS8JE3QiIKQy",
        "outputId": "92a96f60-b0f8-4f2a-f191-1702724d1295"
      },
      "outputs": [
        {
          "name": "stdout",
          "output_type": "stream",
          "text": [
            "Train: (35796, 10)\n",
            "Dev: (1876, 10)\n",
            "Test: (10961, 7)\n"
          ]
        }
      ],
      "source": [
        "train_df = train_dev_df[train_dev_df[\"question\"].isin(train_questions)]\n",
        "dev_df = train_dev_df[train_dev_df[\"question\"].isin(dev_questions)]\n",
        "\n",
        "\n",
        "print(f\"Train: {train_df.shape}\")\n",
        "print(f\"Dev: {dev_df.shape}\")\n",
        "print(f\"Test: {test_df.shape}\")"
      ]
    },
    {
      "cell_type": "code",
      "execution_count": 81,
      "metadata": {
        "colab": {
          "base_uri": "https://localhost:8080/",
          "height": 69
        },
        "id": "L67B30o_XJmZ",
        "outputId": "8c4b7a9b-3f29-4ce4-a516-23ce11b040c3"
      },
      "outputs": [
        {
          "data": {
            "text/plain": [
              "'{\\'nodes\\': [{\\'type\\': \\'QUESTIONS_ENTITY\\', \\'name_\\': \\'Q794\\', \\'id\\': 0, \\'label\\': \\'Iran\\'}, {\\'type\\': \\'INTERNAL\\', \\'name_\\': \\'Q207991\\', \\'id\\': 1, \\'label\\': \\'Pahlavi dynasty\\'}, {\\'type\\': \\'ANSWER_CANDIDATE_ENTITY\\', \\'name_\\': \\'Q7293530\\', \\'id\\': 2, \\'label\\': \"Ruhollah Khomeini\\'s return to Iran\"}], \\'links\\': [{\\'name_\\': \\'P17\\', \\'source\\': 0, \\'target\\': 0, \\'label\\': \\'country\\'}, {\\'name_\\': \\'P1365\\', \\'source\\': 0, \\'target\\': 1, \\'label\\': \\'replaces\\'}, {\\'name_\\': \\'P1366\\', \\'source\\': 1, \\'target\\': 0, \\'label\\': \\'replaced by\\'}, {\\'name_\\': \\'P17\\', \\'source\\': 2, \\'target\\': 1, \\'label\\': \\'country\\'}]}'"
            ]
          },
          "execution_count": 81,
          "metadata": {},
          "output_type": "execute_result"
        }
      ],
      "source": [
        "train_df.loc[0, \"graph\"]"
      ]
    },
    {
      "cell_type": "code",
      "execution_count": 82,
      "metadata": {
        "colab": {
          "base_uri": "https://localhost:8080/",
          "height": 293
        },
        "id": "f8Uk3FNGk5G-",
        "outputId": "315b846d-cd4a-4017-c176-a488f64d4f54"
      },
      "outputs": [
        {
          "data": {
            "text/html": [
              "<div>\n",
              "<style scoped>\n",
              "    .dataframe tbody tr th:only-of-type {\n",
              "        vertical-align: middle;\n",
              "    }\n",
              "\n",
              "    .dataframe tbody tr th {\n",
              "        vertical-align: top;\n",
              "    }\n",
              "\n",
              "    .dataframe thead th {\n",
              "        text-align: right;\n",
              "    }\n",
              "</style>\n",
              "<table border=\"1\" class=\"dataframe\">\n",
              "  <thead>\n",
              "    <tr style=\"text-align: right;\">\n",
              "      <th></th>\n",
              "      <th>sample_id</th>\n",
              "      <th>question</th>\n",
              "      <th>questionEntity</th>\n",
              "      <th>answerEntity</th>\n",
              "      <th>groundTruthAnswerEntity</th>\n",
              "      <th>answerEntityId</th>\n",
              "      <th>questionEntityId</th>\n",
              "      <th>groundTruthAnswerEntityId</th>\n",
              "      <th>correct</th>\n",
              "      <th>graph</th>\n",
              "    </tr>\n",
              "  </thead>\n",
              "  <tbody>\n",
              "    <tr>\n",
              "      <th>0</th>\n",
              "      <td>0</td>\n",
              "      <td>Whst is the name of the head of state and high...</td>\n",
              "      <td>Iran</td>\n",
              "      <td>Ruhollah Khomeini's return to Iran</td>\n",
              "      <td>Office of the Supreme Leader of Iran</td>\n",
              "      <td>Q7293530</td>\n",
              "      <td>Q794</td>\n",
              "      <td>Q16045000</td>\n",
              "      <td>False</td>\n",
              "      <td>{'nodes': [{'type': 'QUESTIONS_ENTITY', 'name_...</td>\n",
              "    </tr>\n",
              "    <tr>\n",
              "      <th>1</th>\n",
              "      <td>1</td>\n",
              "      <td>Whst is the name of the head of state and high...</td>\n",
              "      <td>Iran</td>\n",
              "      <td>Ruhollah Khomeini's letter to Mikhail Gorbachev</td>\n",
              "      <td>Office of the Supreme Leader of Iran</td>\n",
              "      <td>Q5952984</td>\n",
              "      <td>Q794</td>\n",
              "      <td>Q16045000</td>\n",
              "      <td>False</td>\n",
              "      <td>{'nodes': [{'type': 'INTERNAL', 'name_': 'Q417...</td>\n",
              "    </tr>\n",
              "    <tr>\n",
              "      <th>2</th>\n",
              "      <td>2</td>\n",
              "      <td>Whst is the name of the head of state and high...</td>\n",
              "      <td>Iran</td>\n",
              "      <td>Ruhollah Khomeini</td>\n",
              "      <td>Office of the Supreme Leader of Iran</td>\n",
              "      <td>Q38823</td>\n",
              "      <td>Q794</td>\n",
              "      <td>Q16045000</td>\n",
              "      <td>False</td>\n",
              "      <td>{'nodes': [{'type': 'QUESTIONS_ENTITY', 'name_...</td>\n",
              "    </tr>\n",
              "    <tr>\n",
              "      <th>3</th>\n",
              "      <td>3</td>\n",
              "      <td>Whst is the name of the head of state and high...</td>\n",
              "      <td>Iran</td>\n",
              "      <td>Office of the Supreme Leader of Iran</td>\n",
              "      <td>Office of the Supreme Leader of Iran</td>\n",
              "      <td>Q16045000</td>\n",
              "      <td>Q794</td>\n",
              "      <td>Q16045000</td>\n",
              "      <td>True</td>\n",
              "      <td>{'nodes': [{'type': 'QUESTIONS_ENTITY', 'name_...</td>\n",
              "    </tr>\n",
              "    <tr>\n",
              "      <th>4</th>\n",
              "      <td>4</td>\n",
              "      <td>Whst is the name of the head of state and high...</td>\n",
              "      <td>Iran</td>\n",
              "      <td>Mohammad Reza Pahlavi and Soraya</td>\n",
              "      <td>Office of the Supreme Leader of Iran</td>\n",
              "      <td>Q63195813</td>\n",
              "      <td>Q794</td>\n",
              "      <td>Q16045000</td>\n",
              "      <td>False</td>\n",
              "      <td>{'nodes': [{'type': 'QUESTIONS_ENTITY', 'name_...</td>\n",
              "    </tr>\n",
              "  </tbody>\n",
              "</table>\n",
              "</div>"
            ],
            "text/plain": [
              "   sample_id                                           question  \\\n",
              "0          0  Whst is the name of the head of state and high...   \n",
              "1          1  Whst is the name of the head of state and high...   \n",
              "2          2  Whst is the name of the head of state and high...   \n",
              "3          3  Whst is the name of the head of state and high...   \n",
              "4          4  Whst is the name of the head of state and high...   \n",
              "\n",
              "  questionEntity                                     answerEntity  \\\n",
              "0           Iran               Ruhollah Khomeini's return to Iran   \n",
              "1           Iran  Ruhollah Khomeini's letter to Mikhail Gorbachev   \n",
              "2           Iran                                Ruhollah Khomeini   \n",
              "3           Iran             Office of the Supreme Leader of Iran   \n",
              "4           Iran                 Mohammad Reza Pahlavi and Soraya   \n",
              "\n",
              "                groundTruthAnswerEntity answerEntityId questionEntityId  \\\n",
              "0  Office of the Supreme Leader of Iran       Q7293530             Q794   \n",
              "1  Office of the Supreme Leader of Iran       Q5952984             Q794   \n",
              "2  Office of the Supreme Leader of Iran         Q38823             Q794   \n",
              "3  Office of the Supreme Leader of Iran      Q16045000             Q794   \n",
              "4  Office of the Supreme Leader of Iran      Q63195813             Q794   \n",
              "\n",
              "  groundTruthAnswerEntityId  correct  \\\n",
              "0                 Q16045000    False   \n",
              "1                 Q16045000    False   \n",
              "2                 Q16045000    False   \n",
              "3                 Q16045000     True   \n",
              "4                 Q16045000    False   \n",
              "\n",
              "                                               graph  \n",
              "0  {'nodes': [{'type': 'QUESTIONS_ENTITY', 'name_...  \n",
              "1  {'nodes': [{'type': 'INTERNAL', 'name_': 'Q417...  \n",
              "2  {'nodes': [{'type': 'QUESTIONS_ENTITY', 'name_...  \n",
              "3  {'nodes': [{'type': 'QUESTIONS_ENTITY', 'name_...  \n",
              "4  {'nodes': [{'type': 'QUESTIONS_ENTITY', 'name_...  "
            ]
          },
          "execution_count": 82,
          "metadata": {},
          "output_type": "execute_result"
        }
      ],
      "source": [
        "train_df.head()"
      ]
    },
    {
      "cell_type": "code",
      "execution_count": 83,
      "metadata": {},
      "outputs": [
        {
          "name": "stdout",
          "output_type": "stream",
          "text": [
            "sample_id                    0\n",
            "question                     0\n",
            "questionEntity               0\n",
            "answerEntity                 0\n",
            "groundTruthAnswerEntity      0\n",
            "answerEntityId               0\n",
            "questionEntityId             0\n",
            "groundTruthAnswerEntityId    0\n",
            "correct                      0\n",
            "graph                        0\n",
            "dtype: int64\n"
          ]
        }
      ],
      "source": [
        "print(train_df.isnull().sum())\n"
      ]
    },
    {
      "cell_type": "code",
      "execution_count": 84,
      "metadata": {
        "colab": {
          "base_uri": "https://localhost:8080/"
        },
        "id": "Fot9tDahnA6I",
        "outputId": "cb85ff09-2a6c-4196-9796-6387dae4a767"
      },
      "outputs": [
        {
          "name": "stderr",
          "output_type": "stream",
          "text": [
            "/tmp/ipykernel_8380/3709585686.py:1: SettingWithCopyWarning: \n",
            "A value is trying to be set on a copy of a slice from a DataFrame.\n",
            "Try using .loc[row_indexer,col_indexer] = value instead\n",
            "\n",
            "See the caveats in the documentation: https://pandas.pydata.org/pandas-docs/stable/user_guide/indexing.html#returning-a-view-versus-a-copy\n",
            "  train_df[\"label\"] = train_df[\"correct\"].astype(np.float32)\n",
            "/tmp/ipykernel_8380/3709585686.py:2: SettingWithCopyWarning: \n",
            "A value is trying to be set on a copy of a slice from a DataFrame.\n",
            "Try using .loc[row_indexer,col_indexer] = value instead\n",
            "\n",
            "See the caveats in the documentation: https://pandas.pydata.org/pandas-docs/stable/user_guide/indexing.html#returning-a-view-versus-a-copy\n",
            "  dev_df[\"label\"] = dev_df[\"correct\"].astype(np.float32)\n"
          ]
        },
        {
          "data": {
            "text/plain": [
              "0    0.0\n",
              "1    0.0\n",
              "2    0.0\n",
              "3    1.0\n",
              "4    0.0\n",
              "Name: label, dtype: float32"
            ]
          },
          "execution_count": 84,
          "metadata": {},
          "output_type": "execute_result"
        }
      ],
      "source": [
        "train_df[\"label\"] = train_df[\"correct\"].astype(np.float32)\n",
        "dev_df[\"label\"] = dev_df[\"correct\"].astype(np.float32)\n",
        "test_df[\"label\"] = np.zeros(shape=test_df.shape[0], dtype=np.float32)\n",
        "train_df[\"label\"].head(5)"
      ]
    },
    {
      "cell_type": "code",
      "execution_count": 85,
      "metadata": {
        "colab": {
          "base_uri": "https://localhost:8080/"
        },
        "id": "FPlwivhunSxF",
        "outputId": "20a089e9-6a3a-44ea-ad80-231ae4378dac"
      },
      "outputs": [
        {
          "name": "stderr",
          "output_type": "stream",
          "text": [
            "/tmp/ipykernel_8380/1764180835.py:1: SettingWithCopyWarning: \n",
            "A value is trying to be set on a copy of a slice from a DataFrame.\n",
            "Try using .loc[row_indexer,col_indexer] = value instead\n",
            "\n",
            "See the caveats in the documentation: https://pandas.pydata.org/pandas-docs/stable/user_guide/indexing.html#returning-a-view-versus-a-copy\n",
            "  train_df[\"graph\"] = train_df[\"graph\"].apply(eval)\n",
            "/tmp/ipykernel_8380/1764180835.py:2: SettingWithCopyWarning: \n",
            "A value is trying to be set on a copy of a slice from a DataFrame.\n",
            "Try using .loc[row_indexer,col_indexer] = value instead\n",
            "\n",
            "See the caveats in the documentation: https://pandas.pydata.org/pandas-docs/stable/user_guide/indexing.html#returning-a-view-versus-a-copy\n",
            "  dev_df[\"graph\"] = dev_df[\"graph\"].apply(eval)\n"
          ]
        }
      ],
      "source": [
        "train_df[\"graph\"] = train_df[\"graph\"].apply(eval)\n",
        "dev_df[\"graph\"] = dev_df[\"graph\"].apply(eval)\n",
        "test_df[\"graph\"] = test_df[\"graph\"].apply(eval)"
      ]
    },
    {
      "cell_type": "code",
      "execution_count": 86,
      "metadata": {
        "colab": {
          "base_uri": "https://localhost:8080/"
        },
        "id": "gksMsUxa0e0W",
        "outputId": "6b22efd1-8894-4380-bdf4-545642522c71"
      },
      "outputs": [
        {
          "data": {
            "text/plain": [
              "{'nodes': [{'type': 'QUESTIONS_ENTITY',\n",
              "   'name_': 'Q794',\n",
              "   'id': 0,\n",
              "   'label': 'Iran'},\n",
              "  {'type': 'INTERNAL',\n",
              "   'name_': 'Q207991',\n",
              "   'id': 1,\n",
              "   'label': 'Pahlavi dynasty'},\n",
              "  {'type': 'ANSWER_CANDIDATE_ENTITY',\n",
              "   'name_': 'Q7293530',\n",
              "   'id': 2,\n",
              "   'label': \"Ruhollah Khomeini's return to Iran\"}],\n",
              " 'links': [{'name_': 'P17', 'source': 0, 'target': 0, 'label': 'country'},\n",
              "  {'name_': 'P1365', 'source': 0, 'target': 1, 'label': 'replaces'},\n",
              "  {'name_': 'P1366', 'source': 1, 'target': 0, 'label': 'replaced by'},\n",
              "  {'name_': 'P17', 'source': 2, 'target': 1, 'label': 'country'}]}"
            ]
          },
          "execution_count": 86,
          "metadata": {},
          "output_type": "execute_result"
        }
      ],
      "source": [
        "train_df.loc[0, \"graph\"]"
      ]
    },
    {
      "cell_type": "code",
      "execution_count": 87,
      "metadata": {
        "colab": {
          "base_uri": "https://localhost:8080/",
          "height": 363
        },
        "id": "qttF4jcml2mo",
        "outputId": "151a076d-9440-4192-946b-48f14977c7da"
      },
      "outputs": [
        {
          "data": {
            "text/html": [
              "<div>\n",
              "<style scoped>\n",
              "    .dataframe tbody tr th:only-of-type {\n",
              "        vertical-align: middle;\n",
              "    }\n",
              "\n",
              "    .dataframe tbody tr th {\n",
              "        vertical-align: top;\n",
              "    }\n",
              "\n",
              "    .dataframe thead th {\n",
              "        text-align: right;\n",
              "    }\n",
              "</style>\n",
              "<table border=\"1\" class=\"dataframe\">\n",
              "  <thead>\n",
              "    <tr style=\"text-align: right;\">\n",
              "      <th></th>\n",
              "      <th>question</th>\n",
              "      <th>answerEntity</th>\n",
              "      <th>groundTruthAnswerEntity</th>\n",
              "      <th>label</th>\n",
              "    </tr>\n",
              "  </thead>\n",
              "  <tbody>\n",
              "    <tr>\n",
              "      <th>0</th>\n",
              "      <td>Whst is the name of the head of state and high...</td>\n",
              "      <td>Ruhollah Khomeini's return to Iran</td>\n",
              "      <td>Office of the Supreme Leader of Iran</td>\n",
              "      <td>0.0</td>\n",
              "    </tr>\n",
              "    <tr>\n",
              "      <th>1</th>\n",
              "      <td>Whst is the name of the head of state and high...</td>\n",
              "      <td>Ruhollah Khomeini's letter to Mikhail Gorbachev</td>\n",
              "      <td>Office of the Supreme Leader of Iran</td>\n",
              "      <td>0.0</td>\n",
              "    </tr>\n",
              "    <tr>\n",
              "      <th>2</th>\n",
              "      <td>Whst is the name of the head of state and high...</td>\n",
              "      <td>Ruhollah Khomeini</td>\n",
              "      <td>Office of the Supreme Leader of Iran</td>\n",
              "      <td>0.0</td>\n",
              "    </tr>\n",
              "    <tr>\n",
              "      <th>3</th>\n",
              "      <td>Whst is the name of the head of state and high...</td>\n",
              "      <td>Office of the Supreme Leader of Iran</td>\n",
              "      <td>Office of the Supreme Leader of Iran</td>\n",
              "      <td>1.0</td>\n",
              "    </tr>\n",
              "    <tr>\n",
              "      <th>4</th>\n",
              "      <td>Whst is the name of the head of state and high...</td>\n",
              "      <td>Mohammad Reza Pahlavi and Soraya</td>\n",
              "      <td>Office of the Supreme Leader of Iran</td>\n",
              "      <td>0.0</td>\n",
              "    </tr>\n",
              "    <tr>\n",
              "      <th>5</th>\n",
              "      <td>Whst is the name of the head of state and high...</td>\n",
              "      <td>Mahmoud Ahmadinejad</td>\n",
              "      <td>Office of the Supreme Leader of Iran</td>\n",
              "      <td>0.0</td>\n",
              "    </tr>\n",
              "    <tr>\n",
              "      <th>6</th>\n",
              "      <td>Whst is the name of the head of state and high...</td>\n",
              "      <td>Hassan Rouhani</td>\n",
              "      <td>Office of the Supreme Leader of Iran</td>\n",
              "      <td>0.0</td>\n",
              "    </tr>\n",
              "    <tr>\n",
              "      <th>7</th>\n",
              "      <td>Whst is the name of the head of state and high...</td>\n",
              "      <td>Ayatollah Khamenei's Foreign Policy Orientation</td>\n",
              "      <td>Office of the Supreme Leader of Iran</td>\n",
              "      <td>0.0</td>\n",
              "    </tr>\n",
              "    <tr>\n",
              "      <th>8</th>\n",
              "      <td>Whst is the name of the head of state and high...</td>\n",
              "      <td>Ayatollah Ali Khamenei speaks about Iranian pr...</td>\n",
              "      <td>Office of the Supreme Leader of Iran</td>\n",
              "      <td>0.0</td>\n",
              "    </tr>\n",
              "    <tr>\n",
              "      <th>9</th>\n",
              "      <td>Whst is the name of the head of state and high...</td>\n",
              "      <td>Ali Khamenei bibliography</td>\n",
              "      <td>Office of the Supreme Leader of Iran</td>\n",
              "      <td>0.0</td>\n",
              "    </tr>\n",
              "  </tbody>\n",
              "</table>\n",
              "</div>"
            ],
            "text/plain": [
              "                                            question  \\\n",
              "0  Whst is the name of the head of state and high...   \n",
              "1  Whst is the name of the head of state and high...   \n",
              "2  Whst is the name of the head of state and high...   \n",
              "3  Whst is the name of the head of state and high...   \n",
              "4  Whst is the name of the head of state and high...   \n",
              "5  Whst is the name of the head of state and high...   \n",
              "6  Whst is the name of the head of state and high...   \n",
              "7  Whst is the name of the head of state and high...   \n",
              "8  Whst is the name of the head of state and high...   \n",
              "9  Whst is the name of the head of state and high...   \n",
              "\n",
              "                                        answerEntity  \\\n",
              "0                 Ruhollah Khomeini's return to Iran   \n",
              "1    Ruhollah Khomeini's letter to Mikhail Gorbachev   \n",
              "2                                  Ruhollah Khomeini   \n",
              "3               Office of the Supreme Leader of Iran   \n",
              "4                   Mohammad Reza Pahlavi and Soraya   \n",
              "5                                Mahmoud Ahmadinejad   \n",
              "6                                     Hassan Rouhani   \n",
              "7    Ayatollah Khamenei's Foreign Policy Orientation   \n",
              "8  Ayatollah Ali Khamenei speaks about Iranian pr...   \n",
              "9                          Ali Khamenei bibliography   \n",
              "\n",
              "                groundTruthAnswerEntity  label  \n",
              "0  Office of the Supreme Leader of Iran    0.0  \n",
              "1  Office of the Supreme Leader of Iran    0.0  \n",
              "2  Office of the Supreme Leader of Iran    0.0  \n",
              "3  Office of the Supreme Leader of Iran    1.0  \n",
              "4  Office of the Supreme Leader of Iran    0.0  \n",
              "5  Office of the Supreme Leader of Iran    0.0  \n",
              "6  Office of the Supreme Leader of Iran    0.0  \n",
              "7  Office of the Supreme Leader of Iran    0.0  \n",
              "8  Office of the Supreme Leader of Iran    0.0  \n",
              "9  Office of the Supreme Leader of Iran    0.0  "
            ]
          },
          "execution_count": 87,
          "metadata": {},
          "output_type": "execute_result"
        }
      ],
      "source": [
        "train_df[[\"question\", \"answerEntity\", \"groundTruthAnswerEntity\", \"label\"]].head(10)"
      ]
    },
    {
      "cell_type": "code",
      "execution_count": 88,
      "metadata": {
        "colab": {
          "base_uri": "https://localhost:8080/",
          "height": 363
        },
        "id": "qPWyIN3wnLzv",
        "outputId": "e5ee1da6-5ddb-4d7f-979c-d34939aa412e"
      },
      "outputs": [
        {
          "data": {
            "text/html": [
              "<div>\n",
              "<style scoped>\n",
              "    .dataframe tbody tr th:only-of-type {\n",
              "        vertical-align: middle;\n",
              "    }\n",
              "\n",
              "    .dataframe tbody tr th {\n",
              "        vertical-align: top;\n",
              "    }\n",
              "\n",
              "    .dataframe thead th {\n",
              "        text-align: right;\n",
              "    }\n",
              "</style>\n",
              "<table border=\"1\" class=\"dataframe\">\n",
              "  <thead>\n",
              "    <tr style=\"text-align: right;\">\n",
              "      <th></th>\n",
              "      <th>question</th>\n",
              "      <th>answerEntity</th>\n",
              "    </tr>\n",
              "  </thead>\n",
              "  <tbody>\n",
              "    <tr>\n",
              "      <th>0</th>\n",
              "      <td>After publishing A Time to Kill, which book di...</td>\n",
              "      <td>A Clash of Kings</td>\n",
              "    </tr>\n",
              "    <tr>\n",
              "      <th>1</th>\n",
              "      <td>After publishing A Time to Kill, which book di...</td>\n",
              "      <td>A Feast for Crows</td>\n",
              "    </tr>\n",
              "    <tr>\n",
              "      <th>2</th>\n",
              "      <td>After publishing A Time to Kill, which book di...</td>\n",
              "      <td>Fear and Loathing in Las Vegas</td>\n",
              "    </tr>\n",
              "    <tr>\n",
              "      <th>3</th>\n",
              "      <td>After publishing A Time to Kill, which book di...</td>\n",
              "      <td>In Cold Blood</td>\n",
              "    </tr>\n",
              "    <tr>\n",
              "      <th>4</th>\n",
              "      <td>After publishing A Time to Kill, which book di...</td>\n",
              "      <td>Into the Woods</td>\n",
              "    </tr>\n",
              "    <tr>\n",
              "      <th>5</th>\n",
              "      <td>After publishing A Time to Kill, which book di...</td>\n",
              "      <td>Kongenes kamp</td>\n",
              "    </tr>\n",
              "    <tr>\n",
              "      <th>6</th>\n",
              "      <td>After publishing A Time to Kill, which book di...</td>\n",
              "      <td>No Country for Old Men</td>\n",
              "    </tr>\n",
              "    <tr>\n",
              "      <th>7</th>\n",
              "      <td>After publishing A Time to Kill, which book di...</td>\n",
              "      <td>No Country for Old Men</td>\n",
              "    </tr>\n",
              "    <tr>\n",
              "      <th>8</th>\n",
              "      <td>After publishing A Time to Kill, which book di...</td>\n",
              "      <td>Slaughterhouse-Five</td>\n",
              "    </tr>\n",
              "    <tr>\n",
              "      <th>9</th>\n",
              "      <td>After publishing A Time to Kill, which book di...</td>\n",
              "      <td>The Firm</td>\n",
              "    </tr>\n",
              "  </tbody>\n",
              "</table>\n",
              "</div>"
            ],
            "text/plain": [
              "                                            question  \\\n",
              "0  After publishing A Time to Kill, which book di...   \n",
              "1  After publishing A Time to Kill, which book di...   \n",
              "2  After publishing A Time to Kill, which book di...   \n",
              "3  After publishing A Time to Kill, which book di...   \n",
              "4  After publishing A Time to Kill, which book di...   \n",
              "5  After publishing A Time to Kill, which book di...   \n",
              "6  After publishing A Time to Kill, which book di...   \n",
              "7  After publishing A Time to Kill, which book di...   \n",
              "8  After publishing A Time to Kill, which book di...   \n",
              "9  After publishing A Time to Kill, which book di...   \n",
              "\n",
              "                     answerEntity  \n",
              "0                A Clash of Kings  \n",
              "1               A Feast for Crows  \n",
              "2  Fear and Loathing in Las Vegas  \n",
              "3                   In Cold Blood  \n",
              "4                  Into the Woods  \n",
              "5                   Kongenes kamp  \n",
              "6          No Country for Old Men  \n",
              "7          No Country for Old Men  \n",
              "8             Slaughterhouse-Five  \n",
              "9                        The Firm  "
            ]
          },
          "execution_count": 88,
          "metadata": {},
          "output_type": "execute_result"
        }
      ],
      "source": [
        "test_df[[\"question\", \"answerEntity\"]].head(10)"
      ]
    },
    {
      "cell_type": "code",
      "execution_count": 89,
      "metadata": {
        "id": "gEx2RPKnnSzb"
      },
      "outputs": [],
      "source": [
        "# class QuestionAnswerDataset(Dataset):\n",
        "#     # def __init__(self, df, tokenizer, max_length, context_key=\"answerEntity\",\n",
        "#     #              tokenizer_truncation=\"only_first\"):\n",
        "#     #     super(QuestionAnswerDataset).__init__()\n",
        "\n",
        "#     #     self.questions = df.question.values\n",
        "#     #     self.contexts = df[context_key].values\n",
        "#     #     self.labels = torch.tensor(df.label.values, dtype=torch.float32)\n",
        "#     #     self.tokenizer = tokenizer\n",
        "#     #     self.max_length = max_length\n",
        "#     #     self.tokenized_input = [tokenizer.encode_plus(x, y,\n",
        "#     #                           max_length=self.max_length,\n",
        "#     #                           padding=\"max_length\",\n",
        "#     #                           truncation=tokenizer_truncation,\n",
        "#     #                           return_tensors=\"pt\", ) \\\n",
        "#     #                       for x, y in zip(self.questions,\n",
        "#     #                                       self.contexts)]\n",
        "#     #     assert len(self.questions) == len(self.contexts) == len(self.labels)\n",
        "#     def __init__(self, df, tokenizer, max_length, context_key=\"answerEntity\",\n",
        "#                  tokenizer_truncation=\"only_first\"):\n",
        "#         super(QuestionAnswerDataset, self).__init__()\n",
        "\n",
        "#         # Filter out samples with null labels\n",
        "#         self.questions = df[~df.label.isna()].question.values\n",
        "#         self.contexts = df[~df.label.isna()][context_key].values\n",
        "#         self.labels = torch.tensor(df[~df.label.isna()].label.values, dtype=torch.float32)\n",
        "#         self.tokenizer = tokenizer\n",
        "#         self.max_length = max_length\n",
        "#         self.tokenized_input = [tokenizer.encode_plus(x, y,\n",
        "#                                                      max_length=self.max_length,\n",
        "#                                                      padding=\"max_length\",\n",
        "#                                                      truncation=tokenizer_truncation,\n",
        "#                                                      return_tensors=\"pt\", )\n",
        "#                                for x, y in zip(self.questions, self.contexts)]\n",
        "#         assert len(self.questions) == len(self.contexts) == len(self.labels)\n",
        "\n",
        "\n",
        "#     def __len__(self):\n",
        "#         return len(self.questions)\n",
        "\n",
        "#     def __getitem__(self, idx):\n",
        "#         labels = self.labels[idx]\n",
        "#         if labels.ndim == 0:\n",
        "#             print(labels)\n",
        "#             # If the label is a scalar, convert it to a 1-dimensional tensor\n",
        "#             labels = torch.tensor(labels)\n",
        "#             labels = labels.unsqueeze(0)\n",
        "\n",
        "\n",
        "#         return {\n",
        "#                 \"input_ids\": self.tokenized_input[idx][\"input_ids\"][0],\n",
        "#                 \"attention_mask\" : self.tokenized_input[idx][\"attention_mask\"][0],\n",
        "#                 \"labels\": self.labels[idx]}\n",
        "    "
      ]
    },
    {
      "cell_type": "code",
      "execution_count": 90,
      "metadata": {},
      "outputs": [],
      "source": [
        "class QuestionAnswerDataset(Dataset):\n",
        "    def __init__(self, df, tokenizer, max_length, context_key=\"answerEntity\",\n",
        "                 tokenizer_truncation=\"only_first\"):\n",
        "        super(QuestionAnswerDataset, self).__init__()\n",
        "\n",
        "        self.questions = df.question.values\n",
        "        self.contexts = df[context_key].values\n",
        "        self.labels = torch.tensor(df.label.values, dtype=torch.float32)\n",
        "        self.tokenizer = tokenizer\n",
        "        self.max_length = max_length\n",
        "        self.tokenized_input = [tokenizer.encode_plus(x, y,\n",
        "                              max_length=self.max_length,\n",
        "                              padding=\"max_length\",\n",
        "                              truncation=tokenizer_truncation,\n",
        "                              return_tensors=\"pt\", ) \\\n",
        "                          for x, y in zip(self.questions,\n",
        "                                          self.contexts)]\n",
        "        assert len(self.questions) == len(self.contexts) == len(self.labels)\n",
        "\n",
        "    def __len__(self):\n",
        "        return len(self.questions)\n",
        "\n",
        "    # def __getitem__(self, idx):\n",
        "    #     source_ids = self.tokenized_input[idx][\"input_ids\"].squeeze()\n",
        "    #     source_mask = self.tokenized_input[idx][\"attention_mask\"].squeeze()\n",
        "    #     labels = self.labels[idx].unsqueeze(0)\n",
        "    #     if torch.isnan(labels).any():\n",
        "    #         labels[torch.isnan(labels)] = 0\n",
        "    #     target_mask = torch.ones_like(labels)\n",
        "\n",
        "    #     # Shift the target_ids one position to the right to create the decoder_input_ids\n",
        "    #     decoder_input_ids = torch.cat([torch.tensor([self.tokenizer.bos_token_id]), labels[:-1]], dim=-1)\n",
        "    #     decoder_attention_mask = torch.ones_like(decoder_input_ids)\n",
        "\n",
        "    #     return {\n",
        "    #         \"input_ids\": source_ids,\n",
        "    #         \"attention_mask\": source_mask,\n",
        "    #         \"decoder_input_ids\": decoder_input_ids,\n",
        "    #         \"decoder_attention_mask\": decoder_attention_mask,\n",
        "    #         \"labels\": labels\n",
        "    #     }\n",
        "\n",
        "    def __getitem__(self, idx):\n",
        "        labels = self.labels[idx] #target_ids\n",
        "        if labels.ndim == 0:\n",
        "            #print(labels)\n",
        "            # If the label is a scalar, convert it to a 1-dimensional tensor\n",
        "            labels = torch.tensor(labels, dtype=torch.float32).clone().detach()#.requires_grad_(True)\n",
        "            labels = labels.unsqueeze(0)\n",
        "        # need target_mask\n",
        "        target_mask = torch.zeros_like(labels)\n",
        "\n",
        "\n",
        "        return {\n",
        "                \"input_ids\": self.tokenized_input[idx][\"input_ids\"].squeeze(),\n",
        "                \"attention_mask\" : self.tokenized_input[idx][\"attention_mask\"].squeeze(),\n",
        "                \"labels\": labels,\n",
        "                \"target_mask\": target_mask}\n"
      ]
    },
    {
      "cell_type": "code",
      "execution_count": null,
      "metadata": {
        "id": "2u3Rlxmqvq5a"
      },
      "outputs": [],
      "source": []
    },
    {
      "cell_type": "code",
      "execution_count": 91,
      "metadata": {
        "colab": {
          "base_uri": "https://localhost:8080/",
          "height": 331,
          "referenced_widgets": [
            "8ed61ced11484335afca68782fe9003c",
            "abd2abe46951416e9829f8b4325c4675",
            "f47e7752fd7e4940bedf57d157aea00c",
            "04f0d0577ed041d289a83919f97b823b",
            "337391fc5a0b4055ac8f63fb99d5cb8b",
            "db7436e2b9eb47a7a4103b77a3d0e171",
            "a9ccb96afc9042fd94515fcbf32fcd58",
            "650786cd569248368c8289a11c4668cc",
            "7e5d51a1aa8148bab1d5580e3ada9445",
            "64f8ef842527428b9f254b29bfa6c6d1",
            "302eb8ca355f422682c5c7d86379258b",
            "208285cb4e334b09a7013f6e59a2dc93",
            "26ffd8b3c5ea4a7ead1a4d95b78cfaeb",
            "17308fe207c44198809799d59b676378",
            "7fb747e6cd7d4364b9414e5122205356",
            "ef0aee5d04074133932f7d2f468b921b",
            "bd3d9fb08ebf4561846cec4265de5284",
            "d7b37c52c0ff467f8b8ac1079e67c40c",
            "7e451702e8d64e68ab7f8b21cdf93359",
            "23cf94ffec3f4b65b5c8a0001b4ff83c",
            "187ae4d5b20e418da19aefeb6f8620e4",
            "b73f95065c394a348216ebad8e8b9907",
            "240f973df7004259990482c480ff7399",
            "211dac0ccd3b44168319020de1e6033e",
            "7150264194694fcc8294d7264a6522a4",
            "523bab21e4ae47d2ae8d9767cb96f950",
            "9d7095c174324f259f462763979d7144",
            "bc0bf1811e854fe4b7ffeda799425c78",
            "c9a84cea249a4ca9a4be3ba3e7395d00",
            "52ef5d19a9e3401eb0b6587500fc8d62",
            "13803e928627493f95e085496ba2e301",
            "0aca3cff5ad3467daf5ab5591a322baa",
            "5628b6e95246444c9cc836aca71b65df",
            "22f7dda8f1c645c9bce12bece1c35713",
            "131da912f13140c897383cc61bc46b7a",
            "e53ce79804cb4f17a8ad2b84afc63ce4",
            "6da3e5f565114163b784a2c7195889d6",
            "d6a1ca4f2f7a48fcbfa89d7546d1250b",
            "e08d921f1b2a49fe8eeaa5d64e811af1",
            "f8751b6b35cc489b8918a5d23bed8670",
            "e05062c3701c450998dbcc8a9992661c",
            "a02d3aa9d6fa4b659d5f532d13402c46",
            "c42902a3f86041f49c077bf1fb83c6f3",
            "ea19f3b5e8c343bc8bc00baa4cda36b8",
            "3f9b36be24a74f668448ba4eecd2f331",
            "3ef187815968408aab6bb54dbf0a8ff1",
            "7f6c3c37d3b040f29fc89dc66aec9b3e",
            "2c3ba15fd85f42e695a3f5ec23f3a858",
            "3c2ab6238682410ca196fb529bbf12c3",
            "0de69e0c276342eebdf867c4e68bd270",
            "9d21c84043604357b459e6be20abaa98",
            "4ed19634d1ee48d3b40ae09657c19aaa",
            "6c85e1fec45040f8b994cc8d1254c88e",
            "d5883fe8a67542bf90f404458db3e54f",
            "a0f73dcc73ce4a07ba73cf1883a252e8",
            "c5ac39d65246496987b380980216c96f",
            "d485a089dae64548bdeeb89d20259fd1",
            "4925d2e5af9f4adaa12e3309aceb8f86",
            "9533b9b644c845a4b753f0ca6e24aa1d",
            "6edac992be6e49618db611206fb0cf07",
            "86b73b73c9154bbeb4dc213f877a1c5a",
            "7f8d5440bc0f4b3ea54b853b4b59148f",
            "6e86a451d05846169aca0e76c2d668fd",
            "caaa4ebbff5048e584a4805c8bef4b21",
            "6d5932e555234ad099b14d27e199cdd0",
            "2f83dc26435e499992a0dbbe27b14bbd"
          ]
        },
        "id": "EHhNzOBxwZZ1",
        "outputId": "59250f30-239e-4149-edb2-148a9b7cef40"
      },
      "outputs": [
        {
          "name": "stderr",
          "output_type": "stream",
          "text": [
            "/home/zwanggy/anaconda3/envs/abs_unlock/lib/python3.9/site-packages/transformers/models/t5/tokenization_t5.py:240: FutureWarning: This tokenizer was incorrectly instantiated with a model max length of 512 which will be corrected in Transformers v5.\n",
            "For now, this behavior is kept to avoid breaking backwards compatibility when padding/encoding with `truncation is True`.\n",
            "- Be aware that you SHOULD NOT rely on t5-base automatically truncating your input to 512 when padding/encoding.\n",
            "- If you want to encode/pad to sequences longer than 512 you can either instantiate this tokenizer with `model_max_length` or pass `max_length` when encoding/padding.\n",
            "- To avoid this warning, please instantiate this tokenizer with `model_max_length` set to your preferred value.\n",
            "  warnings.warn(\n",
            "Special tokens have been added in the vocabulary, make sure the associated word embeddings are fine-tuned or trained.\n"
          ]
        },
        {
          "name": "stdout",
          "output_type": "stream",
          "text": [
            "# Trainable params:  222903552\n"
          ]
        }
      ],
      "source": [
        "from transformers import T5ForConditionalGeneration, T5Tokenizer, DataCollatorForSeq2Seq, Seq2SeqTrainingArguments, Seq2SeqTrainer\n",
        "\n",
        "# # model_name=\"roberta-base\"\n",
        "# model_name=\"sentence-transformers/all-mpnet-base-v2\"\n",
        "\n",
        "# tokenizer = AutoTokenizer.from_pretrained(model_name)\n",
        "# bert_model = AutoModel.from_pretrained(model_name)\n",
        "\n",
        "# freeze_embeddings = True\n",
        "# if freeze_embeddings:\n",
        "#     for param in bert_model.embeddings.parameters():\n",
        "#         param.requires_grad = False\n",
        "\n",
        "# freeze_layer_count = 5\n",
        "# if freeze_layer_count > 0:\n",
        "#     for layer in bert_model.encoder.layer[:freeze_layer_count]:\n",
        "#         for param in layer.parameters():\n",
        "#             param.requires_grad = False\n",
        "\n",
        "# Load the T5 model and tokenizer\n",
        "bert_model = T5ForConditionalGeneration.from_pretrained(\"t5-base\")\n",
        "tokenizer = T5Tokenizer.from_pretrained(\"t5-base\")\n",
        "\n",
        "print(\"# Trainable params: \", sum(p.numel() for p in bert_model.parameters() if p.requires_grad))"
      ]
    },
    {
      "cell_type": "code",
      "execution_count": 92,
      "metadata": {
        "colab": {
          "base_uri": "https://localhost:8080/"
        },
        "id": "Txs7g1YFYJAG",
        "outputId": "65c3bae5-5216-46a9-a346-c24dd9da75d7"
      },
      "outputs": [
        {
          "data": {
            "text/plain": [
              "10966    1.0\n",
              "3784     1.0\n",
              "16770    1.0\n",
              "8431     1.0\n",
              "30075    1.0\n",
              "Name: label, dtype: float32"
            ]
          },
          "execution_count": 92,
          "metadata": {},
          "output_type": "execute_result"
        }
      ],
      "source": [
        "train_df_filtered = train_df.copy()\n",
        "train_df_filtered.sort_values(by=[\"label\", ], ascending=False, inplace=True)\n",
        "train_df_filtered[\"label\"].head()"
      ]
    },
    {
      "cell_type": "code",
      "execution_count": 93,
      "metadata": {
        "colab": {
          "base_uri": "https://localhost:8080/"
        },
        "id": "ODBroEInYggS",
        "outputId": "e4af42bb-0738-4515-f2ba-ad01f1fc9c87"
      },
      "outputs": [
        {
          "name": "stdout",
          "output_type": "stream",
          "text": [
            "(35796, 11)\n",
            "(33542, 11)\n"
          ]
        }
      ],
      "source": [
        "print(train_df_filtered.shape)\n",
        "train_df_filtered.drop_duplicates(subset=[\"question\", \"answerEntity\"], keep=\"first\", inplace=True)\n",
        "print(train_df_filtered.shape)"
      ]
    },
    {
      "cell_type": "code",
      "execution_count": 94,
      "metadata": {},
      "outputs": [
        {
          "name": "stdout",
          "output_type": "stream",
          "text": [
            "sample_id                    0\n",
            "question                     0\n",
            "questionEntity               0\n",
            "answerEntity                 0\n",
            "groundTruthAnswerEntity      0\n",
            "answerEntityId               0\n",
            "questionEntityId             0\n",
            "groundTruthAnswerEntityId    0\n",
            "correct                      0\n",
            "graph                        0\n",
            "label                        0\n",
            "dtype: int64\n"
          ]
        }
      ],
      "source": [
        "print(train_df_filtered.isnull().sum())\n"
      ]
    },
    {
      "cell_type": "code",
      "execution_count": 95,
      "metadata": {
        "id": "A7cYGM0EpVdy"
      },
      "outputs": [],
      "source": [
        "max_length = 128\n",
        "train_dataset = QuestionAnswerDataset(train_df_filtered, tokenizer=tokenizer, max_length=max_length)\n",
        "dev_dataset = QuestionAnswerDataset(dev_df, tokenizer=tokenizer, max_length=max_length)\n",
        "test_dataset = QuestionAnswerDataset(test_df, tokenizer=tokenizer, max_length=max_length)"
      ]
    },
    {
      "cell_type": "code",
      "execution_count": 96,
      "metadata": {
        "colab": {
          "base_uri": "https://localhost:8080/"
        },
        "id": "L2jtK8ntXJlr",
        "outputId": "d85de42f-5be4-4b72-89e6-3c3260b61f19"
      },
      "outputs": [
        {
          "name": "stdout",
          "output_type": "stream",
          "text": [
            " ▁Which ▁was ▁the ▁first ▁Pi x ar ▁movie ▁to ▁not ▁be ▁released ▁in ▁the ▁1990 ' s ? </s> ▁Monster s , ▁Inc . </s> <pad> <pad> <pad> <pad> <pad> <pad> <pad> <pad> <pad> <pad> <pad> <pad> <pad> <pad> <pad> <pad> <pad> <pad> <pad> <pad> <pad> <pad> <pad> <pad> <pad> <pad> <pad> <pad> <pad> <pad> <pad> <pad> <pad> <pad> <pad> <pad> <pad> <pad> <pad> <pad> <pad> <pad> <pad> <pad> <pad> <pad> <pad> <pad> <pad> <pad> <pad> <pad> <pad> <pad> <pad> <pad> <pad> <pad> <pad> <pad> <pad> <pad> <pad> <pad> <pad> <pad> <pad> <pad> <pad> <pad> <pad> <pad> <pad> <pad> <pad> <pad> <pad> <pad> <pad> <pad> <pad> <pad> <pad> <pad> <pad> <pad> <pad> <pad> <pad> <pad> <pad> <pad> <pad> <pad> <pad> <pad> <pad> <pad> <pad> <pad> <pad> <pad> <pad>\n",
            " ▁Who ▁wrote ▁Looking ▁for ▁Alaska ? </s> ▁Tom ▁Rob bin s </s> <pad> <pad> <pad> <pad> <pad> <pad> <pad> <pad> <pad> <pad> <pad> <pad> <pad> <pad> <pad> <pad> <pad> <pad> <pad> <pad> <pad> <pad> <pad> <pad> <pad> <pad> <pad> <pad> <pad> <pad> <pad> <pad> <pad> <pad> <pad> <pad> <pad> <pad> <pad> <pad> <pad> <pad> <pad> <pad> <pad> <pad> <pad> <pad> <pad> <pad> <pad> <pad> <pad> <pad> <pad> <pad> <pad> <pad> <pad> <pad> <pad> <pad> <pad> <pad> <pad> <pad> <pad> <pad> <pad> <pad> <pad> <pad> <pad> <pad> <pad> <pad> <pad> <pad> <pad> <pad> <pad> <pad> <pad> <pad> <pad> <pad> <pad> <pad> <pad> <pad> <pad> <pad> <pad> <pad> <pad> <pad> <pad> <pad> <pad> <pad> <pad> <pad> <pad> <pad> <pad> <pad> <pad> <pad> <pad> <pad> <pad> <pad> <pad> <pad> <pad> <pad>\n",
            " ▁After ▁publishing ▁A ▁Time ▁to ▁Kill , ▁which ▁book ▁did ▁its ▁author ▁begin ▁working ▁on ▁immediately ? </s> ▁A ▁C lash ▁of ▁Kings </s> <pad> <pad> <pad> <pad> <pad> <pad> <pad> <pad> <pad> <pad> <pad> <pad> <pad> <pad> <pad> <pad> <pad> <pad> <pad> <pad> <pad> <pad> <pad> <pad> <pad> <pad> <pad> <pad> <pad> <pad> <pad> <pad> <pad> <pad> <pad> <pad> <pad> <pad> <pad> <pad> <pad> <pad> <pad> <pad> <pad> <pad> <pad> <pad> <pad> <pad> <pad> <pad> <pad> <pad> <pad> <pad> <pad> <pad> <pad> <pad> <pad> <pad> <pad> <pad> <pad> <pad> <pad> <pad> <pad> <pad> <pad> <pad> <pad> <pad> <pad> <pad> <pad> <pad> <pad> <pad> <pad> <pad> <pad> <pad> <pad> <pad> <pad> <pad> <pad> <pad> <pad> <pad> <pad> <pad> <pad> <pad> <pad> <pad> <pad> <pad> <pad> <pad> <pad> <pad>\n",
            "---\n",
            " ▁Who ▁was ▁the ▁captain ▁of ▁the ▁team ▁that ▁won ▁Cop a ▁America ▁20 21 ? </s> ▁Lion e l ▁Mess i </s> <pad> <pad> <pad> <pad> <pad> <pad> <pad> <pad> <pad> <pad> <pad> <pad> <pad> <pad> <pad> <pad> <pad> <pad> <pad> <pad> <pad> <pad> <pad> <pad> <pad> <pad> <pad> <pad> <pad> <pad> <pad> <pad> <pad> <pad> <pad> <pad> <pad> <pad> <pad> <pad> <pad> <pad> <pad> <pad> <pad> <pad> <pad> <pad> <pad> <pad> <pad> <pad> <pad> <pad> <pad> <pad> <pad> <pad> <pad> <pad> <pad> <pad> <pad> <pad> <pad> <pad> <pad> <pad> <pad> <pad> <pad> <pad> <pad> <pad> <pad> <pad> <pad> <pad> <pad> <pad> <pad> <pad> <pad> <pad> <pad> <pad> <pad> <pad> <pad> <pad> <pad> <pad> <pad> <pad> <pad> <pad> <pad> <pad> <pad> <pad> <pad> <pad> <pad> <pad> <pad> <pad>\n",
            " ▁Who ▁wrote ▁Looking ▁for ▁Alaska ? </s> ▁Tom ▁Per rott a </s> <pad> <pad> <pad> <pad> <pad> <pad> <pad> <pad> <pad> <pad> <pad> <pad> <pad> <pad> <pad> <pad> <pad> <pad> <pad> <pad> <pad> <pad> <pad> <pad> <pad> <pad> <pad> <pad> <pad> <pad> <pad> <pad> <pad> <pad> <pad> <pad> <pad> <pad> <pad> <pad> <pad> <pad> <pad> <pad> <pad> <pad> <pad> <pad> <pad> <pad> <pad> <pad> <pad> <pad> <pad> <pad> <pad> <pad> <pad> <pad> <pad> <pad> <pad> <pad> <pad> <pad> <pad> <pad> <pad> <pad> <pad> <pad> <pad> <pad> <pad> <pad> <pad> <pad> <pad> <pad> <pad> <pad> <pad> <pad> <pad> <pad> <pad> <pad> <pad> <pad> <pad> <pad> <pad> <pad> <pad> <pad> <pad> <pad> <pad> <pad> <pad> <pad> <pad> <pad> <pad> <pad> <pad> <pad> <pad> <pad> <pad> <pad> <pad> <pad> <pad> <pad>\n",
            " ▁After ▁publishing ▁A ▁Time ▁to ▁Kill , ▁which ▁book ▁did ▁its ▁author ▁begin ▁working ▁on ▁immediately ? </s> ▁A ▁F east ▁for ▁Crow s </s> <pad> <pad> <pad> <pad> <pad> <pad> <pad> <pad> <pad> <pad> <pad> <pad> <pad> <pad> <pad> <pad> <pad> <pad> <pad> <pad> <pad> <pad> <pad> <pad> <pad> <pad> <pad> <pad> <pad> <pad> <pad> <pad> <pad> <pad> <pad> <pad> <pad> <pad> <pad> <pad> <pad> <pad> <pad> <pad> <pad> <pad> <pad> <pad> <pad> <pad> <pad> <pad> <pad> <pad> <pad> <pad> <pad> <pad> <pad> <pad> <pad> <pad> <pad> <pad> <pad> <pad> <pad> <pad> <pad> <pad> <pad> <pad> <pad> <pad> <pad> <pad> <pad> <pad> <pad> <pad> <pad> <pad> <pad> <pad> <pad> <pad> <pad> <pad> <pad> <pad> <pad> <pad> <pad> <pad> <pad> <pad> <pad> <pad> <pad> <pad> <pad> <pad> <pad>\n",
            "---\n"
          ]
        },
        {
          "name": "stderr",
          "output_type": "stream",
          "text": [
            "/tmp/ipykernel_8380/654079615.py:48: UserWarning: To copy construct from a tensor, it is recommended to use sourceTensor.clone().detach() or sourceTensor.clone().detach().requires_grad_(True), rather than torch.tensor(sourceTensor).\n",
            "  labels = torch.tensor(labels, dtype=torch.float32).clone().detach()#.requires_grad_(True)\n"
          ]
        }
      ],
      "source": [
        "idx_bound = 2\n",
        "for i in range(idx_bound):\n",
        "    d = train_dataset[i]\n",
        "    inp_ids = d[\"input_ids\"]\n",
        "    tokens = tokenizer.convert_ids_to_tokens(inp_ids)\n",
        "    s = \"\".join((x.strip(\"#\") if x.startswith(\"#\") else f\" {x}\" for x in tokens))\n",
        "    print(s)\n",
        "    d = dev_dataset[i]\n",
        "    inp_ids = d[\"input_ids\"]\n",
        "    tokens = tokenizer.convert_ids_to_tokens(inp_ids)\n",
        "    s = \"\".join((x.strip(\"#\") if x.startswith(\"#\") else f\" {x}\" for x in tokens))\n",
        "    print(s)\n",
        "    d = test_dataset[i]\n",
        "    inp_ids = d[\"input_ids\"]\n",
        "    tokens = tokenizer.convert_ids_to_tokens(inp_ids)\n",
        "    s = \"\".join((x.strip(\"#\") if x.startswith(\"#\") else f\" {x}\" for x in tokens))\n",
        "    print(s)\n",
        "    print('---')"
      ]
    },
    {
      "cell_type": "code",
      "execution_count": 97,
      "metadata": {
        "id": "Lg4MGlFZpVgq"
      },
      "outputs": [],
      "source": [
        "batch_size = 64\n",
        "num_workers = 0\n",
        "\n",
        "train_loader = torch.utils.data.DataLoader(\n",
        "    train_dataset, batch_size=batch_size, num_workers=num_workers, shuffle=True, drop_last=True,\n",
        ")\n",
        "dev_loader = torch.utils.data.DataLoader(\n",
        "    dev_dataset, batch_size=batch_size, num_workers=num_workers, shuffle=False, drop_last=False,\n",
        ")\n",
        "test_loader = torch.utils.data.DataLoader(\n",
        "    test_dataset, batch_size=batch_size, num_workers=num_workers, shuffle=False, drop_last=False,\n",
        ")"
      ]
    },
    {
      "cell_type": "markdown",
      "metadata": {},
      "source": [
        "## Use T5 model"
      ]
    },
    {
      "cell_type": "code",
      "execution_count": 30,
      "metadata": {
        "id": "dGs_fL9YpwSA"
      },
      "outputs": [
        {
          "name": "stderr",
          "output_type": "stream",
          "text": [
            "Detected kernel version 3.10.0, which is below the recommended minimum of 5.5.0; this can cause the process to hang. It is recommended to upgrade the kernel to the minimum version or higher.\n"
          ]
        },
        {
          "name": "stderr",
          "output_type": "stream",
          "text": [
            "Failed to detect the name of this notebook, you can set it manually with the WANDB_NOTEBOOK_NAME environment variable to enable code saving.\n",
            "\u001b[34m\u001b[1mwandb\u001b[0m: Currently logged in as: \u001b[33mzhaowei-wang\u001b[0m. Use \u001b[1m`wandb login --relogin`\u001b[0m to force relogin\n"
          ]
        },
        {
          "data": {
            "text/html": [
              "wandb version 0.16.6 is available!  To upgrade, please run:\n",
              " $ pip install wandb --upgrade"
            ],
            "text/plain": [
              "<IPython.core.display.HTML object>"
            ]
          },
          "metadata": {},
          "output_type": "display_data"
        },
        {
          "data": {
            "text/html": [
              "Tracking run with wandb version 0.15.12"
            ],
            "text/plain": [
              "<IPython.core.display.HTML object>"
            ]
          },
          "metadata": {},
          "output_type": "display_data"
        },
        {
          "data": {
            "text/html": [
              "Run data is saved locally in <code>/home/zwanggy/TextGraphs17/baselines/wandb/run-20240503_211540-c5pxhfph</code>"
            ],
            "text/plain": [
              "<IPython.core.display.HTML object>"
            ]
          },
          "metadata": {},
          "output_type": "display_data"
        },
        {
          "data": {
            "text/html": [
              "Syncing run <strong><a href='https://wandb.ai/zhaowei-wang/huggingface/runs/c5pxhfph' target=\"_blank\">exalted-spaceship-69</a></strong> to <a href='https://wandb.ai/zhaowei-wang/huggingface' target=\"_blank\">Weights & Biases</a> (<a href='https://wandb.me/run' target=\"_blank\">docs</a>)<br/>"
            ],
            "text/plain": [
              "<IPython.core.display.HTML object>"
            ]
          },
          "metadata": {},
          "output_type": "display_data"
        },
        {
          "data": {
            "text/html": [
              " View project at <a href='https://wandb.ai/zhaowei-wang/huggingface' target=\"_blank\">https://wandb.ai/zhaowei-wang/huggingface</a>"
            ],
            "text/plain": [
              "<IPython.core.display.HTML object>"
            ]
          },
          "metadata": {},
          "output_type": "display_data"
        },
        {
          "data": {
            "text/html": [
              " View run at <a href='https://wandb.ai/zhaowei-wang/huggingface/runs/c5pxhfph' target=\"_blank\">https://wandb.ai/zhaowei-wang/huggingface/runs/c5pxhfph</a>"
            ],
            "text/plain": [
              "<IPython.core.display.HTML object>"
            ]
          },
          "metadata": {},
          "output_type": "display_data"
        },
        {
          "name": "stderr",
          "output_type": "stream",
          "text": [
            "/tmp/ipykernel_4070/654079615.py:48: UserWarning: To copy construct from a tensor, it is recommended to use sourceTensor.clone().detach() or sourceTensor.clone().detach().requires_grad_(True), rather than torch.tensor(sourceTensor).\n",
            "  labels = torch.tensor(labels, dtype=torch.float32).clone().detach()#.requires_grad_(True)\n"
          ]
        },
        {
          "data": {
            "text/html": [
              "\n",
              "    <div>\n",
              "      \n",
              "      <progress value='10485' max='10485' style='width:300px; height:20px; vertical-align: middle;'></progress>\n",
              "      [10485/10485 54:51, Epoch 5/5]\n",
              "    </div>\n",
              "    <table border=\"1\" class=\"dataframe\">\n",
              "  <thead>\n",
              " <tr style=\"text-align: left;\">\n",
              "      <th>Epoch</th>\n",
              "      <th>Training Loss</th>\n",
              "      <th>Validation Loss</th>\n",
              "    </tr>\n",
              "  </thead>\n",
              "  <tbody>\n",
              "    <tr>\n",
              "      <td>1</td>\n",
              "      <td>0.389900</td>\n",
              "      <td>0.311334</td>\n",
              "    </tr>\n",
              "    <tr>\n",
              "      <td>2</td>\n",
              "      <td>0.333500</td>\n",
              "      <td>0.306096</td>\n",
              "    </tr>\n",
              "    <tr>\n",
              "      <td>3</td>\n",
              "      <td>0.313900</td>\n",
              "      <td>0.323491</td>\n",
              "    </tr>\n",
              "    <tr>\n",
              "      <td>4</td>\n",
              "      <td>0.287300</td>\n",
              "      <td>0.333848</td>\n",
              "    </tr>\n",
              "    <tr>\n",
              "      <td>5</td>\n",
              "      <td>0.244400</td>\n",
              "      <td>0.366504</td>\n",
              "    </tr>\n",
              "  </tbody>\n",
              "</table><p>"
            ],
            "text/plain": [
              "<IPython.core.display.HTML object>"
            ]
          },
          "metadata": {},
          "output_type": "display_data"
        },
        {
          "name": "stderr",
          "output_type": "stream",
          "text": [
            "/tmp/ipykernel_4070/654079615.py:48: UserWarning: To copy construct from a tensor, it is recommended to use sourceTensor.clone().detach() or sourceTensor.clone().detach().requires_grad_(True), rather than torch.tensor(sourceTensor).\n",
            "  labels = torch.tensor(labels, dtype=torch.float32).clone().detach()#.requires_grad_(True)\n",
            "/tmp/ipykernel_4070/654079615.py:48: UserWarning: To copy construct from a tensor, it is recommended to use sourceTensor.clone().detach() or sourceTensor.clone().detach().requires_grad_(True), rather than torch.tensor(sourceTensor).\n",
            "  labels = torch.tensor(labels, dtype=torch.float32).clone().detach()#.requires_grad_(True)\n",
            "/tmp/ipykernel_4070/654079615.py:48: UserWarning: To copy construct from a tensor, it is recommended to use sourceTensor.clone().detach() or sourceTensor.clone().detach().requires_grad_(True), rather than torch.tensor(sourceTensor).\n",
            "  labels = torch.tensor(labels, dtype=torch.float32).clone().detach()#.requires_grad_(True)\n",
            "/tmp/ipykernel_4070/654079615.py:48: UserWarning: To copy construct from a tensor, it is recommended to use sourceTensor.clone().detach() or sourceTensor.clone().detach().requires_grad_(True), rather than torch.tensor(sourceTensor).\n",
            "  labels = torch.tensor(labels, dtype=torch.float32).clone().detach()#.requires_grad_(True)\n",
            "/tmp/ipykernel_4070/654079615.py:48: UserWarning: To copy construct from a tensor, it is recommended to use sourceTensor.clone().detach() or sourceTensor.clone().detach().requires_grad_(True), rather than torch.tensor(sourceTensor).\n",
            "  labels = torch.tensor(labels, dtype=torch.float32).clone().detach()#.requires_grad_(True)\n",
            "/tmp/ipykernel_4070/654079615.py:48: UserWarning: To copy construct from a tensor, it is recommended to use sourceTensor.clone().detach() or sourceTensor.clone().detach().requires_grad_(True), rather than torch.tensor(sourceTensor).\n",
            "  labels = torch.tensor(labels, dtype=torch.float32).clone().detach()#.requires_grad_(True)\n",
            "/tmp/ipykernel_4070/654079615.py:48: UserWarning: To copy construct from a tensor, it is recommended to use sourceTensor.clone().detach() or sourceTensor.clone().detach().requires_grad_(True), rather than torch.tensor(sourceTensor).\n",
            "  labels = torch.tensor(labels, dtype=torch.float32).clone().detach()#.requires_grad_(True)\n",
            "/tmp/ipykernel_4070/654079615.py:48: UserWarning: To copy construct from a tensor, it is recommended to use sourceTensor.clone().detach() or sourceTensor.clone().detach().requires_grad_(True), rather than torch.tensor(sourceTensor).\n",
            "  labels = torch.tensor(labels, dtype=torch.float32).clone().detach()#.requires_grad_(True)\n",
            "/tmp/ipykernel_4070/654079615.py:48: UserWarning: To copy construct from a tensor, it is recommended to use sourceTensor.clone().detach() or sourceTensor.clone().detach().requires_grad_(True), rather than torch.tensor(sourceTensor).\n",
            "  labels = torch.tensor(labels, dtype=torch.float32).clone().detach()#.requires_grad_(True)\n",
            "/tmp/ipykernel_4070/654079615.py:48: UserWarning: To copy construct from a tensor, it is recommended to use sourceTensor.clone().detach() or sourceTensor.clone().detach().requires_grad_(True), rather than torch.tensor(sourceTensor).\n",
            "  labels = torch.tensor(labels, dtype=torch.float32).clone().detach()#.requires_grad_(True)\n",
            "/tmp/ipykernel_4070/654079615.py:48: UserWarning: To copy construct from a tensor, it is recommended to use sourceTensor.clone().detach() or sourceTensor.clone().detach().requires_grad_(True), rather than torch.tensor(sourceTensor).\n",
            "  labels = torch.tensor(labels, dtype=torch.float32).clone().detach()#.requires_grad_(True)\n",
            "/tmp/ipykernel_4070/654079615.py:48: UserWarning: To copy construct from a tensor, it is recommended to use sourceTensor.clone().detach() or sourceTensor.clone().detach().requires_grad_(True), rather than torch.tensor(sourceTensor).\n",
            "  labels = torch.tensor(labels, dtype=torch.float32).clone().detach()#.requires_grad_(True)\n",
            "/tmp/ipykernel_4070/654079615.py:48: UserWarning: To copy construct from a tensor, it is recommended to use sourceTensor.clone().detach() or sourceTensor.clone().detach().requires_grad_(True), rather than torch.tensor(sourceTensor).\n",
            "  labels = torch.tensor(labels, dtype=torch.float32).clone().detach()#.requires_grad_(True)\n",
            "/tmp/ipykernel_4070/654079615.py:48: UserWarning: To copy construct from a tensor, it is recommended to use sourceTensor.clone().detach() or sourceTensor.clone().detach().requires_grad_(True), rather than torch.tensor(sourceTensor).\n",
            "  labels = torch.tensor(labels, dtype=torch.float32).clone().detach()#.requires_grad_(True)\n",
            "/tmp/ipykernel_4070/654079615.py:48: UserWarning: To copy construct from a tensor, it is recommended to use sourceTensor.clone().detach() or sourceTensor.clone().detach().requires_grad_(True), rather than torch.tensor(sourceTensor).\n",
            "  labels = torch.tensor(labels, dtype=torch.float32).clone().detach()#.requires_grad_(True)\n",
            "/tmp/ipykernel_4070/654079615.py:48: UserWarning: To copy construct from a tensor, it is recommended to use sourceTensor.clone().detach() or sourceTensor.clone().detach().requires_grad_(True), rather than torch.tensor(sourceTensor).\n",
            "  labels = torch.tensor(labels, dtype=torch.float32).clone().detach()#.requires_grad_(True)\n",
            "/tmp/ipykernel_4070/654079615.py:48: UserWarning: To copy construct from a tensor, it is recommended to use sourceTensor.clone().detach() or sourceTensor.clone().detach().requires_grad_(True), rather than torch.tensor(sourceTensor).\n",
            "  labels = torch.tensor(labels, dtype=torch.float32).clone().detach()#.requires_grad_(True)\n",
            "/tmp/ipykernel_4070/654079615.py:48: UserWarning: To copy construct from a tensor, it is recommended to use sourceTensor.clone().detach() or sourceTensor.clone().detach().requires_grad_(True), rather than torch.tensor(sourceTensor).\n",
            "  labels = torch.tensor(labels, dtype=torch.float32).clone().detach()#.requires_grad_(True)\n",
            "/tmp/ipykernel_4070/654079615.py:48: UserWarning: To copy construct from a tensor, it is recommended to use sourceTensor.clone().detach() or sourceTensor.clone().detach().requires_grad_(True), rather than torch.tensor(sourceTensor).\n",
            "  labels = torch.tensor(labels, dtype=torch.float32).clone().detach()#.requires_grad_(True)\n",
            "/tmp/ipykernel_4070/654079615.py:48: UserWarning: To copy construct from a tensor, it is recommended to use sourceTensor.clone().detach() or sourceTensor.clone().detach().requires_grad_(True), rather than torch.tensor(sourceTensor).\n",
            "  labels = torch.tensor(labels, dtype=torch.float32).clone().detach()#.requires_grad_(True)\n"
          ]
        },
        {
          "name": "stdout",
          "output_type": "stream",
          "text": [
            "***** train metrics *****\n",
            "  epoch                    =        5.0\n",
            "  total_flos               = 47557208GF\n",
            "  train_loss               =     0.3566\n",
            "  train_runtime            = 0:55:31.55\n",
            "  train_samples            =      33542\n",
            "  train_samples_per_second =      50.34\n",
            "  train_steps_per_second   =      3.147\n",
            "Error in callback <bound method _WandbInit._pause_backend of <wandb.sdk.wandb_init._WandbInit object at 0x7f9494448040>> (for post_run_cell), with arguments args (<ExecutionResult object at 7f94f867dd60, execution_count=30 error_before_exec=None error_in_exec=None info=<ExecutionInfo object at 7f94f867d1c0, raw_cell=\"\n",
            "# Set up the Seq2SeqTrainingArguments\n",
            "training_ar..\" store_history=True silent=False shell_futures=True cell_id=vscode-notebook-cell://ssh-remote%2Bsongcpu2.cse.ust.hk/home/zwanggy/TextGraphs17/baselines/t5.ipynb#X46sdnNjb2RlLXJlbW90ZQ%3D%3D> result=None>,),kwargs {}:\n"
          ]
        },
        {
          "ename": "TypeError",
          "evalue": "_pause_backend() takes 1 positional argument but 2 were given",
          "output_type": "error",
          "traceback": [
            "\u001b[0;31m---------------------------------------------------------------------------\u001b[0m",
            "\u001b[0;31mTypeError\u001b[0m                                 Traceback (most recent call last)",
            "\u001b[0;31mTypeError\u001b[0m: _pause_backend() takes 1 positional argument but 2 were given"
          ]
        }
      ],
      "source": [
        "\n",
        "# Set up the Seq2SeqTrainingArguments\n",
        "training_args = Seq2SeqTrainingArguments(\n",
        "    output_dir=\"./results\",\n",
        "    evaluation_strategy=\"epoch\",\n",
        "    learning_rate=1e-4,\n",
        "    per_device_train_batch_size=32,\n",
        "    per_device_eval_batch_size=32,\n",
        "    weight_decay=0.01,\n",
        "    save_total_limit=3,\n",
        "    num_train_epochs=3,\n",
        "    predict_with_generate=True,\n",
        "    fp16=True,  # Use mixed precision training\n",
        ")\n",
        "\n",
        "# Create the data collator\n",
        "data_collator = DataCollatorForSeq2Seq(\n",
        "    tokenizer=tokenizer,\n",
        "    model=model,\n",
        "    padding=\"max_length\",\n",
        "    max_length=256,\n",
        "    label_pad_token_id=tokenizer.pad_token_id,\n",
        "    return_tensors=\"pt\"\n",
        ")\n",
        "\n",
        "# Create the Seq2SeqTrainer\n",
        "trainer = Seq2SeqTrainer(\n",
        "    model=model,\n",
        "    args=training_args,\n",
        "    train_dataset=train_dataset,\n",
        "    eval_dataset=dev_dataset,\n",
        "    data_collator=data_collator,\n",
        "    tokenizer=tokenizer\n",
        ")\n",
        "\n",
        "# Train the model\n",
        "train_results = trainer.train()\n",
        "trainer.save_model()  # Saves the tokenizer too for easy upload\n",
        "\n",
        "metrics = train_results.metrics\n",
        "metrics[\"train_samples\"] = len(train_dataset)\n",
        "\n",
        "trainer.log_metrics(\"train\", metrics)\n",
        "trainer.save_metrics(\"train\", metrics)\n",
        "trainer.save_state()\n"
      ]
    },
    {
      "cell_type": "code",
      "execution_count": 31,
      "metadata": {},
      "outputs": [
        {
          "name": "stdout",
          "output_type": "stream",
          "text": [
            "Error in callback <bound method _WandbInit._resume_backend of <wandb.sdk.wandb_init._WandbInit object at 0x7f9494448040>> (for pre_run_cell), with arguments args (<ExecutionInfo object at 7f94344ad5e0, raw_cell=\"# Evaluate the model\n",
            "metrics = trainer.evaluate(de..\" store_history=True silent=False shell_futures=True cell_id=vscode-notebook-cell://ssh-remote%2Bsongcpu2.cse.ust.hk/home/zwanggy/TextGraphs17/baselines/t5.ipynb#X50sdnNjb2RlLXJlbW90ZQ%3D%3D>,),kwargs {}:\n"
          ]
        },
        {
          "ename": "TypeError",
          "evalue": "_resume_backend() takes 1 positional argument but 2 were given",
          "output_type": "error",
          "traceback": [
            "\u001b[0;31m---------------------------------------------------------------------------\u001b[0m",
            "\u001b[0;31mTypeError\u001b[0m                                 Traceback (most recent call last)",
            "\u001b[0;31mTypeError\u001b[0m: _resume_backend() takes 1 positional argument but 2 were given"
          ]
        },
        {
          "name": "stderr",
          "output_type": "stream",
          "text": [
            "/tmp/ipykernel_4070/654079615.py:48: UserWarning: To copy construct from a tensor, it is recommended to use sourceTensor.clone().detach() or sourceTensor.clone().detach().requires_grad_(True), rather than torch.tensor(sourceTensor).\n",
            "  labels = torch.tensor(labels, dtype=torch.float32).clone().detach()#.requires_grad_(True)\n"
          ]
        },
        {
          "data": {
            "text/html": [
              "\n",
              "    <div>\n",
              "      \n",
              "      <progress value='4' max='118' style='width:300px; height:20px; vertical-align: middle;'></progress>\n",
              "      [  4/118 00:00 < 00:07, 15.04 it/s]\n",
              "    </div>\n",
              "    "
            ],
            "text/plain": [
              "<IPython.core.display.HTML object>"
            ]
          },
          "metadata": {},
          "output_type": "display_data"
        },
        {
          "name": "stdout",
          "output_type": "stream",
          "text": [
            "{'eval_loss': 0.36650389432907104, 'eval_runtime': 7.875, 'eval_samples_per_second': 238.223, 'eval_steps_per_second': 14.984, 'epoch': 5.0}\n",
            "Error in callback <bound method _WandbInit._pause_backend of <wandb.sdk.wandb_init._WandbInit object at 0x7f9494448040>> (for post_run_cell), with arguments args (<ExecutionResult object at 7f94344ada30, execution_count=31 error_before_exec=None error_in_exec=None info=<ExecutionInfo object at 7f94344ad5e0, raw_cell=\"# Evaluate the model\n",
            "metrics = trainer.evaluate(de..\" store_history=True silent=False shell_futures=True cell_id=vscode-notebook-cell://ssh-remote%2Bsongcpu2.cse.ust.hk/home/zwanggy/TextGraphs17/baselines/t5.ipynb#X50sdnNjb2RlLXJlbW90ZQ%3D%3D> result=None>,),kwargs {}:\n"
          ]
        },
        {
          "ename": "TypeError",
          "evalue": "_pause_backend() takes 1 positional argument but 2 were given",
          "output_type": "error",
          "traceback": [
            "\u001b[0;31m---------------------------------------------------------------------------\u001b[0m",
            "\u001b[0;31mTypeError\u001b[0m                                 Traceback (most recent call last)",
            "\u001b[0;31mTypeError\u001b[0m: _pause_backend() takes 1 positional argument but 2 were given"
          ]
        }
      ],
      "source": [
        "# Evaluate the model\n",
        "metrics = trainer.evaluate(dev_dataset)\n",
        "print(metrics)\n"
      ]
    },
    {
      "cell_type": "code",
      "execution_count": 32,
      "metadata": {},
      "outputs": [
        {
          "name": "stdout",
          "output_type": "stream",
          "text": [
            "Error in callback <bound method _WandbInit._resume_backend of <wandb.sdk.wandb_init._WandbInit object at 0x7f9494448040>> (for pre_run_cell), with arguments args (<ExecutionInfo object at 7f94344ad2e0, raw_cell=\"\n",
            "# Generate predictions\n",
            "predictions = trainer.pred..\" store_history=True silent=False shell_futures=True cell_id=vscode-notebook-cell://ssh-remote%2Bsongcpu2.cse.ust.hk/home/zwanggy/TextGraphs17/baselines/t5.ipynb#X51sdnNjb2RlLXJlbW90ZQ%3D%3D>,),kwargs {}:\n"
          ]
        },
        {
          "ename": "TypeError",
          "evalue": "_resume_backend() takes 1 positional argument but 2 were given",
          "output_type": "error",
          "traceback": [
            "\u001b[0;31m---------------------------------------------------------------------------\u001b[0m",
            "\u001b[0;31mTypeError\u001b[0m                                 Traceback (most recent call last)",
            "\u001b[0;31mTypeError\u001b[0m: _resume_backend() takes 1 positional argument but 2 were given"
          ]
        },
        {
          "name": "stderr",
          "output_type": "stream",
          "text": [
            "/tmp/ipykernel_4070/654079615.py:48: UserWarning: To copy construct from a tensor, it is recommended to use sourceTensor.clone().detach() or sourceTensor.clone().detach().requires_grad_(True), rather than torch.tensor(sourceTensor).\n",
            "  labels = torch.tensor(labels, dtype=torch.float32).clone().detach()#.requires_grad_(True)\n",
            "/home/zwanggy/anaconda3/envs/abs_unlock/lib/python3.9/site-packages/transformers/generation/utils.py:1273: UserWarning: Using the model-agnostic default `max_length` (=20) to control the generation length. We recommend setting `max_new_tokens` to control the maximum length of the generation.\n",
            "  warnings.warn(\n"
          ]
        },
        {
          "name": "stdout",
          "output_type": "stream",
          "text": [
            "Error in callback <bound method _WandbInit._pause_backend of <wandb.sdk.wandb_init._WandbInit object at 0x7f9494448040>> (for post_run_cell), with arguments args (<ExecutionResult object at 7f94344ad1f0, execution_count=32 error_before_exec=None error_in_exec=None info=<ExecutionInfo object at 7f94344ad2e0, raw_cell=\"\n",
            "# Generate predictions\n",
            "predictions = trainer.pred..\" store_history=True silent=False shell_futures=True cell_id=vscode-notebook-cell://ssh-remote%2Bsongcpu2.cse.ust.hk/home/zwanggy/TextGraphs17/baselines/t5.ipynb#X51sdnNjb2RlLXJlbW90ZQ%3D%3D> result=None>,),kwargs {}:\n"
          ]
        },
        {
          "ename": "TypeError",
          "evalue": "_pause_backend() takes 1 positional argument but 2 were given",
          "output_type": "error",
          "traceback": [
            "\u001b[0;31m---------------------------------------------------------------------------\u001b[0m",
            "\u001b[0;31mTypeError\u001b[0m                                 Traceback (most recent call last)",
            "\u001b[0;31mTypeError\u001b[0m: _pause_backend() takes 1 positional argument but 2 were given"
          ]
        }
      ],
      "source": [
        "\n",
        "# Generate predictions\n",
        "predictions = trainer.predict(test_dataset)\n",
        "\n",
        "# Extract the predicted labels\n",
        "true_labels = predictions.label_ids\n",
        "pred_labels = predictions.predictions.argmax(-1)\n",
        "\n",
        "# Create a dataframe with the predictions\n",
        "#test_df[\"\"] = true_labels\n",
        "test_df[\"prediction\"] = pred_labels\n",
        "\n",
        "# Save the predictions to a TSV file\n",
        "test_pred_path = \"test_pred_t5_model.tsv\"\n",
        "test_df[[\"sample_id\", \"prediction\"]].to_csv(test_pred_path, sep='\\t', index=False)\n"
      ]
    },
    {
      "cell_type": "code",
      "execution_count": 98,
      "metadata": {
        "id": "i8b9mpfOniVq"
      },
      "outputs": [],
      "source": [
        "def train(model, iterator, optimizer, criterion, device,\n",
        "          train_history=None, valid_history=None, decoder_input_ids=None, decoder_attention_mask=None):\n",
        "    model.train()\n",
        "\n",
        "    epoch_loss = 0\n",
        "    history = []\n",
        "    for i, batch in enumerate(tqdm(iterator)):\n",
        "\n",
        "        optimizer.zero_grad()\n",
        "\n",
        "        input_ids = batch[\"input_ids\"].to(device)\n",
        "        attention_mask = batch[\"attention_mask\"].to(device)\n",
        "        labels = batch[\"labels\"].to(device)\n",
        "        #output = model(inputs=input_ids, attention_mask=attention_mask,).squeeze(1)\n",
        "        output = model(\n",
        "            input_ids=input_ids,\n",
        "            attention_mask=attention_mask,\n",
        "            decoder_input_ids=decoder_input_ids,\n",
        "            decoder_attention_mask=decoder_attention_mask\n",
        "        )\n",
        "        loss = criterion(output, labels)\n",
        "        loss.backward()\n",
        "        optimizer.step()\n",
        "        # scheduler.step()\n",
        "\n",
        "        epoch_loss += loss.item()\n",
        "\n",
        "        history.append(loss.cpu().data.numpy())\n",
        "\n",
        "    return epoch_loss / (i + 1)\n",
        "\n",
        "def evaluate(model, iterator, criterion, device):\n",
        "    model.eval()\n",
        "\n",
        "    epoch_loss = 0\n",
        "\n",
        "    true_labels = []\n",
        "    pred_labels = []\n",
        "\n",
        "    with torch.no_grad():\n",
        "\n",
        "        for i, batch in enumerate(iterator):\n",
        "\n",
        "            input_ids = batch[\"input_ids\"].to(device)\n",
        "            attention_mask = batch[\"attention_mask\"].to(device)\n",
        "            labels = batch[\"labels\"]\n",
        "\n",
        "            true_labels.extend(labels.cpu().numpy())\n",
        "            labels = labels.to(device)\n",
        "\n",
        "\n",
        "            output = model(inputs=input_ids, attention_mask=attention_mask,).squeeze(1)\n",
        "            pred_probas = output.cpu().numpy()\n",
        "            batch_pred_labels = (pred_probas >= 0.5) * 1\n",
        "\n",
        "            loss = criterion(output, labels)\n",
        "\n",
        "            pred_labels.extend(batch_pred_labels)\n",
        "            epoch_loss += loss.item()\n",
        "\n",
        "    valid_f1_score = f1_score(true_labels, pred_labels)\n",
        "    return epoch_loss / (i + 1), valid_f1_score\n",
        "\n",
        "def epoch_time(start_time, end_time):\n",
        "    elapsed_time = end_time - start_time\n",
        "    elapsed_mins = int(elapsed_time / 60)\n",
        "    elapsed_secs = int(elapsed_time - (elapsed_mins * 60))\n",
        "    return elapsed_mins, elapsed_secs"
      ]
    },
    {
      "cell_type": "code",
      "execution_count": null,
      "metadata": {
        "id": "65M_aYDlpln9"
      },
      "outputs": [],
      "source": []
    },
    {
      "cell_type": "code",
      "execution_count": 99,
      "metadata": {
        "id": "dJf1NgzxcGIp"
      },
      "outputs": [],
      "source": [
        "import time\n",
        "import math\n",
        "import matplotlib\n",
        "matplotlib.rcParams.update({'figure.figsize': (16, 12), 'font.size': 14})\n",
        "import matplotlib.pyplot as plt\n",
        "%matplotlib inline\n",
        "from IPython.display import clear_output"
      ]
    },
    {
      "cell_type": "code",
      "execution_count": 100,
      "metadata": {
        "id": "5LUN9l3masQd"
      },
      "outputs": [],
      "source": [
        "def train_evaluate(bert_classifier, train_loader, dev_loader, optimizer, criterion, n_epochs,  checkpoint_fname, device):\n",
        "    train_history = []\n",
        "    valid_history = []\n",
        "    valid_history_f1 = []\n",
        "\n",
        "    best_valid_loss = float('inf')\n",
        "    best_f1_score = 0.0\n",
        "\n",
        "    for epoch in range(n_epochs):\n",
        "\n",
        "        start_time = time.time()\n",
        "\n",
        "        train_loss = train(bert_classifier, train_loader, optimizer, criterion, device, train_history, valid_history, )\n",
        "        valid_loss, valid_f1_score = evaluate(bert_classifier, dev_loader, criterion, device)\n",
        "\n",
        "        end_time = time.time()\n",
        "\n",
        "        epoch_mins, epoch_secs = epoch_time(start_time, end_time)\n",
        "\n",
        "        train_history.append(train_loss)\n",
        "        valid_history.append(valid_loss)\n",
        "        valid_history_f1.append(valid_f1_score)\n",
        "\n",
        "        fig, ax = plt.subplots(nrows=1, ncols=2, figsize=(12, 8))\n",
        "\n",
        "        clear_output(True)\n",
        "        ax[0].plot(valid_history_f1, label='Val f1-score')\n",
        "        ax[0].set_xlabel('Epoch')\n",
        "        ax[0].set_title('Val f1-score')\n",
        "\n",
        "        ax[1].plot(train_history, label='general train history')\n",
        "        ax[1].set_xlabel('Epoch')\n",
        "        ax[1].plot(valid_history, label='general valid history')\n",
        "\n",
        "        plt.legend()\n",
        "        plt.show()\n",
        "\n",
        "        if valid_f1_score > best_f1_score:\n",
        "            best_f1_score = valid_f1_score\n",
        "            torch.save(bert_classifier.state_dict(), f'best-val-{checkpoint_fname}.pt')\n",
        "\n",
        "        print(f'Epoch: {epoch+1:02} | Time: {epoch_mins}m {epoch_secs}s')\n",
        "        print(f'\\tTrain Loss: {train_loss:.3f}')\n",
        "        print(f'\\t Val. Loss: {valid_loss:.3f} |  Val. F1: {valid_f1_score:.3f}')"
      ]
    },
    {
      "cell_type": "code",
      "execution_count": 101,
      "metadata": {
        "id": "64mMbvBGplqx"
      },
      "outputs": [],
      "source": [
        "def predict(model, data_loader, device):\n",
        "    true_labels = []\n",
        "    pred_labels = []\n",
        "\n",
        "    model.eval()\n",
        "    with torch.no_grad():\n",
        "        for i, batch in enumerate(data_loader):\n",
        "            input_ids = batch[\"input_ids\"].to(device)\n",
        "            attention_mask = batch[\"attention_mask\"].to(device)\n",
        "            batch_true_labels = batch[\"labels\"].cpu().numpy()\n",
        "\n",
        "\n",
        "            pred_probas = model(inputs=input_ids, attention_mask=attention_mask,).squeeze(1)\n",
        "            pred_probas = pred_probas.cpu().numpy()\n",
        "\n",
        "            batch_pred_labels = (pred_probas >= 0.5) * 1\n",
        "\n",
        "            pred_labels.extend(batch_pred_labels)\n",
        "            true_labels.extend(batch_true_labels)\n",
        "    return true_labels, pred_labels"
      ]
    },
    {
      "cell_type": "code",
      "execution_count": 102,
      "metadata": {
        "id": "mIf1LjY-qCpl"
      },
      "outputs": [],
      "source": [
        "class BertSimpleClassifier(nn.Module):\n",
        "    def __init__(self, bert_text_encoder, dropout=0.1):\n",
        "        super().__init__()\n",
        "\n",
        "        self.bert_text_encoder = bert_text_encoder\n",
        "        self.dropout = nn.Dropout(p=dropout)\n",
        "        bert_hidden_dim = bert_text_encoder.config.hidden_size\n",
        "\n",
        "        self.classifier = nn.Sequential(\n",
        "            nn.Dropout(p=dropout),\n",
        "            nn.ReLU(),\n",
        "            nn.Linear(bert_hidden_dim, bert_hidden_dim),\n",
        "            nn.Dropout(p=dropout),\n",
        "            nn.ReLU(),\n",
        "            nn.Linear(bert_hidden_dim, 1),\n",
        "        )\n",
        "\n",
        "\n",
        "    def forward(self, inputs, attention_mask,):\n",
        "        last_hidden_states = self.bert_text_encoder(inputs, attention_mask=attention_mask,\n",
        "                                                    return_dict=True)['last_hidden_state']\n",
        "        text_cls_embeddings = torch.stack([elem[0, :] for elem in last_hidden_states])\n",
        "        proba = self.classifier(text_cls_embeddings)\n",
        "        return proba"
      ]
    },
    {
      "cell_type": "code",
      "execution_count": 103,
      "metadata": {
        "id": "TQbr6RZrqCsY"
      },
      "outputs": [],
      "source": [
        "class T5SimpleClassifier(nn.Module):\n",
        "    def __init__(self, t5_text_encoder, dropout=0.1):\n",
        "        super().__init__()\n",
        "\n",
        "        self.t5_text_encoder = t5_text_encoder\n",
        "        self.dropout = nn.Dropout(p=dropout)\n",
        "        t5_hidden_dim = t5_text_encoder.config.d_model\n",
        "\n",
        "        self.classifier = nn.Sequential(\n",
        "            nn.Dropout(p=dropout),\n",
        "            nn.ReLU(),\n",
        "            nn.Linear(t5_hidden_dim, t5_hidden_dim),\n",
        "            nn.Dropout(p=dropout),\n",
        "            nn.ReLU(),\n",
        "            nn.Linear(t5_hidden_dim, 1),\n",
        "        )\n",
        "\n",
        "    def forward(self, input_ids, attention_mask, decoder_input_ids=None, decoder_attention_mask=None):\n",
        "        # Encoder forward pass\n",
        "        encoder_output = self.t5_text_encoder(\n",
        "            input_ids=input_ids,\n",
        "            attention_mask=attention_mask,\n",
        "            return_dict=True\n",
        "        )\n",
        "        text_cls_embeddings = torch.stack([elem[:, 0, :] for elem in encoder_output.last_hidden_state])\n",
        "\n",
        "        # Decoder forward pass (optional)\n",
        "        if decoder_input_ids is not None and decoder_attention_mask is not None:\n",
        "            decoder_output = self.t5_text_encoder(\n",
        "                input_ids=decoder_input_ids,\n",
        "                attention_mask=decoder_attention_mask,\n",
        "                encoder_hidden_states=encoder_output.last_hidden_state,\n",
        "                return_dict=True\n",
        "            )\n",
        "            text_cls_embeddings = decoder_output.last_hidden_state[:, 0, :]\n",
        "\n",
        "        # Classification head\n",
        "        proba = self.classifier(text_cls_embeddings)\n",
        "        return proba"
      ]
    },
    {
      "cell_type": "code",
      "execution_count": 104,
      "metadata": {
        "id": "5eVDSwqqfCxW"
      },
      "outputs": [],
      "source": [
        "N_EPOCHS = 5\n",
        "DROPOUT = 0.2"
      ]
    },
    {
      "cell_type": "code",
      "execution_count": 105,
      "metadata": {
        "id": "xbVhbGTIfDMH"
      },
      "outputs": [],
      "source": [
        "bert_simple_clf = T5SimpleClassifier(bert_model, dropout=DROPOUT).to(device)\n",
        "optimizer = optim.Adam(bert_simple_clf.parameters(), lr=3e-5)\n",
        "criterion = nn.BCEWithLogitsLoss().to(device)"
      ]
    },
    {
      "cell_type": "code",
      "execution_count": 106,
      "metadata": {
        "id": "RK7jKSfSHi-D"
      },
      "outputs": [],
      "source": [
        "class_counts = train_df[\"label\"].value_counts()\n",
        "pos_weight = class_counts[0] / class_counts[1]\n",
        "\n",
        "pos_weight = torch.FloatTensor([pos_weight, ]).to(device)\n",
        "criterion = nn.BCEWithLogitsLoss(pos_weight=pos_weight).to(device)"
      ]
    },
    {
      "cell_type": "code",
      "execution_count": 107,
      "metadata": {
        "colab": {
          "base_uri": "https://localhost:8080/",
          "height": 784
        },
        "id": "Y4GsPWI3wN_4",
        "outputId": "80ffeefe-2fcb-4540-ee30-31334a57d680"
      },
      "outputs": [
        {
          "name": "stderr",
          "output_type": "stream",
          "text": [
            "  0%|          | 0/524 [00:00<?, ?it/s]"
          ]
        },
        {
          "name": "stderr",
          "output_type": "stream",
          "text": [
            "/tmp/ipykernel_8380/654079615.py:48: UserWarning: To copy construct from a tensor, it is recommended to use sourceTensor.clone().detach() or sourceTensor.clone().detach().requires_grad_(True), rather than torch.tensor(sourceTensor).\n",
            "  labels = torch.tensor(labels, dtype=torch.float32).clone().detach()#.requires_grad_(True)\n",
            "  0%|          | 0/524 [00:00<?, ?it/s]\n"
          ]
        },
        {
          "ename": "ValueError",
          "evalue": "You have to specify either decoder_input_ids or decoder_inputs_embeds",
          "output_type": "error",
          "traceback": [
            "\u001b[0;31m---------------------------------------------------------------------------\u001b[0m",
            "\u001b[0;31mValueError\u001b[0m                                Traceback (most recent call last)",
            "Cell \u001b[0;32mIn[107], line 1\u001b[0m\n\u001b[0;32m----> 1\u001b[0m \u001b[43mtrain_evaluate\u001b[49m\u001b[43m(\u001b[49m\u001b[43mbert_simple_clf\u001b[49m\u001b[43m,\u001b[49m\u001b[43m \u001b[49m\u001b[43mtrain_loader\u001b[49m\u001b[43m,\u001b[49m\u001b[43m \u001b[49m\u001b[43mdev_loader\u001b[49m\u001b[43m,\u001b[49m\u001b[43m \u001b[49m\u001b[43moptimizer\u001b[49m\u001b[43m,\u001b[49m\n\u001b[1;32m      2\u001b[0m \u001b[43m               \u001b[49m\u001b[43mcriterion\u001b[49m\u001b[43m,\u001b[49m\u001b[43m \u001b[49m\u001b[43mN_EPOCHS\u001b[49m\u001b[43m,\u001b[49m\u001b[43m \u001b[49m\u001b[38;5;124;43m\"\u001b[39;49m\u001b[38;5;124;43mtext_only_baseline\u001b[39;49m\u001b[38;5;124;43m\"\u001b[39;49m\u001b[43m,\u001b[49m\u001b[43m \u001b[49m\u001b[43mdevice\u001b[49m\u001b[43m)\u001b[49m\n",
            "Cell \u001b[0;32mIn[100], line 13\u001b[0m, in \u001b[0;36mtrain_evaluate\u001b[0;34m(bert_classifier, train_loader, dev_loader, optimizer, criterion, n_epochs, checkpoint_fname, device)\u001b[0m\n\u001b[1;32m      9\u001b[0m \u001b[38;5;28;01mfor\u001b[39;00m epoch \u001b[38;5;129;01min\u001b[39;00m \u001b[38;5;28mrange\u001b[39m(n_epochs):\n\u001b[1;32m     11\u001b[0m     start_time \u001b[38;5;241m=\u001b[39m time\u001b[38;5;241m.\u001b[39mtime()\n\u001b[0;32m---> 13\u001b[0m     train_loss \u001b[38;5;241m=\u001b[39m \u001b[43mtrain\u001b[49m\u001b[43m(\u001b[49m\u001b[43mbert_classifier\u001b[49m\u001b[43m,\u001b[49m\u001b[43m \u001b[49m\u001b[43mtrain_loader\u001b[49m\u001b[43m,\u001b[49m\u001b[43m \u001b[49m\u001b[43moptimizer\u001b[49m\u001b[43m,\u001b[49m\u001b[43m \u001b[49m\u001b[43mcriterion\u001b[49m\u001b[43m,\u001b[49m\u001b[43m \u001b[49m\u001b[43mdevice\u001b[49m\u001b[43m,\u001b[49m\u001b[43m \u001b[49m\u001b[43mtrain_history\u001b[49m\u001b[43m,\u001b[49m\u001b[43m \u001b[49m\u001b[43mvalid_history\u001b[49m\u001b[43m,\u001b[49m\u001b[43m \u001b[49m\u001b[43m)\u001b[49m\n\u001b[1;32m     14\u001b[0m     valid_loss, valid_f1_score \u001b[38;5;241m=\u001b[39m evaluate(bert_classifier, dev_loader, criterion, device)\n\u001b[1;32m     16\u001b[0m     end_time \u001b[38;5;241m=\u001b[39m time\u001b[38;5;241m.\u001b[39mtime()\n",
            "Cell \u001b[0;32mIn[98], line 15\u001b[0m, in \u001b[0;36mtrain\u001b[0;34m(model, iterator, optimizer, criterion, device, train_history, valid_history, decoder_input_ids, decoder_attention_mask)\u001b[0m\n\u001b[1;32m     13\u001b[0m labels \u001b[38;5;241m=\u001b[39m batch[\u001b[38;5;124m\"\u001b[39m\u001b[38;5;124mlabels\u001b[39m\u001b[38;5;124m\"\u001b[39m]\u001b[38;5;241m.\u001b[39mto(device)\n\u001b[1;32m     14\u001b[0m \u001b[38;5;66;03m#output = model(inputs=input_ids, attention_mask=attention_mask,).squeeze(1)\u001b[39;00m\n\u001b[0;32m---> 15\u001b[0m output \u001b[38;5;241m=\u001b[39m \u001b[43mmodel\u001b[49m\u001b[43m(\u001b[49m\n\u001b[1;32m     16\u001b[0m \u001b[43m    \u001b[49m\u001b[43minput_ids\u001b[49m\u001b[38;5;241;43m=\u001b[39;49m\u001b[43minput_ids\u001b[49m\u001b[43m,\u001b[49m\n\u001b[1;32m     17\u001b[0m \u001b[43m    \u001b[49m\u001b[43mattention_mask\u001b[49m\u001b[38;5;241;43m=\u001b[39;49m\u001b[43mattention_mask\u001b[49m\u001b[43m,\u001b[49m\n\u001b[1;32m     18\u001b[0m \u001b[43m    \u001b[49m\u001b[43mdecoder_input_ids\u001b[49m\u001b[38;5;241;43m=\u001b[39;49m\u001b[43mdecoder_input_ids\u001b[49m\u001b[43m,\u001b[49m\n\u001b[1;32m     19\u001b[0m \u001b[43m    \u001b[49m\u001b[43mdecoder_attention_mask\u001b[49m\u001b[38;5;241;43m=\u001b[39;49m\u001b[43mdecoder_attention_mask\u001b[49m\n\u001b[1;32m     20\u001b[0m \u001b[43m\u001b[49m\u001b[43m)\u001b[49m\n\u001b[1;32m     21\u001b[0m loss \u001b[38;5;241m=\u001b[39m criterion(output, labels)\n\u001b[1;32m     22\u001b[0m loss\u001b[38;5;241m.\u001b[39mbackward()\n",
            "File \u001b[0;32m~/anaconda3/envs/abs_unlock/lib/python3.9/site-packages/torch/nn/modules/module.py:1501\u001b[0m, in \u001b[0;36mModule._call_impl\u001b[0;34m(self, *args, **kwargs)\u001b[0m\n\u001b[1;32m   1496\u001b[0m \u001b[38;5;66;03m# If we don't have any hooks, we want to skip the rest of the logic in\u001b[39;00m\n\u001b[1;32m   1497\u001b[0m \u001b[38;5;66;03m# this function, and just call forward.\u001b[39;00m\n\u001b[1;32m   1498\u001b[0m \u001b[38;5;28;01mif\u001b[39;00m \u001b[38;5;129;01mnot\u001b[39;00m (\u001b[38;5;28mself\u001b[39m\u001b[38;5;241m.\u001b[39m_backward_hooks \u001b[38;5;129;01mor\u001b[39;00m \u001b[38;5;28mself\u001b[39m\u001b[38;5;241m.\u001b[39m_backward_pre_hooks \u001b[38;5;129;01mor\u001b[39;00m \u001b[38;5;28mself\u001b[39m\u001b[38;5;241m.\u001b[39m_forward_hooks \u001b[38;5;129;01mor\u001b[39;00m \u001b[38;5;28mself\u001b[39m\u001b[38;5;241m.\u001b[39m_forward_pre_hooks\n\u001b[1;32m   1499\u001b[0m         \u001b[38;5;129;01mor\u001b[39;00m _global_backward_pre_hooks \u001b[38;5;129;01mor\u001b[39;00m _global_backward_hooks\n\u001b[1;32m   1500\u001b[0m         \u001b[38;5;129;01mor\u001b[39;00m _global_forward_hooks \u001b[38;5;129;01mor\u001b[39;00m _global_forward_pre_hooks):\n\u001b[0;32m-> 1501\u001b[0m     \u001b[38;5;28;01mreturn\u001b[39;00m \u001b[43mforward_call\u001b[49m\u001b[43m(\u001b[49m\u001b[38;5;241;43m*\u001b[39;49m\u001b[43margs\u001b[49m\u001b[43m,\u001b[49m\u001b[43m \u001b[49m\u001b[38;5;241;43m*\u001b[39;49m\u001b[38;5;241;43m*\u001b[39;49m\u001b[43mkwargs\u001b[49m\u001b[43m)\u001b[49m\n\u001b[1;32m   1502\u001b[0m \u001b[38;5;66;03m# Do not call functions when jit is used\u001b[39;00m\n\u001b[1;32m   1503\u001b[0m full_backward_hooks, non_full_backward_hooks \u001b[38;5;241m=\u001b[39m [], []\n",
            "Cell \u001b[0;32mIn[103], line 20\u001b[0m, in \u001b[0;36mT5SimpleClassifier.forward\u001b[0;34m(self, input_ids, attention_mask, decoder_input_ids, decoder_attention_mask)\u001b[0m\n\u001b[1;32m     18\u001b[0m \u001b[38;5;28;01mdef\u001b[39;00m \u001b[38;5;21mforward\u001b[39m(\u001b[38;5;28mself\u001b[39m, input_ids, attention_mask, decoder_input_ids\u001b[38;5;241m=\u001b[39m\u001b[38;5;28;01mNone\u001b[39;00m, decoder_attention_mask\u001b[38;5;241m=\u001b[39m\u001b[38;5;28;01mNone\u001b[39;00m):\n\u001b[1;32m     19\u001b[0m     \u001b[38;5;66;03m# Encoder forward pass\u001b[39;00m\n\u001b[0;32m---> 20\u001b[0m     encoder_output \u001b[38;5;241m=\u001b[39m \u001b[38;5;28;43mself\u001b[39;49m\u001b[38;5;241;43m.\u001b[39;49m\u001b[43mt5_text_encoder\u001b[49m\u001b[43m(\u001b[49m\n\u001b[1;32m     21\u001b[0m \u001b[43m        \u001b[49m\u001b[43minput_ids\u001b[49m\u001b[38;5;241;43m=\u001b[39;49m\u001b[43minput_ids\u001b[49m\u001b[43m,\u001b[49m\n\u001b[1;32m     22\u001b[0m \u001b[43m        \u001b[49m\u001b[43mattention_mask\u001b[49m\u001b[38;5;241;43m=\u001b[39;49m\u001b[43mattention_mask\u001b[49m\u001b[43m,\u001b[49m\n\u001b[1;32m     23\u001b[0m \u001b[43m        \u001b[49m\u001b[43mreturn_dict\u001b[49m\u001b[38;5;241;43m=\u001b[39;49m\u001b[38;5;28;43;01mTrue\u001b[39;49;00m\n\u001b[1;32m     24\u001b[0m \u001b[43m    \u001b[49m\u001b[43m)\u001b[49m\n\u001b[1;32m     25\u001b[0m     text_cls_embeddings \u001b[38;5;241m=\u001b[39m torch\u001b[38;5;241m.\u001b[39mstack([elem[:, \u001b[38;5;241m0\u001b[39m, :] \u001b[38;5;28;01mfor\u001b[39;00m elem \u001b[38;5;129;01min\u001b[39;00m encoder_output\u001b[38;5;241m.\u001b[39mlast_hidden_state])\n\u001b[1;32m     27\u001b[0m     \u001b[38;5;66;03m# Decoder forward pass (optional)\u001b[39;00m\n",
            "File \u001b[0;32m~/anaconda3/envs/abs_unlock/lib/python3.9/site-packages/torch/nn/modules/module.py:1501\u001b[0m, in \u001b[0;36mModule._call_impl\u001b[0;34m(self, *args, **kwargs)\u001b[0m\n\u001b[1;32m   1496\u001b[0m \u001b[38;5;66;03m# If we don't have any hooks, we want to skip the rest of the logic in\u001b[39;00m\n\u001b[1;32m   1497\u001b[0m \u001b[38;5;66;03m# this function, and just call forward.\u001b[39;00m\n\u001b[1;32m   1498\u001b[0m \u001b[38;5;28;01mif\u001b[39;00m \u001b[38;5;129;01mnot\u001b[39;00m (\u001b[38;5;28mself\u001b[39m\u001b[38;5;241m.\u001b[39m_backward_hooks \u001b[38;5;129;01mor\u001b[39;00m \u001b[38;5;28mself\u001b[39m\u001b[38;5;241m.\u001b[39m_backward_pre_hooks \u001b[38;5;129;01mor\u001b[39;00m \u001b[38;5;28mself\u001b[39m\u001b[38;5;241m.\u001b[39m_forward_hooks \u001b[38;5;129;01mor\u001b[39;00m \u001b[38;5;28mself\u001b[39m\u001b[38;5;241m.\u001b[39m_forward_pre_hooks\n\u001b[1;32m   1499\u001b[0m         \u001b[38;5;129;01mor\u001b[39;00m _global_backward_pre_hooks \u001b[38;5;129;01mor\u001b[39;00m _global_backward_hooks\n\u001b[1;32m   1500\u001b[0m         \u001b[38;5;129;01mor\u001b[39;00m _global_forward_hooks \u001b[38;5;129;01mor\u001b[39;00m _global_forward_pre_hooks):\n\u001b[0;32m-> 1501\u001b[0m     \u001b[38;5;28;01mreturn\u001b[39;00m \u001b[43mforward_call\u001b[49m\u001b[43m(\u001b[49m\u001b[38;5;241;43m*\u001b[39;49m\u001b[43margs\u001b[49m\u001b[43m,\u001b[49m\u001b[43m \u001b[49m\u001b[38;5;241;43m*\u001b[39;49m\u001b[38;5;241;43m*\u001b[39;49m\u001b[43mkwargs\u001b[49m\u001b[43m)\u001b[49m\n\u001b[1;32m   1502\u001b[0m \u001b[38;5;66;03m# Do not call functions when jit is used\u001b[39;00m\n\u001b[1;32m   1503\u001b[0m full_backward_hooks, non_full_backward_hooks \u001b[38;5;241m=\u001b[39m [], []\n",
            "File \u001b[0;32m~/anaconda3/envs/abs_unlock/lib/python3.9/site-packages/transformers/models/t5/modeling_t5.py:1746\u001b[0m, in \u001b[0;36mT5ForConditionalGeneration.forward\u001b[0;34m(self, input_ids, attention_mask, decoder_input_ids, decoder_attention_mask, head_mask, decoder_head_mask, cross_attn_head_mask, encoder_outputs, past_key_values, inputs_embeds, decoder_inputs_embeds, labels, use_cache, output_attentions, output_hidden_states, return_dict)\u001b[0m\n\u001b[1;32m   1743\u001b[0m         decoder_attention_mask \u001b[38;5;241m=\u001b[39m decoder_attention_mask\u001b[38;5;241m.\u001b[39mto(\u001b[38;5;28mself\u001b[39m\u001b[38;5;241m.\u001b[39mdecoder\u001b[38;5;241m.\u001b[39mfirst_device)\n\u001b[1;32m   1745\u001b[0m \u001b[38;5;66;03m# Decode\u001b[39;00m\n\u001b[0;32m-> 1746\u001b[0m decoder_outputs \u001b[38;5;241m=\u001b[39m \u001b[38;5;28;43mself\u001b[39;49m\u001b[38;5;241;43m.\u001b[39;49m\u001b[43mdecoder\u001b[49m\u001b[43m(\u001b[49m\n\u001b[1;32m   1747\u001b[0m \u001b[43m    \u001b[49m\u001b[43minput_ids\u001b[49m\u001b[38;5;241;43m=\u001b[39;49m\u001b[43mdecoder_input_ids\u001b[49m\u001b[43m,\u001b[49m\n\u001b[1;32m   1748\u001b[0m \u001b[43m    \u001b[49m\u001b[43mattention_mask\u001b[49m\u001b[38;5;241;43m=\u001b[39;49m\u001b[43mdecoder_attention_mask\u001b[49m\u001b[43m,\u001b[49m\n\u001b[1;32m   1749\u001b[0m \u001b[43m    \u001b[49m\u001b[43minputs_embeds\u001b[49m\u001b[38;5;241;43m=\u001b[39;49m\u001b[43mdecoder_inputs_embeds\u001b[49m\u001b[43m,\u001b[49m\n\u001b[1;32m   1750\u001b[0m \u001b[43m    \u001b[49m\u001b[43mpast_key_values\u001b[49m\u001b[38;5;241;43m=\u001b[39;49m\u001b[43mpast_key_values\u001b[49m\u001b[43m,\u001b[49m\n\u001b[1;32m   1751\u001b[0m \u001b[43m    \u001b[49m\u001b[43mencoder_hidden_states\u001b[49m\u001b[38;5;241;43m=\u001b[39;49m\u001b[43mhidden_states\u001b[49m\u001b[43m,\u001b[49m\n\u001b[1;32m   1752\u001b[0m \u001b[43m    \u001b[49m\u001b[43mencoder_attention_mask\u001b[49m\u001b[38;5;241;43m=\u001b[39;49m\u001b[43mattention_mask\u001b[49m\u001b[43m,\u001b[49m\n\u001b[1;32m   1753\u001b[0m \u001b[43m    \u001b[49m\u001b[43mhead_mask\u001b[49m\u001b[38;5;241;43m=\u001b[39;49m\u001b[43mdecoder_head_mask\u001b[49m\u001b[43m,\u001b[49m\n\u001b[1;32m   1754\u001b[0m \u001b[43m    \u001b[49m\u001b[43mcross_attn_head_mask\u001b[49m\u001b[38;5;241;43m=\u001b[39;49m\u001b[43mcross_attn_head_mask\u001b[49m\u001b[43m,\u001b[49m\n\u001b[1;32m   1755\u001b[0m \u001b[43m    \u001b[49m\u001b[43muse_cache\u001b[49m\u001b[38;5;241;43m=\u001b[39;49m\u001b[43muse_cache\u001b[49m\u001b[43m,\u001b[49m\n\u001b[1;32m   1756\u001b[0m \u001b[43m    \u001b[49m\u001b[43moutput_attentions\u001b[49m\u001b[38;5;241;43m=\u001b[39;49m\u001b[43moutput_attentions\u001b[49m\u001b[43m,\u001b[49m\n\u001b[1;32m   1757\u001b[0m \u001b[43m    \u001b[49m\u001b[43moutput_hidden_states\u001b[49m\u001b[38;5;241;43m=\u001b[39;49m\u001b[43moutput_hidden_states\u001b[49m\u001b[43m,\u001b[49m\n\u001b[1;32m   1758\u001b[0m \u001b[43m    \u001b[49m\u001b[43mreturn_dict\u001b[49m\u001b[38;5;241;43m=\u001b[39;49m\u001b[43mreturn_dict\u001b[49m\u001b[43m,\u001b[49m\n\u001b[1;32m   1759\u001b[0m \u001b[43m\u001b[49m\u001b[43m)\u001b[49m\n\u001b[1;32m   1761\u001b[0m sequence_output \u001b[38;5;241m=\u001b[39m decoder_outputs[\u001b[38;5;241m0\u001b[39m]\n\u001b[1;32m   1763\u001b[0m \u001b[38;5;66;03m# Set device for model parallelism\u001b[39;00m\n",
            "File \u001b[0;32m~/anaconda3/envs/abs_unlock/lib/python3.9/site-packages/torch/nn/modules/module.py:1501\u001b[0m, in \u001b[0;36mModule._call_impl\u001b[0;34m(self, *args, **kwargs)\u001b[0m\n\u001b[1;32m   1496\u001b[0m \u001b[38;5;66;03m# If we don't have any hooks, we want to skip the rest of the logic in\u001b[39;00m\n\u001b[1;32m   1497\u001b[0m \u001b[38;5;66;03m# this function, and just call forward.\u001b[39;00m\n\u001b[1;32m   1498\u001b[0m \u001b[38;5;28;01mif\u001b[39;00m \u001b[38;5;129;01mnot\u001b[39;00m (\u001b[38;5;28mself\u001b[39m\u001b[38;5;241m.\u001b[39m_backward_hooks \u001b[38;5;129;01mor\u001b[39;00m \u001b[38;5;28mself\u001b[39m\u001b[38;5;241m.\u001b[39m_backward_pre_hooks \u001b[38;5;129;01mor\u001b[39;00m \u001b[38;5;28mself\u001b[39m\u001b[38;5;241m.\u001b[39m_forward_hooks \u001b[38;5;129;01mor\u001b[39;00m \u001b[38;5;28mself\u001b[39m\u001b[38;5;241m.\u001b[39m_forward_pre_hooks\n\u001b[1;32m   1499\u001b[0m         \u001b[38;5;129;01mor\u001b[39;00m _global_backward_pre_hooks \u001b[38;5;129;01mor\u001b[39;00m _global_backward_hooks\n\u001b[1;32m   1500\u001b[0m         \u001b[38;5;129;01mor\u001b[39;00m _global_forward_hooks \u001b[38;5;129;01mor\u001b[39;00m _global_forward_pre_hooks):\n\u001b[0;32m-> 1501\u001b[0m     \u001b[38;5;28;01mreturn\u001b[39;00m \u001b[43mforward_call\u001b[49m\u001b[43m(\u001b[49m\u001b[38;5;241;43m*\u001b[39;49m\u001b[43margs\u001b[49m\u001b[43m,\u001b[49m\u001b[43m \u001b[49m\u001b[38;5;241;43m*\u001b[39;49m\u001b[38;5;241;43m*\u001b[39;49m\u001b[43mkwargs\u001b[49m\u001b[43m)\u001b[49m\n\u001b[1;32m   1502\u001b[0m \u001b[38;5;66;03m# Do not call functions when jit is used\u001b[39;00m\n\u001b[1;32m   1503\u001b[0m full_backward_hooks, non_full_backward_hooks \u001b[38;5;241m=\u001b[39m [], []\n",
            "File \u001b[0;32m~/anaconda3/envs/abs_unlock/lib/python3.9/site-packages/transformers/models/t5/modeling_t5.py:1011\u001b[0m, in \u001b[0;36mT5Stack.forward\u001b[0;34m(self, input_ids, attention_mask, encoder_hidden_states, encoder_attention_mask, inputs_embeds, head_mask, cross_attn_head_mask, past_key_values, use_cache, output_attentions, output_hidden_states, return_dict)\u001b[0m\n\u001b[1;32m   1009\u001b[0m \u001b[38;5;28;01melse\u001b[39;00m:\n\u001b[1;32m   1010\u001b[0m     err_msg_prefix \u001b[38;5;241m=\u001b[39m \u001b[38;5;124m\"\u001b[39m\u001b[38;5;124mdecoder_\u001b[39m\u001b[38;5;124m\"\u001b[39m \u001b[38;5;28;01mif\u001b[39;00m \u001b[38;5;28mself\u001b[39m\u001b[38;5;241m.\u001b[39mis_decoder \u001b[38;5;28;01melse\u001b[39;00m \u001b[38;5;124m\"\u001b[39m\u001b[38;5;124m\"\u001b[39m\n\u001b[0;32m-> 1011\u001b[0m     \u001b[38;5;28;01mraise\u001b[39;00m \u001b[38;5;167;01mValueError\u001b[39;00m(\u001b[38;5;124mf\u001b[39m\u001b[38;5;124m\"\u001b[39m\u001b[38;5;124mYou have to specify either \u001b[39m\u001b[38;5;132;01m{\u001b[39;00merr_msg_prefix\u001b[38;5;132;01m}\u001b[39;00m\u001b[38;5;124minput_ids or \u001b[39m\u001b[38;5;132;01m{\u001b[39;00merr_msg_prefix\u001b[38;5;132;01m}\u001b[39;00m\u001b[38;5;124minputs_embeds\u001b[39m\u001b[38;5;124m\"\u001b[39m)\n\u001b[1;32m   1013\u001b[0m \u001b[38;5;28;01mif\u001b[39;00m inputs_embeds \u001b[38;5;129;01mis\u001b[39;00m \u001b[38;5;28;01mNone\u001b[39;00m:\n\u001b[1;32m   1014\u001b[0m     \u001b[38;5;28;01mif\u001b[39;00m \u001b[38;5;28mself\u001b[39m\u001b[38;5;241m.\u001b[39membed_tokens \u001b[38;5;129;01mis\u001b[39;00m \u001b[38;5;28;01mNone\u001b[39;00m:\n",
            "\u001b[0;31mValueError\u001b[0m: You have to specify either decoder_input_ids or decoder_inputs_embeds"
          ]
        }
      ],
      "source": [
        "train_evaluate(bert_simple_clf, train_loader, dev_loader, optimizer,\n",
        "               criterion, N_EPOCHS, \"text_only_baseline\", device)"
      ]
    },
    {
      "cell_type": "code",
      "execution_count": null,
      "metadata": {
        "colab": {
          "base_uri": "https://localhost:8080/"
        },
        "id": "wdydaSpIwOB8",
        "outputId": "50db0f58-6ca5-4f2c-a35c-4970bd5f3279"
      },
      "outputs": [],
      "source": [
        "bert_simple_clf.load_state_dict(torch.load('best-val-text_only_baseline.pt'))"
      ]
    },
    {
      "cell_type": "markdown",
      "metadata": {
        "id": "Wlamg50cA3ez"
      },
      "source": [
        "### Evaluation on dev set"
      ]
    },
    {
      "cell_type": "code",
      "execution_count": null,
      "metadata": {
        "colab": {
          "base_uri": "https://localhost:8080/"
        },
        "id": "Qzjnd3xPbLTF",
        "outputId": "ce08cffd-ac70-4dcc-9acd-f53882efd965"
      },
      "outputs": [],
      "source": [
        "true_labels, pred_labels = predict(bert_simple_clf, dev_loader, device)\n",
        "print(f\"{precision_score(true_labels, pred_labels)},{recall_score(true_labels, pred_labels)},{f1_score(true_labels, pred_labels)}\")"
      ]
    },
    {
      "cell_type": "markdown",
      "metadata": {
        "id": "fWPJAuNoAy_X"
      },
      "source": [
        "### Prediction on test set"
      ]
    },
    {
      "cell_type": "code",
      "execution_count": null,
      "metadata": {
        "id": "jGdeCxifbLVR"
      },
      "outputs": [],
      "source": [
        "true_labels, pred_labels = predict(bert_simple_clf, test_loader, device)\n",
        "# print(f\"{precision_score(true_labels, pred_labels)},{recall_score(true_labels, pred_labels)},{f1_score(true_labels, pred_labels)}\")\n"
      ]
    },
    {
      "cell_type": "code",
      "execution_count": null,
      "metadata": {
        "id": "1-8RUJAHCQfe"
      },
      "outputs": [],
      "source": [
        "test_df[\"true_y\"] = true_labels\n",
        "test_df[\"prediction\"] = pred_labels\n"
      ]
    },
    {
      "cell_type": "code",
      "execution_count": null,
      "metadata": {
        "id": "5c_Z9ByeB2lT"
      },
      "outputs": [],
      "source": [
        "test_pred_path = \"test_pred_mpnet_nograph_baseline.tsv\"\n",
        "# test_df.to_csv(test_pred_path, sep='\\t', index=False)\n",
        "test_df[[\"sample_id\", \"prediction\"]].to_csv(test_pred_path, sep='\\t', index=False)"
      ]
    },
    {
      "cell_type": "markdown",
      "metadata": {
        "id": "dxjDmdljd5D9"
      },
      "source": [
        "## Linearized graph baseline"
      ]
    },
    {
      "cell_type": "code",
      "execution_count": null,
      "metadata": {
        "id": "_IjjZp1kXR7Y"
      },
      "outputs": [],
      "source": [
        "SEP_TOKEN = tokenizer.sep_token"
      ]
    },
    {
      "cell_type": "code",
      "execution_count": null,
      "metadata": {
        "id": "UDtkFDCOa2I4"
      },
      "outputs": [],
      "source": [
        "# Example:\n",
        "# {'directed': True, 'multigraph': False, 'graph': {},\n",
        "# 'nodes': [{'type': 'QUESTIONS_ENTITY', 'name_': 'Q49', 'id': 0, 'label': 'North America'},\n",
        "# {'type': 'ANSWER_CANDIDATE_ENTITY', 'name_': 'Q194057', 'id': 1, 'label': 'Mount Rainier'}],\n",
        "# 'links': [{'name_': 'P30', 'source': 1, 'target': 0, 'label': 'continent'}]}\n",
        "def linearize_graph(graph_dict):\n",
        "    nodes = sorted((node_dict for node_dict in graph_dict[\"nodes\"]), key=lambda d:d[\"id\"])\n",
        "    for n_id, node_dict in enumerate(nodes):\n",
        "        assert n_id == node_dict[\"id\"]\n",
        "    src_node_id2links = {}\n",
        "    for link_dict in graph_dict[\"links\"]:\n",
        "        link_src =  link_dict[\"source\"]\n",
        "        if src_node_id2links.get(link_src) is None:\n",
        "            src_node_id2links[link_src] = []\n",
        "        src_node_id2links[link_src].append(link_dict)\n",
        "    graph_s = \"\"\n",
        "\n",
        "    for n_id, node_dict in enumerate(nodes):\n",
        "        links = src_node_id2links.get(n_id, list())\n",
        "        start_label = node_dict[\"label\"]\n",
        "        if node_dict[\"type\"] == \"ANSWER_CANDIDATE_ENTITY\":\n",
        "            start_label = f\"{SEP_TOKEN} {start_label} {SEP_TOKEN}\"\n",
        "        for link_dict in links:\n",
        "            target_label = nodes[link_dict[\"target\"]][\"label\"]\n",
        "            if nodes[link_dict[\"target\"]][\"type\"] == \"ANSWER_CANDIDATE_ENTITY\":\n",
        "                target_label = f\"{SEP_TOKEN} {target_label} {SEP_TOKEN}\"\n",
        "            link_s = f\" {start_label}, {link_dict['label']}, {target_label} \"\n",
        "            graph_s += link_s\n",
        "\n",
        "    return graph_s"
      ]
    },
    {
      "cell_type": "code",
      "execution_count": null,
      "metadata": {
        "colab": {
          "base_uri": "https://localhost:8080/"
        },
        "id": "3MMm3s5Ea2Lr",
        "outputId": "42caf6c5-d517-428c-93ad-20e703def4ff"
      },
      "outputs": [
        {
          "name": "stderr",
          "output_type": "stream",
          "text": [
            "/tmp/ipykernel_8252/2265556522.py:1: SettingWithCopyWarning: \n",
            "A value is trying to be set on a copy of a slice from a DataFrame.\n",
            "Try using .loc[row_indexer,col_indexer] = value instead\n",
            "\n",
            "See the caveats in the documentation: https://pandas.pydata.org/pandas-docs/stable/user_guide/indexing.html#returning-a-view-versus-a-copy\n",
            "  train_df[\"linearized_graph\"] = train_df[\"graph\"].apply(linearize_graph)\n",
            "/tmp/ipykernel_8252/2265556522.py:2: SettingWithCopyWarning: \n",
            "A value is trying to be set on a copy of a slice from a DataFrame.\n",
            "Try using .loc[row_indexer,col_indexer] = value instead\n",
            "\n",
            "See the caveats in the documentation: https://pandas.pydata.org/pandas-docs/stable/user_guide/indexing.html#returning-a-view-versus-a-copy\n",
            "  dev_df[\"linearized_graph\"] = dev_df[\"graph\"].apply(linearize_graph)\n"
          ]
        }
      ],
      "source": [
        "train_df[\"linearized_graph\"] = train_df[\"graph\"].apply(linearize_graph)\n",
        "dev_df[\"linearized_graph\"] = dev_df[\"graph\"].apply(linearize_graph)\n",
        "test_df[\"linearized_graph\"] = test_df[\"graph\"].apply(linearize_graph)"
      ]
    },
    {
      "cell_type": "code",
      "execution_count": null,
      "metadata": {
        "id": "lv48cvNkahzr"
      },
      "outputs": [],
      "source": [
        "pd.set_option('display.max_colwidth', None)"
      ]
    },
    {
      "cell_type": "code",
      "execution_count": null,
      "metadata": {
        "colab": {
          "base_uri": "https://localhost:8080/"
        },
        "id": "BJh3Sj37a2Nv",
        "outputId": "d5312cb6-229e-4070-fde9-f0722ee324e5"
      },
      "outputs": [
        {
          "data": {
            "text/plain": [
              "0                                                                                                                                                                                                                                                                                                               Iran, country, Iran  Iran, replaces, Pahlavi dynasty  Pahlavi dynasty, replaced by, Iran  </s> Ruhollah Khomeini's return to Iran </s>, country, Pahlavi dynasty \n",
              "1     Iran, described by source, Jewish Encyclopedia of Brockhaus and Efron  Iran, country, Iran  letter, described by source, Jewish Encyclopedia of Brockhaus and Efron  letter, subclass of, written work  The Book of Healing, country of origin, Iran  The Book of Healing, instance of, written work  </s> Ruhollah Khomeini's letter to Mikhail Gorbachev </s>, instance of, written work  </s> Ruhollah Khomeini's letter to Mikhail Gorbachev </s>, instance of, letter \n",
              "2                                                                                                                                                                                                                                                                                                                                               Iran, country, Iran  Iran, head of state, </s> Ruhollah Khomeini </s>  </s> Ruhollah Khomeini </s>, country of citizenship, Iran \n",
              "3                                                                                                                                                                                                                                      Iran, country, Iran  </s> Office of the Supreme Leader of Iran </s>, different from, Imam Khomeini Hussainiya  Imam Khomeini Hussainiya, country, Iran  Imam Khomeini Hussainiya, part of, </s> Office of the Supreme Leader of Iran </s> \n",
              "4                                                                                                                                                                                                                         Iran, country, Iran  </s> Mohammad Reza Pahlavi and Soraya </s>, has part(s), Soraya Esfandiari-Bakhtiari  Soraya Esfandiari-Bakhtiari, country of citizenship, Iran  Soraya Esfandiari-Bakhtiari, part of, </s> Mohammad Reza Pahlavi and Soraya </s> \n",
              "Name: linearized_graph, dtype: object"
            ]
          },
          "execution_count": 73,
          "metadata": {},
          "output_type": "execute_result"
        }
      ],
      "source": [
        "train_df[\"linearized_graph\"].head()"
      ]
    },
    {
      "cell_type": "code",
      "execution_count": null,
      "metadata": {
        "colab": {
          "base_uri": "https://localhost:8080/"
        },
        "id": "bjkPcQVMc45f",
        "outputId": "6772cb90-cc67-4807-af26-5023d5cb44b0"
      },
      "outputs": [
        {
          "data": {
            "text/plain": [
              "22                                                                            World War I, has immediate cause, </s> assassination of Archduke Franz Ferdinand </s>  </s> assassination of Archduke Franz Ferdinand </s>, immediate cause of, World War I \n",
              "23                            Latin script, on focus list of Wikimedia project, Wikipedia:Vital articles/Level/4  World War I, on focus list of Wikimedia project, Wikipedia:Vital articles/Level/4  </s> Franz-Joseph </s>, writing system, Latin script \n",
              "24     Franz Joseph I of Austria, conflict, World War I  Franz Joseph I of Austria, part of, </s> Franz Joseph I of Austria and Empress Elisabeth </s>  </s> Franz Joseph I of Austria and Empress Elisabeth </s>, has part(s), Franz Joseph I of Austria \n",
              "25                                                                                                                                                                                             </s> Franz Joseph I of Austria </s>, conflict, World War I \n",
              "26                                                                                                                                        Franz Joseph I of Austria, conflict, World War I  Franz Joseph I of Austria, given name, </s> Franz Joseph </s> \n",
              "Name: linearized_graph, dtype: object"
            ]
          },
          "execution_count": 74,
          "metadata": {},
          "output_type": "execute_result"
        }
      ],
      "source": [
        "dev_df[\"linearized_graph\"].head()"
      ]
    },
    {
      "cell_type": "code",
      "execution_count": null,
      "metadata": {
        "colab": {
          "base_uri": "https://localhost:8080/"
        },
        "id": "PJ1_Hvtic48H",
        "outputId": "69af2d69-fcfa-4e10-878b-0d438fa312e3"
      },
      "outputs": [
        {
          "data": {
            "text/plain": [
              "0                   United States, country, United States  </s> A Clash of Kings </s>, country of origin, United States  A Time to Kill, country of origin, United States \n",
              "1                  United States, country, United States  </s> A Feast for Crows </s>, country of origin, United States  A Time to Kill, country of origin, United States \n",
              "2     United States, country, United States  </s> Fear and Loathing in Las Vegas </s>, country of origin, United States  A Time to Kill, country of origin, United States \n",
              "3                      United States, country, United States  </s> In Cold Blood </s>, country of origin, United States  A Time to Kill, country of origin, United States \n",
              "4                     United States, country, United States  </s> Into the Woods </s>, country of origin, United States  A Time to Kill, country of origin, United States \n",
              "Name: linearized_graph, dtype: object"
            ]
          },
          "execution_count": 75,
          "metadata": {},
          "output_type": "execute_result"
        }
      ],
      "source": [
        "test_df[\"linearized_graph\"].head()"
      ]
    },
    {
      "cell_type": "code",
      "execution_count": null,
      "metadata": {
        "colab": {
          "base_uri": "https://localhost:8080/"
        },
        "id": "_9QjwGmDc4-o",
        "outputId": "a7249a61-bbb4-4eca-b4ff-4c9bfd857f1d"
      },
      "outputs": [
        {
          "name": "stdout",
          "output_type": "stream",
          "text": [
            "# Trainable params:  50206080\n"
          ]
        }
      ],
      "source": [
        "# model_name=\"roberta-base\"\n",
        "model_name=\"sentence-transformers/all-mpnet-base-v2\"\n",
        "# model_name=\"microsoft/deberta-v3-large\"\n",
        "\n",
        "tokenizer = AutoTokenizer.from_pretrained(model_name)\n",
        "bert_model = AutoModel.from_pretrained(model_name)\n",
        "\n",
        "freeze_embeddings = True\n",
        "if freeze_embeddings:\n",
        "    for param in bert_model.embeddings.parameters():\n",
        "        param.requires_grad = False\n",
        "\n",
        "freeze_layer_count = 5\n",
        "if freeze_layer_count > 0:\n",
        "    for layer in bert_model.encoder.layer[:freeze_layer_count]:\n",
        "        for param in layer.parameters():\n",
        "            param.requires_grad = False\n",
        "\n",
        "print(\"# Trainable params: \", sum(p.numel() for p in bert_model.parameters() if p.requires_grad))"
      ]
    },
    {
      "cell_type": "code",
      "execution_count": null,
      "metadata": {
        "id": "IMAj9xH8eOPI"
      },
      "outputs": [],
      "source": [
        "max_length = 128\n",
        "train_dataset = QuestionAnswerDataset(train_df, tokenizer=tokenizer, max_length=max_length, context_key=\"linearized_graph\",\n",
        "                                      tokenizer_truncation=\"only_second\")\n",
        "dev_dataset = QuestionAnswerDataset(dev_df, tokenizer=tokenizer, max_length=max_length, context_key=\"linearized_graph\",\n",
        "                                    tokenizer_truncation=\"only_second\")\n",
        "test_dataset = QuestionAnswerDataset(test_df, tokenizer=tokenizer, max_length=max_length, context_key=\"linearized_graph\",\n",
        "                                     tokenizer_truncation=\"only_second\")"
      ]
    },
    {
      "cell_type": "code",
      "execution_count": null,
      "metadata": {
        "id": "UyovLTaleOPJ"
      },
      "outputs": [],
      "source": [
        "batch_size = 64\n",
        "num_workers = 0\n",
        "\n",
        "train_loader = torch.utils.data.DataLoader(\n",
        "    train_dataset, batch_size=batch_size, num_workers=num_workers, shuffle=True, drop_last=True,\n",
        ")\n",
        "dev_loader = torch.utils.data.DataLoader(\n",
        "    dev_dataset, batch_size=batch_size, num_workers=num_workers, shuffle=False, drop_last=False,\n",
        ")\n",
        "test_loader = torch.utils.data.DataLoader(\n",
        "    test_dataset, batch_size=batch_size, num_workers=num_workers, shuffle=False, drop_last=False,\n",
        ")"
      ]
    },
    {
      "cell_type": "code",
      "execution_count": null,
      "metadata": {
        "id": "IsK3zQ0AeN-s"
      },
      "outputs": [],
      "source": []
    },
    {
      "cell_type": "code",
      "execution_count": null,
      "metadata": {
        "id": "8-lTz-GTebQr"
      },
      "outputs": [],
      "source": [
        "N_EPOCHS = 5\n",
        "DROPOUT = 0.2"
      ]
    },
    {
      "cell_type": "code",
      "execution_count": null,
      "metadata": {
        "id": "uEc_HDseebQ3"
      },
      "outputs": [],
      "source": [
        "bert_linearized_graph_clf = BertSimpleClassifier(bert_model, dropout=DROPOUT).to(device)\n",
        "optimizer = optim.Adam(bert_linearized_graph_clf.parameters(), lr=3e-5)\n",
        "criterion = nn.BCEWithLogitsLoss()"
      ]
    },
    {
      "cell_type": "code",
      "execution_count": null,
      "metadata": {
        "colab": {
          "base_uri": "https://localhost:8080/",
          "height": 784
        },
        "id": "Qh1GJ_CvebQ3",
        "outputId": "9ff6a0a7-f2ed-4ed4-b2e9-fd63384eceac"
      },
      "outputs": [
        {
          "data": {
            "image/png": "[encoded data removed]",
            "text/plain": [
              "<Figure size 1200x800 with 2 Axes>"
            ]
          },
          "metadata": {},
          "output_type": "display_data"
        },
        {
          "name": "stdout",
          "output_type": "stream",
          "text": [
            "Epoch: 05 | Time: 2m 34s\n",
            "\tTrain Loss: 0.133\n",
            "\t Val. Loss: 0.179 |  Val. F1: 0.579\n"
          ]
        }
      ],
      "source": [
        "train_evaluate(bert_linearized_graph_clf, train_loader, dev_loader, optimizer,\n",
        "               criterion, N_EPOCHS, \"bert_linearized_graph_clf\", device)"
      ]
    },
    {
      "cell_type": "code",
      "execution_count": null,
      "metadata": {
        "colab": {
          "base_uri": "https://localhost:8080/"
        },
        "id": "bkh2ONAJebQ4",
        "outputId": "f0cbe70b-d32e-4f0b-fec9-71f58c0fc0d0"
      },
      "outputs": [
        {
          "data": {
            "text/plain": [
              "<All keys matched successfully>"
            ]
          },
          "execution_count": 82,
          "metadata": {},
          "output_type": "execute_result"
        }
      ],
      "source": [
        "bert_linearized_graph_clf.load_state_dict(torch.load('best-val-bert_linearized_graph_clf.pt'))"
      ]
    },
    {
      "cell_type": "markdown",
      "metadata": {
        "id": "4snZM3rnBRTJ"
      },
      "source": [
        "### Evaluation on dev set"
      ]
    },
    {
      "cell_type": "code",
      "execution_count": null,
      "metadata": {
        "colab": {
          "base_uri": "https://localhost:8080/"
        },
        "id": "XxzgmftOebQ4",
        "outputId": "f2fb6e8a-0f4e-4937-bf01-57ad208f10f4"
      },
      "outputs": [
        {
          "name": "stdout",
          "output_type": "stream",
          "text": [
            "0.9086021505376344,0.4435695538057743,0.5961199294532628\n"
          ]
        }
      ],
      "source": [
        "true_labels, pred_labels = predict(bert_linearized_graph_clf, dev_loader, device)\n",
        "print(f\"{precision_score(true_labels, pred_labels)},{recall_score(true_labels, pred_labels)},{f1_score(true_labels, pred_labels)}\")"
      ]
    },
    {
      "cell_type": "markdown",
      "metadata": {
        "id": "Kn7BLj4JBQhh"
      },
      "source": [
        "### Prediction on test set"
      ]
    },
    {
      "cell_type": "code",
      "execution_count": null,
      "metadata": {
        "id": "bS15rJwBebQ4"
      },
      "outputs": [],
      "source": [
        "true_labels, pred_labels = predict(bert_linearized_graph_clf, test_loader, device)\n",
        "# print(f\"{precision_score(true_labels, pred_labels)},{recall_score(true_labels, pred_labels)},{f1_score(true_labels, pred_labels)}\")"
      ]
    },
    {
      "cell_type": "code",
      "execution_count": null,
      "metadata": {
        "id": "w3KCyZb3a2aA"
      },
      "outputs": [],
      "source": [
        "assert len(true_labels) == len(pred_labels)"
      ]
    },
    {
      "cell_type": "code",
      "execution_count": null,
      "metadata": {
        "id": "dN-7a23ea2cd"
      },
      "outputs": [],
      "source": [
        "test_df[\"true_y\"] = true_labels\n",
        "test_df[\"prediction\"] = pred_labels\n"
      ]
    },
    {
      "cell_type": "code",
      "execution_count": null,
      "metadata": {
        "id": "eL54btd75U63"
      },
      "outputs": [
        {
          "data": {
            "text/html": [
              "<div>\n",
              "<style scoped>\n",
              "    .dataframe tbody tr th:only-of-type {\n",
              "        vertical-align: middle;\n",
              "    }\n",
              "\n",
              "    .dataframe tbody tr th {\n",
              "        vertical-align: top;\n",
              "    }\n",
              "\n",
              "    .dataframe thead th {\n",
              "        text-align: right;\n",
              "    }\n",
              "</style>\n",
              "<table border=\"1\" class=\"dataframe\">\n",
              "  <thead>\n",
              "    <tr style=\"text-align: right;\">\n",
              "      <th></th>\n",
              "      <th>sample_id</th>\n",
              "      <th>question</th>\n",
              "      <th>questionEntity</th>\n",
              "      <th>answerEntity</th>\n",
              "      <th>questionEntityId</th>\n",
              "      <th>answerEntityId</th>\n",
              "      <th>graph</th>\n",
              "      <th>label</th>\n",
              "      <th>linearized_graph</th>\n",
              "      <th>true_y</th>\n",
              "      <th>prediction</th>\n",
              "    </tr>\n",
              "  </thead>\n",
              "  <tbody>\n",
              "    <tr>\n",
              "      <th>0</th>\n",
              "      <td>0</td>\n",
              "      <td>After publishing A Time to Kill, which book did its author begin working on immediately?</td>\n",
              "      <td>A Time to Kill</td>\n",
              "      <td>A Clash of Kings</td>\n",
              "      <td>Q1213715</td>\n",
              "      <td>Q300370</td>\n",
              "      <td>{'nodes': [{'type': 'INTERNAL', 'name_': 'Q30', 'id': 0, 'label': 'United States'}, {'type': 'ANSWER_CANDIDATE_ENTITY', 'name_': 'Q300370', 'id': 1, 'label': 'A Clash of Kings'}, {'type': 'QUESTIONS_ENTITY', 'name_': 'Q1213715', 'id': 2, 'label': 'A Time to Kill'}], 'links': [{'name_': 'P17', 'source': 0, 'target': 0, 'label': 'country'}, {'name_': 'P495', 'source': 1, 'target': 0, 'label': 'country of origin'}, {'name_': 'P495', 'source': 2, 'target': 0, 'label': 'country of origin'}]}</td>\n",
              "      <td>0.0</td>\n",
              "      <td>United States, country, United States  &lt;/s&gt; A Clash of Kings &lt;/s&gt;, country of origin, United States  A Time to Kill, country of origin, United States</td>\n",
              "      <td>0.0</td>\n",
              "      <td>0</td>\n",
              "    </tr>\n",
              "    <tr>\n",
              "      <th>1</th>\n",
              "      <td>1</td>\n",
              "      <td>After publishing A Time to Kill, which book did its author begin working on immediately?</td>\n",
              "      <td>A Time to Kill</td>\n",
              "      <td>A Feast for Crows</td>\n",
              "      <td>Q1213715</td>\n",
              "      <td>Q1764445</td>\n",
              "      <td>{'nodes': [{'type': 'INTERNAL', 'name_': 'Q30', 'id': 0, 'label': 'United States'}, {'type': 'ANSWER_CANDIDATE_ENTITY', 'name_': 'Q1764445', 'id': 1, 'label': 'A Feast for Crows'}, {'type': 'QUESTIONS_ENTITY', 'name_': 'Q1213715', 'id': 2, 'label': 'A Time to Kill'}], 'links': [{'name_': 'P17', 'source': 0, 'target': 0, 'label': 'country'}, {'name_': 'P495', 'source': 1, 'target': 0, 'label': 'country of origin'}, {'name_': 'P495', 'source': 2, 'target': 0, 'label': 'country of origin'}]}</td>\n",
              "      <td>0.0</td>\n",
              "      <td>United States, country, United States  &lt;/s&gt; A Feast for Crows &lt;/s&gt;, country of origin, United States  A Time to Kill, country of origin, United States</td>\n",
              "      <td>0.0</td>\n",
              "      <td>0</td>\n",
              "    </tr>\n",
              "    <tr>\n",
              "      <th>2</th>\n",
              "      <td>2</td>\n",
              "      <td>After publishing A Time to Kill, which book did its author begin working on immediately?</td>\n",
              "      <td>A Time to Kill</td>\n",
              "      <td>Fear and Loathing in Las Vegas</td>\n",
              "      <td>Q1213715</td>\n",
              "      <td>Q772435</td>\n",
              "      <td>{'nodes': [{'type': 'INTERNAL', 'name_': 'Q30', 'id': 0, 'label': 'United States'}, {'type': 'ANSWER_CANDIDATE_ENTITY', 'name_': 'Q772435', 'id': 1, 'label': 'Fear and Loathing in Las Vegas'}, {'type': 'QUESTIONS_ENTITY', 'name_': 'Q1213715', 'id': 2, 'label': 'A Time to Kill'}], 'links': [{'name_': 'P17', 'source': 0, 'target': 0, 'label': 'country'}, {'name_': 'P495', 'source': 1, 'target': 0, 'label': 'country of origin'}, {'name_': 'P495', 'source': 2, 'target': 0, 'label': 'country of origin'}]}</td>\n",
              "      <td>0.0</td>\n",
              "      <td>United States, country, United States  &lt;/s&gt; Fear and Loathing in Las Vegas &lt;/s&gt;, country of origin, United States  A Time to Kill, country of origin, United States</td>\n",
              "      <td>0.0</td>\n",
              "      <td>0</td>\n",
              "    </tr>\n",
              "    <tr>\n",
              "      <th>3</th>\n",
              "      <td>3</td>\n",
              "      <td>After publishing A Time to Kill, which book did its author begin working on immediately?</td>\n",
              "      <td>A Time to Kill</td>\n",
              "      <td>In Cold Blood</td>\n",
              "      <td>Q1213715</td>\n",
              "      <td>Q1142887</td>\n",
              "      <td>{'nodes': [{'type': 'INTERNAL', 'name_': 'Q30', 'id': 0, 'label': 'United States'}, {'type': 'ANSWER_CANDIDATE_ENTITY', 'name_': 'Q1142887', 'id': 1, 'label': 'In Cold Blood'}, {'type': 'QUESTIONS_ENTITY', 'name_': 'Q1213715', 'id': 2, 'label': 'A Time to Kill'}], 'links': [{'name_': 'P17', 'source': 0, 'target': 0, 'label': 'country'}, {'name_': 'P495', 'source': 1, 'target': 0, 'label': 'country of origin'}, {'name_': 'P495', 'source': 2, 'target': 0, 'label': 'country of origin'}]}</td>\n",
              "      <td>0.0</td>\n",
              "      <td>United States, country, United States  &lt;/s&gt; In Cold Blood &lt;/s&gt;, country of origin, United States  A Time to Kill, country of origin, United States</td>\n",
              "      <td>0.0</td>\n",
              "      <td>0</td>\n",
              "    </tr>\n",
              "    <tr>\n",
              "      <th>4</th>\n",
              "      <td>4</td>\n",
              "      <td>After publishing A Time to Kill, which book did its author begin working on immediately?</td>\n",
              "      <td>A Time to Kill</td>\n",
              "      <td>Into the Woods</td>\n",
              "      <td>Q1213715</td>\n",
              "      <td>Q1118244</td>\n",
              "      <td>{'nodes': [{'type': 'INTERNAL', 'name_': 'Q30', 'id': 0, 'label': 'United States'}, {'type': 'ANSWER_CANDIDATE_ENTITY', 'name_': 'Q1118244', 'id': 1, 'label': 'Into the Woods'}, {'type': 'QUESTIONS_ENTITY', 'name_': 'Q1213715', 'id': 2, 'label': 'A Time to Kill'}], 'links': [{'name_': 'P17', 'source': 0, 'target': 0, 'label': 'country'}, {'name_': 'P495', 'source': 1, 'target': 0, 'label': 'country of origin'}, {'name_': 'P495', 'source': 2, 'target': 0, 'label': 'country of origin'}]}</td>\n",
              "      <td>0.0</td>\n",
              "      <td>United States, country, United States  &lt;/s&gt; Into the Woods &lt;/s&gt;, country of origin, United States  A Time to Kill, country of origin, United States</td>\n",
              "      <td>0.0</td>\n",
              "      <td>0</td>\n",
              "    </tr>\n",
              "  </tbody>\n",
              "</table>\n",
              "</div>"
            ],
            "text/plain": [
              "   sample_id  \\\n",
              "0          0   \n",
              "1          1   \n",
              "2          2   \n",
              "3          3   \n",
              "4          4   \n",
              "\n",
              "                                                                                   question  \\\n",
              "0  After publishing A Time to Kill, which book did its author begin working on immediately?   \n",
              "1  After publishing A Time to Kill, which book did its author begin working on immediately?   \n",
              "2  After publishing A Time to Kill, which book did its author begin working on immediately?   \n",
              "3  After publishing A Time to Kill, which book did its author begin working on immediately?   \n",
              "4  After publishing A Time to Kill, which book did its author begin working on immediately?   \n",
              "\n",
              "   questionEntity                    answerEntity questionEntityId  \\\n",
              "0  A Time to Kill                A Clash of Kings         Q1213715   \n",
              "1  A Time to Kill               A Feast for Crows         Q1213715   \n",
              "2  A Time to Kill  Fear and Loathing in Las Vegas         Q1213715   \n",
              "3  A Time to Kill                   In Cold Blood         Q1213715   \n",
              "4  A Time to Kill                  Into the Woods         Q1213715   \n",
              "\n",
              "  answerEntityId  \\\n",
              "0        Q300370   \n",
              "1       Q1764445   \n",
              "2        Q772435   \n",
              "3       Q1142887   \n",
              "4       Q1118244   \n",
              "\n",
              "                                                                                                                                                                                                                                                                                                                                                                                                                                                                                                                       graph  \\\n",
              "0                {'nodes': [{'type': 'INTERNAL', 'name_': 'Q30', 'id': 0, 'label': 'United States'}, {'type': 'ANSWER_CANDIDATE_ENTITY', 'name_': 'Q300370', 'id': 1, 'label': 'A Clash of Kings'}, {'type': 'QUESTIONS_ENTITY', 'name_': 'Q1213715', 'id': 2, 'label': 'A Time to Kill'}], 'links': [{'name_': 'P17', 'source': 0, 'target': 0, 'label': 'country'}, {'name_': 'P495', 'source': 1, 'target': 0, 'label': 'country of origin'}, {'name_': 'P495', 'source': 2, 'target': 0, 'label': 'country of origin'}]}   \n",
              "1              {'nodes': [{'type': 'INTERNAL', 'name_': 'Q30', 'id': 0, 'label': 'United States'}, {'type': 'ANSWER_CANDIDATE_ENTITY', 'name_': 'Q1764445', 'id': 1, 'label': 'A Feast for Crows'}, {'type': 'QUESTIONS_ENTITY', 'name_': 'Q1213715', 'id': 2, 'label': 'A Time to Kill'}], 'links': [{'name_': 'P17', 'source': 0, 'target': 0, 'label': 'country'}, {'name_': 'P495', 'source': 1, 'target': 0, 'label': 'country of origin'}, {'name_': 'P495', 'source': 2, 'target': 0, 'label': 'country of origin'}]}   \n",
              "2  {'nodes': [{'type': 'INTERNAL', 'name_': 'Q30', 'id': 0, 'label': 'United States'}, {'type': 'ANSWER_CANDIDATE_ENTITY', 'name_': 'Q772435', 'id': 1, 'label': 'Fear and Loathing in Las Vegas'}, {'type': 'QUESTIONS_ENTITY', 'name_': 'Q1213715', 'id': 2, 'label': 'A Time to Kill'}], 'links': [{'name_': 'P17', 'source': 0, 'target': 0, 'label': 'country'}, {'name_': 'P495', 'source': 1, 'target': 0, 'label': 'country of origin'}, {'name_': 'P495', 'source': 2, 'target': 0, 'label': 'country of origin'}]}   \n",
              "3                  {'nodes': [{'type': 'INTERNAL', 'name_': 'Q30', 'id': 0, 'label': 'United States'}, {'type': 'ANSWER_CANDIDATE_ENTITY', 'name_': 'Q1142887', 'id': 1, 'label': 'In Cold Blood'}, {'type': 'QUESTIONS_ENTITY', 'name_': 'Q1213715', 'id': 2, 'label': 'A Time to Kill'}], 'links': [{'name_': 'P17', 'source': 0, 'target': 0, 'label': 'country'}, {'name_': 'P495', 'source': 1, 'target': 0, 'label': 'country of origin'}, {'name_': 'P495', 'source': 2, 'target': 0, 'label': 'country of origin'}]}   \n",
              "4                 {'nodes': [{'type': 'INTERNAL', 'name_': 'Q30', 'id': 0, 'label': 'United States'}, {'type': 'ANSWER_CANDIDATE_ENTITY', 'name_': 'Q1118244', 'id': 1, 'label': 'Into the Woods'}, {'type': 'QUESTIONS_ENTITY', 'name_': 'Q1213715', 'id': 2, 'label': 'A Time to Kill'}], 'links': [{'name_': 'P17', 'source': 0, 'target': 0, 'label': 'country'}, {'name_': 'P495', 'source': 1, 'target': 0, 'label': 'country of origin'}, {'name_': 'P495', 'source': 2, 'target': 0, 'label': 'country of origin'}]}   \n",
              "\n",
              "   label  \\\n",
              "0    0.0   \n",
              "1    0.0   \n",
              "2    0.0   \n",
              "3    0.0   \n",
              "4    0.0   \n",
              "\n",
              "                                                                                                                                                        linearized_graph  \\\n",
              "0                 United States, country, United States  </s> A Clash of Kings </s>, country of origin, United States  A Time to Kill, country of origin, United States    \n",
              "1                United States, country, United States  </s> A Feast for Crows </s>, country of origin, United States  A Time to Kill, country of origin, United States    \n",
              "2   United States, country, United States  </s> Fear and Loathing in Las Vegas </s>, country of origin, United States  A Time to Kill, country of origin, United States    \n",
              "3                    United States, country, United States  </s> In Cold Blood </s>, country of origin, United States  A Time to Kill, country of origin, United States    \n",
              "4                   United States, country, United States  </s> Into the Woods </s>, country of origin, United States  A Time to Kill, country of origin, United States    \n",
              "\n",
              "   true_y  prediction  \n",
              "0     0.0           0  \n",
              "1     0.0           0  \n",
              "2     0.0           0  \n",
              "3     0.0           0  \n",
              "4     0.0           0  "
            ]
          },
          "execution_count": 87,
          "metadata": {},
          "output_type": "execute_result"
        }
      ],
      "source": [
        "test_df.head()"
      ]
    },
    {
      "cell_type": "code",
      "execution_count": null,
      "metadata": {
        "id": "LuN1ipIl3_lD"
      },
      "outputs": [],
      "source": [
        "test_pred_path = \"test_pred_linearized_graph_baseline.tsv\"\n",
        "test_df[[\"sample_id\", \"prediction\"]].to_csv(test_pred_path, sep='\\t', index=False)"
      ]
    },
    {
      "cell_type": "markdown",
      "metadata": {
        "id": "5xPUvDungDuN"
      },
      "source": [
        "## Linearized graph only"
      ]
    },
    {
      "cell_type": "code",
      "execution_count": null,
      "metadata": {
        "id": "KIxxKUiLyUtE"
      },
      "outputs": [],
      "source": [
        "max_length = 128\n",
        "train_dataset = QuestionAnswerDataset(train_df, tokenizer=tokenizer, max_length=max_length, context_key=\"linearized_graph\", graph_only=True)\n",
        "dev_dataset = QuestionAnswerDataset(dev_df, tokenizer=tokenizer, max_length=max_length, context_key=\"linearized_graph\", graph_only=True)\n",
        "test_dataset = QuestionAnswerDataset(test_df, tokenizer=tokenizer, max_length=max_length, context_key=\"linearized_graph\", graph_only=True)"
      ]
    },
    {
      "cell_type": "code",
      "execution_count": null,
      "metadata": {
        "colab": {
          "base_uri": "https://localhost:8080/"
        },
        "id": "qJ1pFy7RUlwz",
        "outputId": "6f2af095-da22-4639-8ebd-62d06e3ae0c9"
      },
      "outputs": [
        {
          "name": "stdout",
          "output_type": "stream",
          "text": [
            " <s> iran , country , iran iran , replaces , pahlavi dynasty pahlavi dynasty , replaced by , iran </s> ruhollah khomeini ' s return to iran </s> , country , pahlavi dynasty </s> <pad> <pad> <pad> <pad> <pad> <pad> <pad> <pad> <pad> <pad> <pad> <pad> <pad> <pad> <pad> <pad> <pad> <pad> <pad> <pad> <pad> <pad> <pad> <pad> <pad> <pad> <pad> <pad> <pad> <pad> <pad> <pad> <pad> <pad> <pad> <pad> <pad> <pad> <pad> <pad> <pad> <pad> <pad> <pad> <pad> <pad> <pad> <pad> <pad> <pad> <pad> <pad> <pad> <pad> <pad> <pad> <pad> <pad> <pad> <pad> <pad> <pad> <pad> <pad> <pad> <pad> <pad> <pad> <pad> <pad> <pad> <pad> <pad> <pad> <pad> <pad> <pad> <pad> <pad> <pad> <pad> <pad> <pad>\n",
            " <s> iran , described by source , jewish encyclopedia of brockhaus and efron iran , country , iran letter , described by source , jewish encyclopedia of brockhaus and efron letter , subclass of , written work the book of healing , country of origin , iran the book of healing , instance of , written work </s> ruhollah khomeini ' s letter to mikhail gorbachev </s> , instance of , written work </s> ruhollah khomeini ' s letter to mikhail gorbachev </s> , instance of , letter </s> <pad> <pad> <pad> <pad> <pad> <pad> <pad> <pad> <pad> <pad> <pad> <pad> <pad> <pad> <pad> <pad> <pad> <pad>\n",
            " <s> iran , country , iran iran , head of state , </s> ruhollah khomeini </s> </s> ruhollah khomeini </s> , country of citizenship , iran </s> <pad> <pad> <pad> <pad> <pad> <pad> <pad> <pad> <pad> <pad> <pad> <pad> <pad> <pad> <pad> <pad> <pad> <pad> <pad> <pad> <pad> <pad> <pad> <pad> <pad> <pad> <pad> <pad> <pad> <pad> <pad> <pad> <pad> <pad> <pad> <pad> <pad> <pad> <pad> <pad> <pad> <pad> <pad> <pad> <pad> <pad> <pad> <pad> <pad> <pad> <pad> <pad> <pad> <pad> <pad> <pad> <pad> <pad> <pad> <pad> <pad> <pad> <pad> <pad> <pad> <pad> <pad> <pad> <pad> <pad> <pad> <pad> <pad> <pad> <pad> <pad> <pad> <pad> <pad> <pad> <pad> <pad> <pad> <pad> <pad> <pad> <pad> <pad> <pad> <pad> <pad>\n",
            " <s> iran , country , iran </s> office of the supreme leader of iran </s> , different from , imam khomeini hussainiya imam khomeini hussainiya , country , iran imam khomeini hussainiya , part of , </s> office of the supreme leader of iran </s> </s> <pad> <pad> <pad> <pad> <pad> <pad> <pad> <pad> <pad> <pad> <pad> <pad> <pad> <pad> <pad> <pad> <pad> <pad> <pad> <pad> <pad> <pad> <pad> <pad> <pad> <pad> <pad> <pad> <pad> <pad> <pad> <pad> <pad> <pad> <pad> <pad> <pad> <pad> <pad> <pad> <pad> <pad> <pad> <pad> <pad> <pad> <pad> <pad> <pad> <pad> <pad> <pad> <pad> <pad> <pad> <pad> <pad> <pad> <pad> <pad> <pad> <pad> <pad> <pad> <pad> <pad> <pad> <pad> <pad> <pad>\n",
            " <s> iran , country , iran </s> mohammad reza pahlavi and soraya </s> , has part ( s ) , soraya esfandiari - bakhtiari soraya esfandiari - bakhtiari , country of citizenship , iran soraya esfandiari - bakhtiari , part of , </s> mohammad reza pahlavi and soraya </s> </s> <pad> <pad> <pad> <pad> <pad> <pad> <pad> <pad> <pad> <pad> <pad> <pad> <pad> <pad> <pad> <pad> <pad> <pad> <pad> <pad> <pad> <pad> <pad> <pad> <pad> <pad> <pad> <pad> <pad> <pad> <pad> <pad> <pad> <pad> <pad> <pad> <pad> <pad> <pad> <pad> <pad> <pad> <pad> <pad> <pad> <pad> <pad> <pad> <pad> <pad> <pad>\n"
          ]
        }
      ],
      "source": [
        "idx_bound = 5\n",
        "for i in range(idx_bound):\n",
        "    d = train_dataset[i]\n",
        "    inp_ids = d[\"input_ids\"]\n",
        "    tokens = tokenizer.convert_ids_to_tokens(inp_ids)\n",
        "    s = \"\".join((x.strip(\"#\") if x.startswith(\"#\") else f\" {x}\" for x in tokens))\n",
        "    print(s)\n"
      ]
    },
    {
      "cell_type": "code",
      "execution_count": null,
      "metadata": {
        "id": "ruC9czB3gJAO"
      },
      "outputs": [],
      "source": [
        "batch_size = 64\n",
        "num_workers = 0\n",
        "\n",
        "train_loader = torch.utils.data.DataLoader(\n",
        "    train_dataset, batch_size=batch_size, num_workers=num_workers, shuffle=True, drop_last=True,\n",
        ")\n",
        "dev_loader = torch.utils.data.DataLoader(\n",
        "    dev_dataset, batch_size=batch_size, num_workers=num_workers, shuffle=False, drop_last=False,\n",
        ")\n",
        "test_loader = torch.utils.data.DataLoader(\n",
        "    test_dataset, batch_size=batch_size, num_workers=num_workers, shuffle=False, drop_last=False,\n",
        ")"
      ]
    },
    {
      "cell_type": "code",
      "execution_count": null,
      "metadata": {
        "id": "00qhOvJIgJCb"
      },
      "outputs": [],
      "source": [
        "N_EPOCHS = 5\n",
        "DROPOUT = 0.2"
      ]
    },
    {
      "cell_type": "code",
      "execution_count": null,
      "metadata": {
        "id": "DmCnCBkMgSD-"
      },
      "outputs": [],
      "source": [
        "bert_linearized_graph_clf = BertSimpleClassifier(bert_model, dropout=DROPOUT).to(device)\n",
        "optimizer = optim.Adam(bert_linearized_graph_clf.parameters(), lr=3e-5)\n",
        "criterion = nn.BCEWithLogitsLoss()"
      ]
    },
    {
      "cell_type": "code",
      "execution_count": null,
      "metadata": {
        "colab": {
          "base_uri": "https://localhost:8080/",
          "height": 784
        },
        "id": "oKHPnTJ9gSF1",
        "outputId": "be82a6c0-0ddd-49d8-b9d1-80b99ace8860"
      },
      "outputs": [
        {
          "data": {
            "image/png": "[encoded data removed]",
            "text/plain": [
              "<Figure size 1200x800 with 2 Axes>"
            ]
          },
          "metadata": {},
          "output_type": "display_data"
        },
        {
          "name": "stdout",
          "output_type": "stream",
          "text": [
            "Epoch: 05 | Time: 2m 34s\n",
            "\tTrain Loss: 0.110\n",
            "\t Val. Loss: 0.189 |  Val. F1: 0.621\n"
          ]
        }
      ],
      "source": [
        "train_evaluate(bert_linearized_graph_clf, train_loader, dev_loader, optimizer,\n",
        "               criterion, N_EPOCHS, \"bert_linearized_graph_only_clf\", device)"
      ]
    },
    {
      "cell_type": "code",
      "execution_count": null,
      "metadata": {
        "colab": {
          "base_uri": "https://localhost:8080/"
        },
        "id": "4LROpG4RgJEy",
        "outputId": "c0c0c4ab-9560-4f42-e5e6-253e62657ac5"
      },
      "outputs": [
        {
          "data": {
            "text/plain": [
              "<All keys matched successfully>"
            ]
          },
          "execution_count": 95,
          "metadata": {},
          "output_type": "execute_result"
        }
      ],
      "source": [
        "\n",
        "bert_linearized_graph_clf.load_state_dict(torch.load('best-val-bert_linearized_graph_only_clf.pt'))"
      ]
    },
    {
      "cell_type": "markdown",
      "metadata": {
        "id": "uLp5aL1sghfm"
      },
      "source": [
        "### Evaluation on dev set"
      ]
    },
    {
      "cell_type": "code",
      "execution_count": null,
      "metadata": {
        "colab": {
          "base_uri": "https://localhost:8080/"
        },
        "id": "rbqF1gkOghfo",
        "outputId": "43bba862-5b3f-4192-b2f4-45d9e793588f"
      },
      "outputs": [
        {
          "name": "stdout",
          "output_type": "stream",
          "text": [
            "0.792,0.5196850393700787,0.6275752773375594\n"
          ]
        }
      ],
      "source": [
        "true_labels, pred_labels = predict(bert_linearized_graph_clf, dev_loader, device)\n",
        "print(f\"{precision_score(true_labels, pred_labels)},{recall_score(true_labels, pred_labels)},{f1_score(true_labels, pred_labels)}\")"
      ]
    },
    {
      "cell_type": "markdown",
      "metadata": {
        "id": "b-2wJB5oghfp"
      },
      "source": [
        "### Prediction on test set"
      ]
    },
    {
      "cell_type": "code",
      "execution_count": null,
      "metadata": {
        "id": "RA43g37Gghfp"
      },
      "outputs": [],
      "source": [
        "true_labels, pred_labels = predict(bert_linearized_graph_clf, test_loader, device)\n",
        "# print(f\"{precision_score(true_labels, pred_labels)},{recall_score(true_labels, pred_labels)},{f1_score(true_labels, pred_labels)}\")"
      ]
    },
    {
      "cell_type": "code",
      "execution_count": null,
      "metadata": {
        "id": "XvDBt6VFghfp"
      },
      "outputs": [],
      "source": [
        "assert len(true_labels) == len(pred_labels)"
      ]
    },
    {
      "cell_type": "code",
      "execution_count": null,
      "metadata": {
        "id": "_2mDm3yQghfq"
      },
      "outputs": [],
      "source": [
        "test_df[\"true_y\"] = true_labels\n",
        "test_df[\"prediction\"] = pred_labels\n"
      ]
    },
    {
      "cell_type": "code",
      "execution_count": null,
      "metadata": {
        "colab": {
          "base_uri": "https://localhost:8080/",
          "height": 988
        },
        "id": "B_2gX6rpghfq",
        "outputId": "b0db3924-5789-43c1-e895-be40603fab1b"
      },
      "outputs": [
        {
          "data": {
            "text/html": [
              "<div>\n",
              "<style scoped>\n",
              "    .dataframe tbody tr th:only-of-type {\n",
              "        vertical-align: middle;\n",
              "    }\n",
              "\n",
              "    .dataframe tbody tr th {\n",
              "        vertical-align: top;\n",
              "    }\n",
              "\n",
              "    .dataframe thead th {\n",
              "        text-align: right;\n",
              "    }\n",
              "</style>\n",
              "<table border=\"1\" class=\"dataframe\">\n",
              "  <thead>\n",
              "    <tr style=\"text-align: right;\">\n",
              "      <th></th>\n",
              "      <th>sample_id</th>\n",
              "      <th>question</th>\n",
              "      <th>questionEntity</th>\n",
              "      <th>answerEntity</th>\n",
              "      <th>questionEntityId</th>\n",
              "      <th>answerEntityId</th>\n",
              "      <th>graph</th>\n",
              "      <th>label</th>\n",
              "      <th>linearized_graph</th>\n",
              "      <th>true_y</th>\n",
              "      <th>prediction</th>\n",
              "    </tr>\n",
              "  </thead>\n",
              "  <tbody>\n",
              "    <tr>\n",
              "      <th>0</th>\n",
              "      <td>0</td>\n",
              "      <td>After publishing A Time to Kill, which book did its author begin working on immediately?</td>\n",
              "      <td>A Time to Kill</td>\n",
              "      <td>A Clash of Kings</td>\n",
              "      <td>Q1213715</td>\n",
              "      <td>Q300370</td>\n",
              "      <td>{'nodes': [{'type': 'INTERNAL', 'name_': 'Q30', 'id': 0, 'label': 'United States'}, {'type': 'ANSWER_CANDIDATE_ENTITY', 'name_': 'Q300370', 'id': 1, 'label': 'A Clash of Kings'}, {'type': 'QUESTIONS_ENTITY', 'name_': 'Q1213715', 'id': 2, 'label': 'A Time to Kill'}], 'links': [{'name_': 'P17', 'source': 0, 'target': 0, 'label': 'country'}, {'name_': 'P495', 'source': 1, 'target': 0, 'label': 'country of origin'}, {'name_': 'P495', 'source': 2, 'target': 0, 'label': 'country of origin'}]}</td>\n",
              "      <td>0.0</td>\n",
              "      <td>United States, country, United States  &lt;/s&gt; A Clash of Kings &lt;/s&gt;, country of origin, United States  A Time to Kill, country of origin, United States</td>\n",
              "      <td>0.0</td>\n",
              "      <td>0</td>\n",
              "    </tr>\n",
              "    <tr>\n",
              "      <th>1</th>\n",
              "      <td>1</td>\n",
              "      <td>After publishing A Time to Kill, which book did its author begin working on immediately?</td>\n",
              "      <td>A Time to Kill</td>\n",
              "      <td>A Feast for Crows</td>\n",
              "      <td>Q1213715</td>\n",
              "      <td>Q1764445</td>\n",
              "      <td>{'nodes': [{'type': 'INTERNAL', 'name_': 'Q30', 'id': 0, 'label': 'United States'}, {'type': 'ANSWER_CANDIDATE_ENTITY', 'name_': 'Q1764445', 'id': 1, 'label': 'A Feast for Crows'}, {'type': 'QUESTIONS_ENTITY', 'name_': 'Q1213715', 'id': 2, 'label': 'A Time to Kill'}], 'links': [{'name_': 'P17', 'source': 0, 'target': 0, 'label': 'country'}, {'name_': 'P495', 'source': 1, 'target': 0, 'label': 'country of origin'}, {'name_': 'P495', 'source': 2, 'target': 0, 'label': 'country of origin'}]}</td>\n",
              "      <td>0.0</td>\n",
              "      <td>United States, country, United States  &lt;/s&gt; A Feast for Crows &lt;/s&gt;, country of origin, United States  A Time to Kill, country of origin, United States</td>\n",
              "      <td>0.0</td>\n",
              "      <td>0</td>\n",
              "    </tr>\n",
              "    <tr>\n",
              "      <th>2</th>\n",
              "      <td>2</td>\n",
              "      <td>After publishing A Time to Kill, which book did its author begin working on immediately?</td>\n",
              "      <td>A Time to Kill</td>\n",
              "      <td>Fear and Loathing in Las Vegas</td>\n",
              "      <td>Q1213715</td>\n",
              "      <td>Q772435</td>\n",
              "      <td>{'nodes': [{'type': 'INTERNAL', 'name_': 'Q30', 'id': 0, 'label': 'United States'}, {'type': 'ANSWER_CANDIDATE_ENTITY', 'name_': 'Q772435', 'id': 1, 'label': 'Fear and Loathing in Las Vegas'}, {'type': 'QUESTIONS_ENTITY', 'name_': 'Q1213715', 'id': 2, 'label': 'A Time to Kill'}], 'links': [{'name_': 'P17', 'source': 0, 'target': 0, 'label': 'country'}, {'name_': 'P495', 'source': 1, 'target': 0, 'label': 'country of origin'}, {'name_': 'P495', 'source': 2, 'target': 0, 'label': 'country of origin'}]}</td>\n",
              "      <td>0.0</td>\n",
              "      <td>United States, country, United States  &lt;/s&gt; Fear and Loathing in Las Vegas &lt;/s&gt;, country of origin, United States  A Time to Kill, country of origin, United States</td>\n",
              "      <td>0.0</td>\n",
              "      <td>0</td>\n",
              "    </tr>\n",
              "    <tr>\n",
              "      <th>3</th>\n",
              "      <td>3</td>\n",
              "      <td>After publishing A Time to Kill, which book did its author begin working on immediately?</td>\n",
              "      <td>A Time to Kill</td>\n",
              "      <td>In Cold Blood</td>\n",
              "      <td>Q1213715</td>\n",
              "      <td>Q1142887</td>\n",
              "      <td>{'nodes': [{'type': 'INTERNAL', 'name_': 'Q30', 'id': 0, 'label': 'United States'}, {'type': 'ANSWER_CANDIDATE_ENTITY', 'name_': 'Q1142887', 'id': 1, 'label': 'In Cold Blood'}, {'type': 'QUESTIONS_ENTITY', 'name_': 'Q1213715', 'id': 2, 'label': 'A Time to Kill'}], 'links': [{'name_': 'P17', 'source': 0, 'target': 0, 'label': 'country'}, {'name_': 'P495', 'source': 1, 'target': 0, 'label': 'country of origin'}, {'name_': 'P495', 'source': 2, 'target': 0, 'label': 'country of origin'}]}</td>\n",
              "      <td>0.0</td>\n",
              "      <td>United States, country, United States  &lt;/s&gt; In Cold Blood &lt;/s&gt;, country of origin, United States  A Time to Kill, country of origin, United States</td>\n",
              "      <td>0.0</td>\n",
              "      <td>0</td>\n",
              "    </tr>\n",
              "    <tr>\n",
              "      <th>4</th>\n",
              "      <td>4</td>\n",
              "      <td>After publishing A Time to Kill, which book did its author begin working on immediately?</td>\n",
              "      <td>A Time to Kill</td>\n",
              "      <td>Into the Woods</td>\n",
              "      <td>Q1213715</td>\n",
              "      <td>Q1118244</td>\n",
              "      <td>{'nodes': [{'type': 'INTERNAL', 'name_': 'Q30', 'id': 0, 'label': 'United States'}, {'type': 'ANSWER_CANDIDATE_ENTITY', 'name_': 'Q1118244', 'id': 1, 'label': 'Into the Woods'}, {'type': 'QUESTIONS_ENTITY', 'name_': 'Q1213715', 'id': 2, 'label': 'A Time to Kill'}], 'links': [{'name_': 'P17', 'source': 0, 'target': 0, 'label': 'country'}, {'name_': 'P495', 'source': 1, 'target': 0, 'label': 'country of origin'}, {'name_': 'P495', 'source': 2, 'target': 0, 'label': 'country of origin'}]}</td>\n",
              "      <td>0.0</td>\n",
              "      <td>United States, country, United States  &lt;/s&gt; Into the Woods &lt;/s&gt;, country of origin, United States  A Time to Kill, country of origin, United States</td>\n",
              "      <td>0.0</td>\n",
              "      <td>0</td>\n",
              "    </tr>\n",
              "  </tbody>\n",
              "</table>\n",
              "</div>"
            ],
            "text/plain": [
              "   sample_id  \\\n",
              "0          0   \n",
              "1          1   \n",
              "2          2   \n",
              "3          3   \n",
              "4          4   \n",
              "\n",
              "                                                                                   question  \\\n",
              "0  After publishing A Time to Kill, which book did its author begin working on immediately?   \n",
              "1  After publishing A Time to Kill, which book did its author begin working on immediately?   \n",
              "2  After publishing A Time to Kill, which book did its author begin working on immediately?   \n",
              "3  After publishing A Time to Kill, which book did its author begin working on immediately?   \n",
              "4  After publishing A Time to Kill, which book did its author begin working on immediately?   \n",
              "\n",
              "   questionEntity                    answerEntity questionEntityId  \\\n",
              "0  A Time to Kill                A Clash of Kings         Q1213715   \n",
              "1  A Time to Kill               A Feast for Crows         Q1213715   \n",
              "2  A Time to Kill  Fear and Loathing in Las Vegas         Q1213715   \n",
              "3  A Time to Kill                   In Cold Blood         Q1213715   \n",
              "4  A Time to Kill                  Into the Woods         Q1213715   \n",
              "\n",
              "  answerEntityId  \\\n",
              "0        Q300370   \n",
              "1       Q1764445   \n",
              "2        Q772435   \n",
              "3       Q1142887   \n",
              "4       Q1118244   \n",
              "\n",
              "                                                                                                                                                                                                                                                                                                                                                                                                                                                                                                                       graph  \\\n",
              "0                {'nodes': [{'type': 'INTERNAL', 'name_': 'Q30', 'id': 0, 'label': 'United States'}, {'type': 'ANSWER_CANDIDATE_ENTITY', 'name_': 'Q300370', 'id': 1, 'label': 'A Clash of Kings'}, {'type': 'QUESTIONS_ENTITY', 'name_': 'Q1213715', 'id': 2, 'label': 'A Time to Kill'}], 'links': [{'name_': 'P17', 'source': 0, 'target': 0, 'label': 'country'}, {'name_': 'P495', 'source': 1, 'target': 0, 'label': 'country of origin'}, {'name_': 'P495', 'source': 2, 'target': 0, 'label': 'country of origin'}]}   \n",
              "1              {'nodes': [{'type': 'INTERNAL', 'name_': 'Q30', 'id': 0, 'label': 'United States'}, {'type': 'ANSWER_CANDIDATE_ENTITY', 'name_': 'Q1764445', 'id': 1, 'label': 'A Feast for Crows'}, {'type': 'QUESTIONS_ENTITY', 'name_': 'Q1213715', 'id': 2, 'label': 'A Time to Kill'}], 'links': [{'name_': 'P17', 'source': 0, 'target': 0, 'label': 'country'}, {'name_': 'P495', 'source': 1, 'target': 0, 'label': 'country of origin'}, {'name_': 'P495', 'source': 2, 'target': 0, 'label': 'country of origin'}]}   \n",
              "2  {'nodes': [{'type': 'INTERNAL', 'name_': 'Q30', 'id': 0, 'label': 'United States'}, {'type': 'ANSWER_CANDIDATE_ENTITY', 'name_': 'Q772435', 'id': 1, 'label': 'Fear and Loathing in Las Vegas'}, {'type': 'QUESTIONS_ENTITY', 'name_': 'Q1213715', 'id': 2, 'label': 'A Time to Kill'}], 'links': [{'name_': 'P17', 'source': 0, 'target': 0, 'label': 'country'}, {'name_': 'P495', 'source': 1, 'target': 0, 'label': 'country of origin'}, {'name_': 'P495', 'source': 2, 'target': 0, 'label': 'country of origin'}]}   \n",
              "3                  {'nodes': [{'type': 'INTERNAL', 'name_': 'Q30', 'id': 0, 'label': 'United States'}, {'type': 'ANSWER_CANDIDATE_ENTITY', 'name_': 'Q1142887', 'id': 1, 'label': 'In Cold Blood'}, {'type': 'QUESTIONS_ENTITY', 'name_': 'Q1213715', 'id': 2, 'label': 'A Time to Kill'}], 'links': [{'name_': 'P17', 'source': 0, 'target': 0, 'label': 'country'}, {'name_': 'P495', 'source': 1, 'target': 0, 'label': 'country of origin'}, {'name_': 'P495', 'source': 2, 'target': 0, 'label': 'country of origin'}]}   \n",
              "4                 {'nodes': [{'type': 'INTERNAL', 'name_': 'Q30', 'id': 0, 'label': 'United States'}, {'type': 'ANSWER_CANDIDATE_ENTITY', 'name_': 'Q1118244', 'id': 1, 'label': 'Into the Woods'}, {'type': 'QUESTIONS_ENTITY', 'name_': 'Q1213715', 'id': 2, 'label': 'A Time to Kill'}], 'links': [{'name_': 'P17', 'source': 0, 'target': 0, 'label': 'country'}, {'name_': 'P495', 'source': 1, 'target': 0, 'label': 'country of origin'}, {'name_': 'P495', 'source': 2, 'target': 0, 'label': 'country of origin'}]}   \n",
              "\n",
              "   label  \\\n",
              "0    0.0   \n",
              "1    0.0   \n",
              "2    0.0   \n",
              "3    0.0   \n",
              "4    0.0   \n",
              "\n",
              "                                                                                                                                                        linearized_graph  \\\n",
              "0                 United States, country, United States  </s> A Clash of Kings </s>, country of origin, United States  A Time to Kill, country of origin, United States    \n",
              "1                United States, country, United States  </s> A Feast for Crows </s>, country of origin, United States  A Time to Kill, country of origin, United States    \n",
              "2   United States, country, United States  </s> Fear and Loathing in Las Vegas </s>, country of origin, United States  A Time to Kill, country of origin, United States    \n",
              "3                    United States, country, United States  </s> In Cold Blood </s>, country of origin, United States  A Time to Kill, country of origin, United States    \n",
              "4                   United States, country, United States  </s> Into the Woods </s>, country of origin, United States  A Time to Kill, country of origin, United States    \n",
              "\n",
              "   true_y  prediction  \n",
              "0     0.0           0  \n",
              "1     0.0           0  \n",
              "2     0.0           0  \n",
              "3     0.0           0  \n",
              "4     0.0           0  "
            ]
          },
          "execution_count": 100,
          "metadata": {},
          "output_type": "execute_result"
        }
      ],
      "source": [
        "test_df.head()"
      ]
    },
    {
      "cell_type": "code",
      "execution_count": null,
      "metadata": {
        "id": "uL8x1WYGgJJe"
      },
      "outputs": [],
      "source": [
        "test_pred_path = \"test_pred_linearized_graph_only_baseline.tsv\"\n",
        "test_df[[\"sample_id\", \"prediction\"]].to_csv(test_pred_path, sep='\\t', index=False)"
      ]
    },
    {
      "cell_type": "code",
      "execution_count": null,
      "metadata": {
        "id": "Vf___HoVgJLn"
      },
      "outputs": [],
      "source": []
    }
  ],
  "metadata": {
    "accelerator": "GPU",
    "colab": {
      "gpuType": "T4",
      "provenance": []
    },
    "kernelspec": {
      "display_name": "Python 3",
      "name": "python3"
    },
    "language_info": {
      "codemirror_mode": {
        "name": "ipython",
        "version": 3
      },
      "file_extension": ".py",
      "mimetype": "text/x-python",
      "name": "python",
      "nbconvert_exporter": "python",
      "pygments_lexer": "ipython3",
      "version": "3.9.17"
    },
    "widgets": {
      "application/vnd.jupyter.widget-state+json": {
        "04f0d0577ed041d289a83919f97b823b": {
          "model_module": "@jupyter-widgets/controls",
          "model_module_version": "1.5.0",
          "model_name": "HTMLModel",
          "state": {
            "_dom_classes": [],
            "_model_module": "@jupyter-widgets/controls",
            "_model_module_version": "1.5.0",
            "_model_name": "HTMLModel",
            "_view_count": null,
            "_view_module": "@jupyter-widgets/controls",
            "_view_module_version": "1.5.0",
            "_view_name": "HTMLView",
            "description": "",
            "description_tooltip": null,
            "layout": "IPY_MODEL_64f8ef842527428b9f254b29bfa6c6d1",
            "placeholder": "​",
            "style": "IPY_MODEL_302eb8ca355f422682c5c7d86379258b",
            "value": " 363/363 [00:00&lt;00:00, 5.32kB/s]"
          }
        },
        "0aca3cff5ad3467daf5ab5591a322baa": {
          "model_module": "@jupyter-widgets/base",
          "model_module_version": "1.2.0",
          "model_name": "LayoutModel",
          "state": {
            "_model_module": "@jupyter-widgets/base",
            "_model_module_version": "1.2.0",
            "_model_name": "LayoutModel",
            "_view_count": null,
            "_view_module": "@jupyter-widgets/base",
            "_view_module_version": "1.2.0",
            "_view_name": "LayoutView",
            "align_content": null,
            "align_items": null,
            "align_self": null,
            "border": null,
            "bottom": null,
            "display": null,
            "flex": null,
            "flex_flow": null,
            "grid_area": null,
            "grid_auto_columns": null,
            "grid_auto_flow": null,
            "grid_auto_rows": null,
            "grid_column": null,
            "grid_gap": null,
            "grid_row": null,
            "grid_template_areas": null,
            "grid_template_columns": null,
            "grid_template_rows": null,
            "height": null,
            "justify_content": null,
            "justify_items": null,
            "left": null,
            "margin": null,
            "max_height": null,
            "max_width": null,
            "min_height": null,
            "min_width": null,
            "object_fit": null,
            "object_position": null,
            "order": null,
            "overflow": null,
            "overflow_x": null,
            "overflow_y": null,
            "padding": null,
            "right": null,
            "top": null,
            "visibility": null,
            "width": null
          }
        },
        "0de69e0c276342eebdf867c4e68bd270": {
          "model_module": "@jupyter-widgets/base",
          "model_module_version": "1.2.0",
          "model_name": "LayoutModel",
          "state": {
            "_model_module": "@jupyter-widgets/base",
            "_model_module_version": "1.2.0",
            "_model_name": "LayoutModel",
            "_view_count": null,
            "_view_module": "@jupyter-widgets/base",
            "_view_module_version": "1.2.0",
            "_view_name": "LayoutView",
            "align_content": null,
            "align_items": null,
            "align_self": null,
            "border": null,
            "bottom": null,
            "display": null,
            "flex": null,
            "flex_flow": null,
            "grid_area": null,
            "grid_auto_columns": null,
            "grid_auto_flow": null,
            "grid_auto_rows": null,
            "grid_column": null,
            "grid_gap": null,
            "grid_row": null,
            "grid_template_areas": null,
            "grid_template_columns": null,
            "grid_template_rows": null,
            "height": null,
            "justify_content": null,
            "justify_items": null,
            "left": null,
            "margin": null,
            "max_height": null,
            "max_width": null,
            "min_height": null,
            "min_width": null,
            "object_fit": null,
            "object_position": null,
            "order": null,
            "overflow": null,
            "overflow_x": null,
            "overflow_y": null,
            "padding": null,
            "right": null,
            "top": null,
            "visibility": null,
            "width": null
          }
        },
        "131da912f13140c897383cc61bc46b7a": {
          "model_module": "@jupyter-widgets/controls",
          "model_module_version": "1.5.0",
          "model_name": "HTMLModel",
          "state": {
            "_dom_classes": [],
            "_model_module": "@jupyter-widgets/controls",
            "_model_module_version": "1.5.0",
            "_model_name": "HTMLModel",
            "_view_count": null,
            "_view_module": "@jupyter-widgets/controls",
            "_view_module_version": "1.5.0",
            "_view_name": "HTMLView",
            "description": "",
            "description_tooltip": null,
            "layout": "IPY_MODEL_e08d921f1b2a49fe8eeaa5d64e811af1",
            "placeholder": "​",
            "style": "IPY_MODEL_f8751b6b35cc489b8918a5d23bed8670",
            "value": "special_tokens_map.json: 100%"
          }
        },
        "13803e928627493f95e085496ba2e301": {
          "model_module": "@jupyter-widgets/controls",
          "model_module_version": "1.5.0",
          "model_name": "ProgressStyleModel",
          "state": {
            "_model_module": "@jupyter-widgets/controls",
            "_model_module_version": "1.5.0",
            "_model_name": "ProgressStyleModel",
            "_view_count": null,
            "_view_module": "@jupyter-widgets/base",
            "_view_module_version": "1.2.0",
            "_view_name": "StyleView",
            "bar_color": null,
            "description_width": ""
          }
        },
        "17308fe207c44198809799d59b676378": {
          "model_module": "@jupyter-widgets/controls",
          "model_module_version": "1.5.0",
          "model_name": "FloatProgressModel",
          "state": {
            "_dom_classes": [],
            "_model_module": "@jupyter-widgets/controls",
            "_model_module_version": "1.5.0",
            "_model_name": "FloatProgressModel",
            "_view_count": null,
            "_view_module": "@jupyter-widgets/controls",
            "_view_module_version": "1.5.0",
            "_view_name": "ProgressView",
            "bar_style": "success",
            "description": "",
            "description_tooltip": null,
            "layout": "IPY_MODEL_7e451702e8d64e68ab7f8b21cdf93359",
            "max": 231536,
            "min": 0,
            "orientation": "horizontal",
            "style": "IPY_MODEL_23cf94ffec3f4b65b5c8a0001b4ff83c",
            "value": 231536
          }
        },
        "187ae4d5b20e418da19aefeb6f8620e4": {
          "model_module": "@jupyter-widgets/base",
          "model_module_version": "1.2.0",
          "model_name": "LayoutModel",
          "state": {
            "_model_module": "@jupyter-widgets/base",
            "_model_module_version": "1.2.0",
            "_model_name": "LayoutModel",
            "_view_count": null,
            "_view_module": "@jupyter-widgets/base",
            "_view_module_version": "1.2.0",
            "_view_name": "LayoutView",
            "align_content": null,
            "align_items": null,
            "align_self": null,
            "border": null,
            "bottom": null,
            "display": null,
            "flex": null,
            "flex_flow": null,
            "grid_area": null,
            "grid_auto_columns": null,
            "grid_auto_flow": null,
            "grid_auto_rows": null,
            "grid_column": null,
            "grid_gap": null,
            "grid_row": null,
            "grid_template_areas": null,
            "grid_template_columns": null,
            "grid_template_rows": null,
            "height": null,
            "justify_content": null,
            "justify_items": null,
            "left": null,
            "margin": null,
            "max_height": null,
            "max_width": null,
            "min_height": null,
            "min_width": null,
            "object_fit": null,
            "object_position": null,
            "order": null,
            "overflow": null,
            "overflow_x": null,
            "overflow_y": null,
            "padding": null,
            "right": null,
            "top": null,
            "visibility": null,
            "width": null
          }
        },
        "208285cb4e334b09a7013f6e59a2dc93": {
          "model_module": "@jupyter-widgets/controls",
          "model_module_version": "1.5.0",
          "model_name": "HBoxModel",
          "state": {
            "_dom_classes": [],
            "_model_module": "@jupyter-widgets/controls",
            "_model_module_version": "1.5.0",
            "_model_name": "HBoxModel",
            "_view_count": null,
            "_view_module": "@jupyter-widgets/controls",
            "_view_module_version": "1.5.0",
            "_view_name": "HBoxView",
            "box_style": "",
            "children": [
              "IPY_MODEL_26ffd8b3c5ea4a7ead1a4d95b78cfaeb",
              "IPY_MODEL_17308fe207c44198809799d59b676378",
              "IPY_MODEL_7fb747e6cd7d4364b9414e5122205356"
            ],
            "layout": "IPY_MODEL_ef0aee5d04074133932f7d2f468b921b"
          }
        },
        "211dac0ccd3b44168319020de1e6033e": {
          "model_module": "@jupyter-widgets/controls",
          "model_module_version": "1.5.0",
          "model_name": "HTMLModel",
          "state": {
            "_dom_classes": [],
            "_model_module": "@jupyter-widgets/controls",
            "_model_module_version": "1.5.0",
            "_model_name": "HTMLModel",
            "_view_count": null,
            "_view_module": "@jupyter-widgets/controls",
            "_view_module_version": "1.5.0",
            "_view_name": "HTMLView",
            "description": "",
            "description_tooltip": null,
            "layout": "IPY_MODEL_bc0bf1811e854fe4b7ffeda799425c78",
            "placeholder": "​",
            "style": "IPY_MODEL_c9a84cea249a4ca9a4be3ba3e7395d00",
            "value": "tokenizer.json: 100%"
          }
        },
        "22f7dda8f1c645c9bce12bece1c35713": {
          "model_module": "@jupyter-widgets/controls",
          "model_module_version": "1.5.0",
          "model_name": "HBoxModel",
          "state": {
            "_dom_classes": [],
            "_model_module": "@jupyter-widgets/controls",
            "_model_module_version": "1.5.0",
            "_model_name": "HBoxModel",
            "_view_count": null,
            "_view_module": "@jupyter-widgets/controls",
            "_view_module_version": "1.5.0",
            "_view_name": "HBoxView",
            "box_style": "",
            "children": [
              "IPY_MODEL_131da912f13140c897383cc61bc46b7a",
              "IPY_MODEL_e53ce79804cb4f17a8ad2b84afc63ce4",
              "IPY_MODEL_6da3e5f565114163b784a2c7195889d6"
            ],
            "layout": "IPY_MODEL_d6a1ca4f2f7a48fcbfa89d7546d1250b"
          }
        },
        "23cf94ffec3f4b65b5c8a0001b4ff83c": {
          "model_module": "@jupyter-widgets/controls",
          "model_module_version": "1.5.0",
          "model_name": "ProgressStyleModel",
          "state": {
            "_model_module": "@jupyter-widgets/controls",
            "_model_module_version": "1.5.0",
            "_model_name": "ProgressStyleModel",
            "_view_count": null,
            "_view_module": "@jupyter-widgets/base",
            "_view_module_version": "1.2.0",
            "_view_name": "StyleView",
            "bar_color": null,
            "description_width": ""
          }
        },
        "240f973df7004259990482c480ff7399": {
          "model_module": "@jupyter-widgets/controls",
          "model_module_version": "1.5.0",
          "model_name": "HBoxModel",
          "state": {
            "_dom_classes": [],
            "_model_module": "@jupyter-widgets/controls",
            "_model_module_version": "1.5.0",
            "_model_name": "HBoxModel",
            "_view_count": null,
            "_view_module": "@jupyter-widgets/controls",
            "_view_module_version": "1.5.0",
            "_view_name": "HBoxView",
            "box_style": "",
            "children": [
              "IPY_MODEL_211dac0ccd3b44168319020de1e6033e",
              "IPY_MODEL_7150264194694fcc8294d7264a6522a4",
              "IPY_MODEL_523bab21e4ae47d2ae8d9767cb96f950"
            ],
            "layout": "IPY_MODEL_9d7095c174324f259f462763979d7144"
          }
        },
        "26ffd8b3c5ea4a7ead1a4d95b78cfaeb": {
          "model_module": "@jupyter-widgets/controls",
          "model_module_version": "1.5.0",
          "model_name": "HTMLModel",
          "state": {
            "_dom_classes": [],
            "_model_module": "@jupyter-widgets/controls",
            "_model_module_version": "1.5.0",
            "_model_name": "HTMLModel",
            "_view_count": null,
            "_view_module": "@jupyter-widgets/controls",
            "_view_module_version": "1.5.0",
            "_view_name": "HTMLView",
            "description": "",
            "description_tooltip": null,
            "layout": "IPY_MODEL_bd3d9fb08ebf4561846cec4265de5284",
            "placeholder": "​",
            "style": "IPY_MODEL_d7b37c52c0ff467f8b8ac1079e67c40c",
            "value": "vocab.txt: 100%"
          }
        },
        "2c3ba15fd85f42e695a3f5ec23f3a858": {
          "model_module": "@jupyter-widgets/controls",
          "model_module_version": "1.5.0",
          "model_name": "HTMLModel",
          "state": {
            "_dom_classes": [],
            "_model_module": "@jupyter-widgets/controls",
            "_model_module_version": "1.5.0",
            "_model_name": "HTMLModel",
            "_view_count": null,
            "_view_module": "@jupyter-widgets/controls",
            "_view_module_version": "1.5.0",
            "_view_name": "HTMLView",
            "description": "",
            "description_tooltip": null,
            "layout": "IPY_MODEL_d5883fe8a67542bf90f404458db3e54f",
            "placeholder": "​",
            "style": "IPY_MODEL_a0f73dcc73ce4a07ba73cf1883a252e8",
            "value": " 571/571 [00:00&lt;00:00, 9.82kB/s]"
          }
        },
        "2f83dc26435e499992a0dbbe27b14bbd": {
          "model_module": "@jupyter-widgets/controls",
          "model_module_version": "1.5.0",
          "model_name": "DescriptionStyleModel",
          "state": {
            "_model_module": "@jupyter-widgets/controls",
            "_model_module_version": "1.5.0",
            "_model_name": "DescriptionStyleModel",
            "_view_count": null,
            "_view_module": "@jupyter-widgets/base",
            "_view_module_version": "1.2.0",
            "_view_name": "StyleView",
            "description_width": ""
          }
        },
        "302eb8ca355f422682c5c7d86379258b": {
          "model_module": "@jupyter-widgets/controls",
          "model_module_version": "1.5.0",
          "model_name": "DescriptionStyleModel",
          "state": {
            "_model_module": "@jupyter-widgets/controls",
            "_model_module_version": "1.5.0",
            "_model_name": "DescriptionStyleModel",
            "_view_count": null,
            "_view_module": "@jupyter-widgets/base",
            "_view_module_version": "1.2.0",
            "_view_name": "StyleView",
            "description_width": ""
          }
        },
        "337391fc5a0b4055ac8f63fb99d5cb8b": {
          "model_module": "@jupyter-widgets/base",
          "model_module_version": "1.2.0",
          "model_name": "LayoutModel",
          "state": {
            "_model_module": "@jupyter-widgets/base",
            "_model_module_version": "1.2.0",
            "_model_name": "LayoutModel",
            "_view_count": null,
            "_view_module": "@jupyter-widgets/base",
            "_view_module_version": "1.2.0",
            "_view_name": "LayoutView",
            "align_content": null,
            "align_items": null,
            "align_self": null,
            "border": null,
            "bottom": null,
            "display": null,
            "flex": null,
            "flex_flow": null,
            "grid_area": null,
            "grid_auto_columns": null,
            "grid_auto_flow": null,
            "grid_auto_rows": null,
            "grid_column": null,
            "grid_gap": null,
            "grid_row": null,
            "grid_template_areas": null,
            "grid_template_columns": null,
            "grid_template_rows": null,
            "height": null,
            "justify_content": null,
            "justify_items": null,
            "left": null,
            "margin": null,
            "max_height": null,
            "max_width": null,
            "min_height": null,
            "min_width": null,
            "object_fit": null,
            "object_position": null,
            "order": null,
            "overflow": null,
            "overflow_x": null,
            "overflow_y": null,
            "padding": null,
            "right": null,
            "top": null,
            "visibility": null,
            "width": null
          }
        },
        "3c2ab6238682410ca196fb529bbf12c3": {
          "model_module": "@jupyter-widgets/base",
          "model_module_version": "1.2.0",
          "model_name": "LayoutModel",
          "state": {
            "_model_module": "@jupyter-widgets/base",
            "_model_module_version": "1.2.0",
            "_model_name": "LayoutModel",
            "_view_count": null,
            "_view_module": "@jupyter-widgets/base",
            "_view_module_version": "1.2.0",
            "_view_name": "LayoutView",
            "align_content": null,
            "align_items": null,
            "align_self": null,
            "border": null,
            "bottom": null,
            "display": null,
            "flex": null,
            "flex_flow": null,
            "grid_area": null,
            "grid_auto_columns": null,
            "grid_auto_flow": null,
            "grid_auto_rows": null,
            "grid_column": null,
            "grid_gap": null,
            "grid_row": null,
            "grid_template_areas": null,
            "grid_template_columns": null,
            "grid_template_rows": null,
            "height": null,
            "justify_content": null,
            "justify_items": null,
            "left": null,
            "margin": null,
            "max_height": null,
            "max_width": null,
            "min_height": null,
            "min_width": null,
            "object_fit": null,
            "object_position": null,
            "order": null,
            "overflow": null,
            "overflow_x": null,
            "overflow_y": null,
            "padding": null,
            "right": null,
            "top": null,
            "visibility": null,
            "width": null
          }
        },
        "3ef187815968408aab6bb54dbf0a8ff1": {
          "model_module": "@jupyter-widgets/controls",
          "model_module_version": "1.5.0",
          "model_name": "HTMLModel",
          "state": {
            "_dom_classes": [],
            "_model_module": "@jupyter-widgets/controls",
            "_model_module_version": "1.5.0",
            "_model_name": "HTMLModel",
            "_view_count": null,
            "_view_module": "@jupyter-widgets/controls",
            "_view_module_version": "1.5.0",
            "_view_name": "HTMLView",
            "description": "",
            "description_tooltip": null,
            "layout": "IPY_MODEL_0de69e0c276342eebdf867c4e68bd270",
            "placeholder": "​",
            "style": "IPY_MODEL_9d21c84043604357b459e6be20abaa98",
            "value": "config.json: 100%"
          }
        },
        "3f9b36be24a74f668448ba4eecd2f331": {
          "model_module": "@jupyter-widgets/controls",
          "model_module_version": "1.5.0",
          "model_name": "HBoxModel",
          "state": {
            "_dom_classes": [],
            "_model_module": "@jupyter-widgets/controls",
            "_model_module_version": "1.5.0",
            "_model_name": "HBoxModel",
            "_view_count": null,
            "_view_module": "@jupyter-widgets/controls",
            "_view_module_version": "1.5.0",
            "_view_name": "HBoxView",
            "box_style": "",
            "children": [
              "IPY_MODEL_3ef187815968408aab6bb54dbf0a8ff1",
              "IPY_MODEL_7f6c3c37d3b040f29fc89dc66aec9b3e",
              "IPY_MODEL_2c3ba15fd85f42e695a3f5ec23f3a858"
            ],
            "layout": "IPY_MODEL_3c2ab6238682410ca196fb529bbf12c3"
          }
        },
        "4925d2e5af9f4adaa12e3309aceb8f86": {
          "model_module": "@jupyter-widgets/controls",
          "model_module_version": "1.5.0",
          "model_name": "FloatProgressModel",
          "state": {
            "_dom_classes": [],
            "_model_module": "@jupyter-widgets/controls",
            "_model_module_version": "1.5.0",
            "_model_name": "FloatProgressModel",
            "_view_count": null,
            "_view_module": "@jupyter-widgets/controls",
            "_view_module_version": "1.5.0",
            "_view_name": "ProgressView",
            "bar_style": "success",
            "description": "",
            "description_tooltip": null,
            "layout": "IPY_MODEL_6e86a451d05846169aca0e76c2d668fd",
            "max": 437971872,
            "min": 0,
            "orientation": "horizontal",
            "style": "IPY_MODEL_caaa4ebbff5048e584a4805c8bef4b21",
            "value": 437971872
          }
        },
        "4ed19634d1ee48d3b40ae09657c19aaa": {
          "model_module": "@jupyter-widgets/base",
          "model_module_version": "1.2.0",
          "model_name": "LayoutModel",
          "state": {
            "_model_module": "@jupyter-widgets/base",
            "_model_module_version": "1.2.0",
            "_model_name": "LayoutModel",
            "_view_count": null,
            "_view_module": "@jupyter-widgets/base",
            "_view_module_version": "1.2.0",
            "_view_name": "LayoutView",
            "align_content": null,
            "align_items": null,
            "align_self": null,
            "border": null,
            "bottom": null,
            "display": null,
            "flex": null,
            "flex_flow": null,
            "grid_area": null,
            "grid_auto_columns": null,
            "grid_auto_flow": null,
            "grid_auto_rows": null,
            "grid_column": null,
            "grid_gap": null,
            "grid_row": null,
            "grid_template_areas": null,
            "grid_template_columns": null,
            "grid_template_rows": null,
            "height": null,
            "justify_content": null,
            "justify_items": null,
            "left": null,
            "margin": null,
            "max_height": null,
            "max_width": null,
            "min_height": null,
            "min_width": null,
            "object_fit": null,
            "object_position": null,
            "order": null,
            "overflow": null,
            "overflow_x": null,
            "overflow_y": null,
            "padding": null,
            "right": null,
            "top": null,
            "visibility": null,
            "width": null
          }
        },
        "523bab21e4ae47d2ae8d9767cb96f950": {
          "model_module": "@jupyter-widgets/controls",
          "model_module_version": "1.5.0",
          "model_name": "HTMLModel",
          "state": {
            "_dom_classes": [],
            "_model_module": "@jupyter-widgets/controls",
            "_model_module_version": "1.5.0",
            "_model_name": "HTMLModel",
            "_view_count": null,
            "_view_module": "@jupyter-widgets/controls",
            "_view_module_version": "1.5.0",
            "_view_name": "HTMLView",
            "description": "",
            "description_tooltip": null,
            "layout": "IPY_MODEL_0aca3cff5ad3467daf5ab5591a322baa",
            "placeholder": "​",
            "style": "IPY_MODEL_5628b6e95246444c9cc836aca71b65df",
            "value": " 466k/466k [00:00&lt;00:00, 6.34MB/s]"
          }
        },
        "52ef5d19a9e3401eb0b6587500fc8d62": {
          "model_module": "@jupyter-widgets/base",
          "model_module_version": "1.2.0",
          "model_name": "LayoutModel",
          "state": {
            "_model_module": "@jupyter-widgets/base",
            "_model_module_version": "1.2.0",
            "_model_name": "LayoutModel",
            "_view_count": null,
            "_view_module": "@jupyter-widgets/base",
            "_view_module_version": "1.2.0",
            "_view_name": "LayoutView",
            "align_content": null,
            "align_items": null,
            "align_self": null,
            "border": null,
            "bottom": null,
            "display": null,
            "flex": null,
            "flex_flow": null,
            "grid_area": null,
            "grid_auto_columns": null,
            "grid_auto_flow": null,
            "grid_auto_rows": null,
            "grid_column": null,
            "grid_gap": null,
            "grid_row": null,
            "grid_template_areas": null,
            "grid_template_columns": null,
            "grid_template_rows": null,
            "height": null,
            "justify_content": null,
            "justify_items": null,
            "left": null,
            "margin": null,
            "max_height": null,
            "max_width": null,
            "min_height": null,
            "min_width": null,
            "object_fit": null,
            "object_position": null,
            "order": null,
            "overflow": null,
            "overflow_x": null,
            "overflow_y": null,
            "padding": null,
            "right": null,
            "top": null,
            "visibility": null,
            "width": null
          }
        },
        "5628b6e95246444c9cc836aca71b65df": {
          "model_module": "@jupyter-widgets/controls",
          "model_module_version": "1.5.0",
          "model_name": "DescriptionStyleModel",
          "state": {
            "_model_module": "@jupyter-widgets/controls",
            "_model_module_version": "1.5.0",
            "_model_name": "DescriptionStyleModel",
            "_view_count": null,
            "_view_module": "@jupyter-widgets/base",
            "_view_module_version": "1.2.0",
            "_view_name": "StyleView",
            "description_width": ""
          }
        },
        "64f8ef842527428b9f254b29bfa6c6d1": {
          "model_module": "@jupyter-widgets/base",
          "model_module_version": "1.2.0",
          "model_name": "LayoutModel",
          "state": {
            "_model_module": "@jupyter-widgets/base",
            "_model_module_version": "1.2.0",
            "_model_name": "LayoutModel",
            "_view_count": null,
            "_view_module": "@jupyter-widgets/base",
            "_view_module_version": "1.2.0",
            "_view_name": "LayoutView",
            "align_content": null,
            "align_items": null,
            "align_self": null,
            "border": null,
            "bottom": null,
            "display": null,
            "flex": null,
            "flex_flow": null,
            "grid_area": null,
            "grid_auto_columns": null,
            "grid_auto_flow": null,
            "grid_auto_rows": null,
            "grid_column": null,
            "grid_gap": null,
            "grid_row": null,
            "grid_template_areas": null,
            "grid_template_columns": null,
            "grid_template_rows": null,
            "height": null,
            "justify_content": null,
            "justify_items": null,
            "left": null,
            "margin": null,
            "max_height": null,
            "max_width": null,
            "min_height": null,
            "min_width": null,
            "object_fit": null,
            "object_position": null,
            "order": null,
            "overflow": null,
            "overflow_x": null,
            "overflow_y": null,
            "padding": null,
            "right": null,
            "top": null,
            "visibility": null,
            "width": null
          }
        },
        "650786cd569248368c8289a11c4668cc": {
          "model_module": "@jupyter-widgets/base",
          "model_module_version": "1.2.0",
          "model_name": "LayoutModel",
          "state": {
            "_model_module": "@jupyter-widgets/base",
            "_model_module_version": "1.2.0",
            "_model_name": "LayoutModel",
            "_view_count": null,
            "_view_module": "@jupyter-widgets/base",
            "_view_module_version": "1.2.0",
            "_view_name": "LayoutView",
            "align_content": null,
            "align_items": null,
            "align_self": null,
            "border": null,
            "bottom": null,
            "display": null,
            "flex": null,
            "flex_flow": null,
            "grid_area": null,
            "grid_auto_columns": null,
            "grid_auto_flow": null,
            "grid_auto_rows": null,
            "grid_column": null,
            "grid_gap": null,
            "grid_row": null,
            "grid_template_areas": null,
            "grid_template_columns": null,
            "grid_template_rows": null,
            "height": null,
            "justify_content": null,
            "justify_items": null,
            "left": null,
            "margin": null,
            "max_height": null,
            "max_width": null,
            "min_height": null,
            "min_width": null,
            "object_fit": null,
            "object_position": null,
            "order": null,
            "overflow": null,
            "overflow_x": null,
            "overflow_y": null,
            "padding": null,
            "right": null,
            "top": null,
            "visibility": null,
            "width": null
          }
        },
        "6c85e1fec45040f8b994cc8d1254c88e": {
          "model_module": "@jupyter-widgets/controls",
          "model_module_version": "1.5.0",
          "model_name": "ProgressStyleModel",
          "state": {
            "_model_module": "@jupyter-widgets/controls",
            "_model_module_version": "1.5.0",
            "_model_name": "ProgressStyleModel",
            "_view_count": null,
            "_view_module": "@jupyter-widgets/base",
            "_view_module_version": "1.2.0",
            "_view_name": "StyleView",
            "bar_color": null,
            "description_width": ""
          }
        },
        "6d5932e555234ad099b14d27e199cdd0": {
          "model_module": "@jupyter-widgets/base",
          "model_module_version": "1.2.0",
          "model_name": "LayoutModel",
          "state": {
            "_model_module": "@jupyter-widgets/base",
            "_model_module_version": "1.2.0",
            "_model_name": "LayoutModel",
            "_view_count": null,
            "_view_module": "@jupyter-widgets/base",
            "_view_module_version": "1.2.0",
            "_view_name": "LayoutView",
            "align_content": null,
            "align_items": null,
            "align_self": null,
            "border": null,
            "bottom": null,
            "display": null,
            "flex": null,
            "flex_flow": null,
            "grid_area": null,
            "grid_auto_columns": null,
            "grid_auto_flow": null,
            "grid_auto_rows": null,
            "grid_column": null,
            "grid_gap": null,
            "grid_row": null,
            "grid_template_areas": null,
            "grid_template_columns": null,
            "grid_template_rows": null,
            "height": null,
            "justify_content": null,
            "justify_items": null,
            "left": null,
            "margin": null,
            "max_height": null,
            "max_width": null,
            "min_height": null,
            "min_width": null,
            "object_fit": null,
            "object_position": null,
            "order": null,
            "overflow": null,
            "overflow_x": null,
            "overflow_y": null,
            "padding": null,
            "right": null,
            "top": null,
            "visibility": null,
            "width": null
          }
        },
        "6da3e5f565114163b784a2c7195889d6": {
          "model_module": "@jupyter-widgets/controls",
          "model_module_version": "1.5.0",
          "model_name": "HTMLModel",
          "state": {
            "_dom_classes": [],
            "_model_module": "@jupyter-widgets/controls",
            "_model_module_version": "1.5.0",
            "_model_name": "HTMLModel",
            "_view_count": null,
            "_view_module": "@jupyter-widgets/controls",
            "_view_module_version": "1.5.0",
            "_view_name": "HTMLView",
            "description": "",
            "description_tooltip": null,
            "layout": "IPY_MODEL_c42902a3f86041f49c077bf1fb83c6f3",
            "placeholder": "​",
            "style": "IPY_MODEL_ea19f3b5e8c343bc8bc00baa4cda36b8",
            "value": " 239/239 [00:00&lt;00:00, 3.66kB/s]"
          }
        },
        "6e86a451d05846169aca0e76c2d668fd": {
          "model_module": "@jupyter-widgets/base",
          "model_module_version": "1.2.0",
          "model_name": "LayoutModel",
          "state": {
            "_model_module": "@jupyter-widgets/base",
            "_model_module_version": "1.2.0",
            "_model_name": "LayoutModel",
            "_view_count": null,
            "_view_module": "@jupyter-widgets/base",
            "_view_module_version": "1.2.0",
            "_view_name": "LayoutView",
            "align_content": null,
            "align_items": null,
            "align_self": null,
            "border": null,
            "bottom": null,
            "display": null,
            "flex": null,
            "flex_flow": null,
            "grid_area": null,
            "grid_auto_columns": null,
            "grid_auto_flow": null,
            "grid_auto_rows": null,
            "grid_column": null,
            "grid_gap": null,
            "grid_row": null,
            "grid_template_areas": null,
            "grid_template_columns": null,
            "grid_template_rows": null,
            "height": null,
            "justify_content": null,
            "justify_items": null,
            "left": null,
            "margin": null,
            "max_height": null,
            "max_width": null,
            "min_height": null,
            "min_width": null,
            "object_fit": null,
            "object_position": null,
            "order": null,
            "overflow": null,
            "overflow_x": null,
            "overflow_y": null,
            "padding": null,
            "right": null,
            "top": null,
            "visibility": null,
            "width": null
          }
        },
        "6edac992be6e49618db611206fb0cf07": {
          "model_module": "@jupyter-widgets/base",
          "model_module_version": "1.2.0",
          "model_name": "LayoutModel",
          "state": {
            "_model_module": "@jupyter-widgets/base",
            "_model_module_version": "1.2.0",
            "_model_name": "LayoutModel",
            "_view_count": null,
            "_view_module": "@jupyter-widgets/base",
            "_view_module_version": "1.2.0",
            "_view_name": "LayoutView",
            "align_content": null,
            "align_items": null,
            "align_self": null,
            "border": null,
            "bottom": null,
            "display": null,
            "flex": null,
            "flex_flow": null,
            "grid_area": null,
            "grid_auto_columns": null,
            "grid_auto_flow": null,
            "grid_auto_rows": null,
            "grid_column": null,
            "grid_gap": null,
            "grid_row": null,
            "grid_template_areas": null,
            "grid_template_columns": null,
            "grid_template_rows": null,
            "height": null,
            "justify_content": null,
            "justify_items": null,
            "left": null,
            "margin": null,
            "max_height": null,
            "max_width": null,
            "min_height": null,
            "min_width": null,
            "object_fit": null,
            "object_position": null,
            "order": null,
            "overflow": null,
            "overflow_x": null,
            "overflow_y": null,
            "padding": null,
            "right": null,
            "top": null,
            "visibility": null,
            "width": null
          }
        },
        "7150264194694fcc8294d7264a6522a4": {
          "model_module": "@jupyter-widgets/controls",
          "model_module_version": "1.5.0",
          "model_name": "FloatProgressModel",
          "state": {
            "_dom_classes": [],
            "_model_module": "@jupyter-widgets/controls",
            "_model_module_version": "1.5.0",
            "_model_name": "FloatProgressModel",
            "_view_count": null,
            "_view_module": "@jupyter-widgets/controls",
            "_view_module_version": "1.5.0",
            "_view_name": "ProgressView",
            "bar_style": "success",
            "description": "",
            "description_tooltip": null,
            "layout": "IPY_MODEL_52ef5d19a9e3401eb0b6587500fc8d62",
            "max": 466021,
            "min": 0,
            "orientation": "horizontal",
            "style": "IPY_MODEL_13803e928627493f95e085496ba2e301",
            "value": 466021
          }
        },
        "7e451702e8d64e68ab7f8b21cdf93359": {
          "model_module": "@jupyter-widgets/base",
          "model_module_version": "1.2.0",
          "model_name": "LayoutModel",
          "state": {
            "_model_module": "@jupyter-widgets/base",
            "_model_module_version": "1.2.0",
            "_model_name": "LayoutModel",
            "_view_count": null,
            "_view_module": "@jupyter-widgets/base",
            "_view_module_version": "1.2.0",
            "_view_name": "LayoutView",
            "align_content": null,
            "align_items": null,
            "align_self": null,
            "border": null,
            "bottom": null,
            "display": null,
            "flex": null,
            "flex_flow": null,
            "grid_area": null,
            "grid_auto_columns": null,
            "grid_auto_flow": null,
            "grid_auto_rows": null,
            "grid_column": null,
            "grid_gap": null,
            "grid_row": null,
            "grid_template_areas": null,
            "grid_template_columns": null,
            "grid_template_rows": null,
            "height": null,
            "justify_content": null,
            "justify_items": null,
            "left": null,
            "margin": null,
            "max_height": null,
            "max_width": null,
            "min_height": null,
            "min_width": null,
            "object_fit": null,
            "object_position": null,
            "order": null,
            "overflow": null,
            "overflow_x": null,
            "overflow_y": null,
            "padding": null,
            "right": null,
            "top": null,
            "visibility": null,
            "width": null
          }
        },
        "7e5d51a1aa8148bab1d5580e3ada9445": {
          "model_module": "@jupyter-widgets/controls",
          "model_module_version": "1.5.0",
          "model_name": "ProgressStyleModel",
          "state": {
            "_model_module": "@jupyter-widgets/controls",
            "_model_module_version": "1.5.0",
            "_model_name": "ProgressStyleModel",
            "_view_count": null,
            "_view_module": "@jupyter-widgets/base",
            "_view_module_version": "1.2.0",
            "_view_name": "StyleView",
            "bar_color": null,
            "description_width": ""
          }
        },
        "7f6c3c37d3b040f29fc89dc66aec9b3e": {
          "model_module": "@jupyter-widgets/controls",
          "model_module_version": "1.5.0",
          "model_name": "FloatProgressModel",
          "state": {
            "_dom_classes": [],
            "_model_module": "@jupyter-widgets/controls",
            "_model_module_version": "1.5.0",
            "_model_name": "FloatProgressModel",
            "_view_count": null,
            "_view_module": "@jupyter-widgets/controls",
            "_view_module_version": "1.5.0",
            "_view_name": "ProgressView",
            "bar_style": "success",
            "description": "",
            "description_tooltip": null,
            "layout": "IPY_MODEL_4ed19634d1ee48d3b40ae09657c19aaa",
            "max": 571,
            "min": 0,
            "orientation": "horizontal",
            "style": "IPY_MODEL_6c85e1fec45040f8b994cc8d1254c88e",
            "value": 571
          }
        },
        "7f8d5440bc0f4b3ea54b853b4b59148f": {
          "model_module": "@jupyter-widgets/controls",
          "model_module_version": "1.5.0",
          "model_name": "DescriptionStyleModel",
          "state": {
            "_model_module": "@jupyter-widgets/controls",
            "_model_module_version": "1.5.0",
            "_model_name": "DescriptionStyleModel",
            "_view_count": null,
            "_view_module": "@jupyter-widgets/base",
            "_view_module_version": "1.2.0",
            "_view_name": "StyleView",
            "description_width": ""
          }
        },
        "7fb747e6cd7d4364b9414e5122205356": {
          "model_module": "@jupyter-widgets/controls",
          "model_module_version": "1.5.0",
          "model_name": "HTMLModel",
          "state": {
            "_dom_classes": [],
            "_model_module": "@jupyter-widgets/controls",
            "_model_module_version": "1.5.0",
            "_model_name": "HTMLModel",
            "_view_count": null,
            "_view_module": "@jupyter-widgets/controls",
            "_view_module_version": "1.5.0",
            "_view_name": "HTMLView",
            "description": "",
            "description_tooltip": null,
            "layout": "IPY_MODEL_187ae4d5b20e418da19aefeb6f8620e4",
            "placeholder": "​",
            "style": "IPY_MODEL_b73f95065c394a348216ebad8e8b9907",
            "value": " 232k/232k [00:00&lt;00:00, 935kB/s]"
          }
        },
        "86b73b73c9154bbeb4dc213f877a1c5a": {
          "model_module": "@jupyter-widgets/base",
          "model_module_version": "1.2.0",
          "model_name": "LayoutModel",
          "state": {
            "_model_module": "@jupyter-widgets/base",
            "_model_module_version": "1.2.0",
            "_model_name": "LayoutModel",
            "_view_count": null,
            "_view_module": "@jupyter-widgets/base",
            "_view_module_version": "1.2.0",
            "_view_name": "LayoutView",
            "align_content": null,
            "align_items": null,
            "align_self": null,
            "border": null,
            "bottom": null,
            "display": null,
            "flex": null,
            "flex_flow": null,
            "grid_area": null,
            "grid_auto_columns": null,
            "grid_auto_flow": null,
            "grid_auto_rows": null,
            "grid_column": null,
            "grid_gap": null,
            "grid_row": null,
            "grid_template_areas": null,
            "grid_template_columns": null,
            "grid_template_rows": null,
            "height": null,
            "justify_content": null,
            "justify_items": null,
            "left": null,
            "margin": null,
            "max_height": null,
            "max_width": null,
            "min_height": null,
            "min_width": null,
            "object_fit": null,
            "object_position": null,
            "order": null,
            "overflow": null,
            "overflow_x": null,
            "overflow_y": null,
            "padding": null,
            "right": null,
            "top": null,
            "visibility": null,
            "width": null
          }
        },
        "8ed61ced11484335afca68782fe9003c": {
          "model_module": "@jupyter-widgets/controls",
          "model_module_version": "1.5.0",
          "model_name": "HBoxModel",
          "state": {
            "_dom_classes": [],
            "_model_module": "@jupyter-widgets/controls",
            "_model_module_version": "1.5.0",
            "_model_name": "HBoxModel",
            "_view_count": null,
            "_view_module": "@jupyter-widgets/controls",
            "_view_module_version": "1.5.0",
            "_view_name": "HBoxView",
            "box_style": "",
            "children": [
              "IPY_MODEL_abd2abe46951416e9829f8b4325c4675",
              "IPY_MODEL_f47e7752fd7e4940bedf57d157aea00c",
              "IPY_MODEL_04f0d0577ed041d289a83919f97b823b"
            ],
            "layout": "IPY_MODEL_337391fc5a0b4055ac8f63fb99d5cb8b"
          }
        },
        "9533b9b644c845a4b753f0ca6e24aa1d": {
          "model_module": "@jupyter-widgets/controls",
          "model_module_version": "1.5.0",
          "model_name": "HTMLModel",
          "state": {
            "_dom_classes": [],
            "_model_module": "@jupyter-widgets/controls",
            "_model_module_version": "1.5.0",
            "_model_name": "HTMLModel",
            "_view_count": null,
            "_view_module": "@jupyter-widgets/controls",
            "_view_module_version": "1.5.0",
            "_view_name": "HTMLView",
            "description": "",
            "description_tooltip": null,
            "layout": "IPY_MODEL_6d5932e555234ad099b14d27e199cdd0",
            "placeholder": "​",
            "style": "IPY_MODEL_2f83dc26435e499992a0dbbe27b14bbd",
            "value": " 438M/438M [00:05&lt;00:00, 23.9MB/s]"
          }
        },
        "9d21c84043604357b459e6be20abaa98": {
          "model_module": "@jupyter-widgets/controls",
          "model_module_version": "1.5.0",
          "model_name": "DescriptionStyleModel",
          "state": {
            "_model_module": "@jupyter-widgets/controls",
            "_model_module_version": "1.5.0",
            "_model_name": "DescriptionStyleModel",
            "_view_count": null,
            "_view_module": "@jupyter-widgets/base",
            "_view_module_version": "1.2.0",
            "_view_name": "StyleView",
            "description_width": ""
          }
        },
        "9d7095c174324f259f462763979d7144": {
          "model_module": "@jupyter-widgets/base",
          "model_module_version": "1.2.0",
          "model_name": "LayoutModel",
          "state": {
            "_model_module": "@jupyter-widgets/base",
            "_model_module_version": "1.2.0",
            "_model_name": "LayoutModel",
            "_view_count": null,
            "_view_module": "@jupyter-widgets/base",
            "_view_module_version": "1.2.0",
            "_view_name": "LayoutView",
            "align_content": null,
            "align_items": null,
            "align_self": null,
            "border": null,
            "bottom": null,
            "display": null,
            "flex": null,
            "flex_flow": null,
            "grid_area": null,
            "grid_auto_columns": null,
            "grid_auto_flow": null,
            "grid_auto_rows": null,
            "grid_column": null,
            "grid_gap": null,
            "grid_row": null,
            "grid_template_areas": null,
            "grid_template_columns": null,
            "grid_template_rows": null,
            "height": null,
            "justify_content": null,
            "justify_items": null,
            "left": null,
            "margin": null,
            "max_height": null,
            "max_width": null,
            "min_height": null,
            "min_width": null,
            "object_fit": null,
            "object_position": null,
            "order": null,
            "overflow": null,
            "overflow_x": null,
            "overflow_y": null,
            "padding": null,
            "right": null,
            "top": null,
            "visibility": null,
            "width": null
          }
        },
        "a02d3aa9d6fa4b659d5f532d13402c46": {
          "model_module": "@jupyter-widgets/controls",
          "model_module_version": "1.5.0",
          "model_name": "ProgressStyleModel",
          "state": {
            "_model_module": "@jupyter-widgets/controls",
            "_model_module_version": "1.5.0",
            "_model_name": "ProgressStyleModel",
            "_view_count": null,
            "_view_module": "@jupyter-widgets/base",
            "_view_module_version": "1.2.0",
            "_view_name": "StyleView",
            "bar_color": null,
            "description_width": ""
          }
        },
        "a0f73dcc73ce4a07ba73cf1883a252e8": {
          "model_module": "@jupyter-widgets/controls",
          "model_module_version": "1.5.0",
          "model_name": "DescriptionStyleModel",
          "state": {
            "_model_module": "@jupyter-widgets/controls",
            "_model_module_version": "1.5.0",
            "_model_name": "DescriptionStyleModel",
            "_view_count": null,
            "_view_module": "@jupyter-widgets/base",
            "_view_module_version": "1.2.0",
            "_view_name": "StyleView",
            "description_width": ""
          }
        },
        "a9ccb96afc9042fd94515fcbf32fcd58": {
          "model_module": "@jupyter-widgets/controls",
          "model_module_version": "1.5.0",
          "model_name": "DescriptionStyleModel",
          "state": {
            "_model_module": "@jupyter-widgets/controls",
            "_model_module_version": "1.5.0",
            "_model_name": "DescriptionStyleModel",
            "_view_count": null,
            "_view_module": "@jupyter-widgets/base",
            "_view_module_version": "1.2.0",
            "_view_name": "StyleView",
            "description_width": ""
          }
        },
        "abd2abe46951416e9829f8b4325c4675": {
          "model_module": "@jupyter-widgets/controls",
          "model_module_version": "1.5.0",
          "model_name": "HTMLModel",
          "state": {
            "_dom_classes": [],
            "_model_module": "@jupyter-widgets/controls",
            "_model_module_version": "1.5.0",
            "_model_name": "HTMLModel",
            "_view_count": null,
            "_view_module": "@jupyter-widgets/controls",
            "_view_module_version": "1.5.0",
            "_view_name": "HTMLView",
            "description": "",
            "description_tooltip": null,
            "layout": "IPY_MODEL_db7436e2b9eb47a7a4103b77a3d0e171",
            "placeholder": "​",
            "style": "IPY_MODEL_a9ccb96afc9042fd94515fcbf32fcd58",
            "value": "tokenizer_config.json: 100%"
          }
        },
        "b73f95065c394a348216ebad8e8b9907": {
          "model_module": "@jupyter-widgets/controls",
          "model_module_version": "1.5.0",
          "model_name": "DescriptionStyleModel",
          "state": {
            "_model_module": "@jupyter-widgets/controls",
            "_model_module_version": "1.5.0",
            "_model_name": "DescriptionStyleModel",
            "_view_count": null,
            "_view_module": "@jupyter-widgets/base",
            "_view_module_version": "1.2.0",
            "_view_name": "StyleView",
            "description_width": ""
          }
        },
        "bc0bf1811e854fe4b7ffeda799425c78": {
          "model_module": "@jupyter-widgets/base",
          "model_module_version": "1.2.0",
          "model_name": "LayoutModel",
          "state": {
            "_model_module": "@jupyter-widgets/base",
            "_model_module_version": "1.2.0",
            "_model_name": "LayoutModel",
            "_view_count": null,
            "_view_module": "@jupyter-widgets/base",
            "_view_module_version": "1.2.0",
            "_view_name": "LayoutView",
            "align_content": null,
            "align_items": null,
            "align_self": null,
            "border": null,
            "bottom": null,
            "display": null,
            "flex": null,
            "flex_flow": null,
            "grid_area": null,
            "grid_auto_columns": null,
            "grid_auto_flow": null,
            "grid_auto_rows": null,
            "grid_column": null,
            "grid_gap": null,
            "grid_row": null,
            "grid_template_areas": null,
            "grid_template_columns": null,
            "grid_template_rows": null,
            "height": null,
            "justify_content": null,
            "justify_items": null,
            "left": null,
            "margin": null,
            "max_height": null,
            "max_width": null,
            "min_height": null,
            "min_width": null,
            "object_fit": null,
            "object_position": null,
            "order": null,
            "overflow": null,
            "overflow_x": null,
            "overflow_y": null,
            "padding": null,
            "right": null,
            "top": null,
            "visibility": null,
            "width": null
          }
        },
        "bd3d9fb08ebf4561846cec4265de5284": {
          "model_module": "@jupyter-widgets/base",
          "model_module_version": "1.2.0",
          "model_name": "LayoutModel",
          "state": {
            "_model_module": "@jupyter-widgets/base",
            "_model_module_version": "1.2.0",
            "_model_name": "LayoutModel",
            "_view_count": null,
            "_view_module": "@jupyter-widgets/base",
            "_view_module_version": "1.2.0",
            "_view_name": "LayoutView",
            "align_content": null,
            "align_items": null,
            "align_self": null,
            "border": null,
            "bottom": null,
            "display": null,
            "flex": null,
            "flex_flow": null,
            "grid_area": null,
            "grid_auto_columns": null,
            "grid_auto_flow": null,
            "grid_auto_rows": null,
            "grid_column": null,
            "grid_gap": null,
            "grid_row": null,
            "grid_template_areas": null,
            "grid_template_columns": null,
            "grid_template_rows": null,
            "height": null,
            "justify_content": null,
            "justify_items": null,
            "left": null,
            "margin": null,
            "max_height": null,
            "max_width": null,
            "min_height": null,
            "min_width": null,
            "object_fit": null,
            "object_position": null,
            "order": null,
            "overflow": null,
            "overflow_x": null,
            "overflow_y": null,
            "padding": null,
            "right": null,
            "top": null,
            "visibility": null,
            "width": null
          }
        },
        "c42902a3f86041f49c077bf1fb83c6f3": {
          "model_module": "@jupyter-widgets/base",
          "model_module_version": "1.2.0",
          "model_name": "LayoutModel",
          "state": {
            "_model_module": "@jupyter-widgets/base",
            "_model_module_version": "1.2.0",
            "_model_name": "LayoutModel",
            "_view_count": null,
            "_view_module": "@jupyter-widgets/base",
            "_view_module_version": "1.2.0",
            "_view_name": "LayoutView",
            "align_content": null,
            "align_items": null,
            "align_self": null,
            "border": null,
            "bottom": null,
            "display": null,
            "flex": null,
            "flex_flow": null,
            "grid_area": null,
            "grid_auto_columns": null,
            "grid_auto_flow": null,
            "grid_auto_rows": null,
            "grid_column": null,
            "grid_gap": null,
            "grid_row": null,
            "grid_template_areas": null,
            "grid_template_columns": null,
            "grid_template_rows": null,
            "height": null,
            "justify_content": null,
            "justify_items": null,
            "left": null,
            "margin": null,
            "max_height": null,
            "max_width": null,
            "min_height": null,
            "min_width": null,
            "object_fit": null,
            "object_position": null,
            "order": null,
            "overflow": null,
            "overflow_x": null,
            "overflow_y": null,
            "padding": null,
            "right": null,
            "top": null,
            "visibility": null,
            "width": null
          }
        },
        "c5ac39d65246496987b380980216c96f": {
          "model_module": "@jupyter-widgets/controls",
          "model_module_version": "1.5.0",
          "model_name": "HBoxModel",
          "state": {
            "_dom_classes": [],
            "_model_module": "@jupyter-widgets/controls",
            "_model_module_version": "1.5.0",
            "_model_name": "HBoxModel",
            "_view_count": null,
            "_view_module": "@jupyter-widgets/controls",
            "_view_module_version": "1.5.0",
            "_view_name": "HBoxView",
            "box_style": "",
            "children": [
              "IPY_MODEL_d485a089dae64548bdeeb89d20259fd1",
              "IPY_MODEL_4925d2e5af9f4adaa12e3309aceb8f86",
              "IPY_MODEL_9533b9b644c845a4b753f0ca6e24aa1d"
            ],
            "layout": "IPY_MODEL_6edac992be6e49618db611206fb0cf07"
          }
        },
        "c9a84cea249a4ca9a4be3ba3e7395d00": {
          "model_module": "@jupyter-widgets/controls",
          "model_module_version": "1.5.0",
          "model_name": "DescriptionStyleModel",
          "state": {
            "_model_module": "@jupyter-widgets/controls",
            "_model_module_version": "1.5.0",
            "_model_name": "DescriptionStyleModel",
            "_view_count": null,
            "_view_module": "@jupyter-widgets/base",
            "_view_module_version": "1.2.0",
            "_view_name": "StyleView",
            "description_width": ""
          }
        },
        "caaa4ebbff5048e584a4805c8bef4b21": {
          "model_module": "@jupyter-widgets/controls",
          "model_module_version": "1.5.0",
          "model_name": "ProgressStyleModel",
          "state": {
            "_model_module": "@jupyter-widgets/controls",
            "_model_module_version": "1.5.0",
            "_model_name": "ProgressStyleModel",
            "_view_count": null,
            "_view_module": "@jupyter-widgets/base",
            "_view_module_version": "1.2.0",
            "_view_name": "StyleView",
            "bar_color": null,
            "description_width": ""
          }
        },
        "d485a089dae64548bdeeb89d20259fd1": {
          "model_module": "@jupyter-widgets/controls",
          "model_module_version": "1.5.0",
          "model_name": "HTMLModel",
          "state": {
            "_dom_classes": [],
            "_model_module": "@jupyter-widgets/controls",
            "_model_module_version": "1.5.0",
            "_model_name": "HTMLModel",
            "_view_count": null,
            "_view_module": "@jupyter-widgets/controls",
            "_view_module_version": "1.5.0",
            "_view_name": "HTMLView",
            "description": "",
            "description_tooltip": null,
            "layout": "IPY_MODEL_86b73b73c9154bbeb4dc213f877a1c5a",
            "placeholder": "​",
            "style": "IPY_MODEL_7f8d5440bc0f4b3ea54b853b4b59148f",
            "value": "model.safetensors: 100%"
          }
        },
        "d5883fe8a67542bf90f404458db3e54f": {
          "model_module": "@jupyter-widgets/base",
          "model_module_version": "1.2.0",
          "model_name": "LayoutModel",
          "state": {
            "_model_module": "@jupyter-widgets/base",
            "_model_module_version": "1.2.0",
            "_model_name": "LayoutModel",
            "_view_count": null,
            "_view_module": "@jupyter-widgets/base",
            "_view_module_version": "1.2.0",
            "_view_name": "LayoutView",
            "align_content": null,
            "align_items": null,
            "align_self": null,
            "border": null,
            "bottom": null,
            "display": null,
            "flex": null,
            "flex_flow": null,
            "grid_area": null,
            "grid_auto_columns": null,
            "grid_auto_flow": null,
            "grid_auto_rows": null,
            "grid_column": null,
            "grid_gap": null,
            "grid_row": null,
            "grid_template_areas": null,
            "grid_template_columns": null,
            "grid_template_rows": null,
            "height": null,
            "justify_content": null,
            "justify_items": null,
            "left": null,
            "margin": null,
            "max_height": null,
            "max_width": null,
            "min_height": null,
            "min_width": null,
            "object_fit": null,
            "object_position": null,
            "order": null,
            "overflow": null,
            "overflow_x": null,
            "overflow_y": null,
            "padding": null,
            "right": null,
            "top": null,
            "visibility": null,
            "width": null
          }
        },
        "d6a1ca4f2f7a48fcbfa89d7546d1250b": {
          "model_module": "@jupyter-widgets/base",
          "model_module_version": "1.2.0",
          "model_name": "LayoutModel",
          "state": {
            "_model_module": "@jupyter-widgets/base",
            "_model_module_version": "1.2.0",
            "_model_name": "LayoutModel",
            "_view_count": null,
            "_view_module": "@jupyter-widgets/base",
            "_view_module_version": "1.2.0",
            "_view_name": "LayoutView",
            "align_content": null,
            "align_items": null,
            "align_self": null,
            "border": null,
            "bottom": null,
            "display": null,
            "flex": null,
            "flex_flow": null,
            "grid_area": null,
            "grid_auto_columns": null,
            "grid_auto_flow": null,
            "grid_auto_rows": null,
            "grid_column": null,
            "grid_gap": null,
            "grid_row": null,
            "grid_template_areas": null,
            "grid_template_columns": null,
            "grid_template_rows": null,
            "height": null,
            "justify_content": null,
            "justify_items": null,
            "left": null,
            "margin": null,
            "max_height": null,
            "max_width": null,
            "min_height": null,
            "min_width": null,
            "object_fit": null,
            "object_position": null,
            "order": null,
            "overflow": null,
            "overflow_x": null,
            "overflow_y": null,
            "padding": null,
            "right": null,
            "top": null,
            "visibility": null,
            "width": null
          }
        },
        "d7b37c52c0ff467f8b8ac1079e67c40c": {
          "model_module": "@jupyter-widgets/controls",
          "model_module_version": "1.5.0",
          "model_name": "DescriptionStyleModel",
          "state": {
            "_model_module": "@jupyter-widgets/controls",
            "_model_module_version": "1.5.0",
            "_model_name": "DescriptionStyleModel",
            "_view_count": null,
            "_view_module": "@jupyter-widgets/base",
            "_view_module_version": "1.2.0",
            "_view_name": "StyleView",
            "description_width": ""
          }
        },
        "db7436e2b9eb47a7a4103b77a3d0e171": {
          "model_module": "@jupyter-widgets/base",
          "model_module_version": "1.2.0",
          "model_name": "LayoutModel",
          "state": {
            "_model_module": "@jupyter-widgets/base",
            "_model_module_version": "1.2.0",
            "_model_name": "LayoutModel",
            "_view_count": null,
            "_view_module": "@jupyter-widgets/base",
            "_view_module_version": "1.2.0",
            "_view_name": "LayoutView",
            "align_content": null,
            "align_items": null,
            "align_self": null,
            "border": null,
            "bottom": null,
            "display": null,
            "flex": null,
            "flex_flow": null,
            "grid_area": null,
            "grid_auto_columns": null,
            "grid_auto_flow": null,
            "grid_auto_rows": null,
            "grid_column": null,
            "grid_gap": null,
            "grid_row": null,
            "grid_template_areas": null,
            "grid_template_columns": null,
            "grid_template_rows": null,
            "height": null,
            "justify_content": null,
            "justify_items": null,
            "left": null,
            "margin": null,
            "max_height": null,
            "max_width": null,
            "min_height": null,
            "min_width": null,
            "object_fit": null,
            "object_position": null,
            "order": null,
            "overflow": null,
            "overflow_x": null,
            "overflow_y": null,
            "padding": null,
            "right": null,
            "top": null,
            "visibility": null,
            "width": null
          }
        },
        "e05062c3701c450998dbcc8a9992661c": {
          "model_module": "@jupyter-widgets/base",
          "model_module_version": "1.2.0",
          "model_name": "LayoutModel",
          "state": {
            "_model_module": "@jupyter-widgets/base",
            "_model_module_version": "1.2.0",
            "_model_name": "LayoutModel",
            "_view_count": null,
            "_view_module": "@jupyter-widgets/base",
            "_view_module_version": "1.2.0",
            "_view_name": "LayoutView",
            "align_content": null,
            "align_items": null,
            "align_self": null,
            "border": null,
            "bottom": null,
            "display": null,
            "flex": null,
            "flex_flow": null,
            "grid_area": null,
            "grid_auto_columns": null,
            "grid_auto_flow": null,
            "grid_auto_rows": null,
            "grid_column": null,
            "grid_gap": null,
            "grid_row": null,
            "grid_template_areas": null,
            "grid_template_columns": null,
            "grid_template_rows": null,
            "height": null,
            "justify_content": null,
            "justify_items": null,
            "left": null,
            "margin": null,
            "max_height": null,
            "max_width": null,
            "min_height": null,
            "min_width": null,
            "object_fit": null,
            "object_position": null,
            "order": null,
            "overflow": null,
            "overflow_x": null,
            "overflow_y": null,
            "padding": null,
            "right": null,
            "top": null,
            "visibility": null,
            "width": null
          }
        },
        "e08d921f1b2a49fe8eeaa5d64e811af1": {
          "model_module": "@jupyter-widgets/base",
          "model_module_version": "1.2.0",
          "model_name": "LayoutModel",
          "state": {
            "_model_module": "@jupyter-widgets/base",
            "_model_module_version": "1.2.0",
            "_model_name": "LayoutModel",
            "_view_count": null,
            "_view_module": "@jupyter-widgets/base",
            "_view_module_version": "1.2.0",
            "_view_name": "LayoutView",
            "align_content": null,
            "align_items": null,
            "align_self": null,
            "border": null,
            "bottom": null,
            "display": null,
            "flex": null,
            "flex_flow": null,
            "grid_area": null,
            "grid_auto_columns": null,
            "grid_auto_flow": null,
            "grid_auto_rows": null,
            "grid_column": null,
            "grid_gap": null,
            "grid_row": null,
            "grid_template_areas": null,
            "grid_template_columns": null,
            "grid_template_rows": null,
            "height": null,
            "justify_content": null,
            "justify_items": null,
            "left": null,
            "margin": null,
            "max_height": null,
            "max_width": null,
            "min_height": null,
            "min_width": null,
            "object_fit": null,
            "object_position": null,
            "order": null,
            "overflow": null,
            "overflow_x": null,
            "overflow_y": null,
            "padding": null,
            "right": null,
            "top": null,
            "visibility": null,
            "width": null
          }
        },
        "e53ce79804cb4f17a8ad2b84afc63ce4": {
          "model_module": "@jupyter-widgets/controls",
          "model_module_version": "1.5.0",
          "model_name": "FloatProgressModel",
          "state": {
            "_dom_classes": [],
            "_model_module": "@jupyter-widgets/controls",
            "_model_module_version": "1.5.0",
            "_model_name": "FloatProgressModel",
            "_view_count": null,
            "_view_module": "@jupyter-widgets/controls",
            "_view_module_version": "1.5.0",
            "_view_name": "ProgressView",
            "bar_style": "success",
            "description": "",
            "description_tooltip": null,
            "layout": "IPY_MODEL_e05062c3701c450998dbcc8a9992661c",
            "max": 239,
            "min": 0,
            "orientation": "horizontal",
            "style": "IPY_MODEL_a02d3aa9d6fa4b659d5f532d13402c46",
            "value": 239
          }
        },
        "ea19f3b5e8c343bc8bc00baa4cda36b8": {
          "model_module": "@jupyter-widgets/controls",
          "model_module_version": "1.5.0",
          "model_name": "DescriptionStyleModel",
          "state": {
            "_model_module": "@jupyter-widgets/controls",
            "_model_module_version": "1.5.0",
            "_model_name": "DescriptionStyleModel",
            "_view_count": null,
            "_view_module": "@jupyter-widgets/base",
            "_view_module_version": "1.2.0",
            "_view_name": "StyleView",
            "description_width": ""
          }
        },
        "ef0aee5d04074133932f7d2f468b921b": {
          "model_module": "@jupyter-widgets/base",
          "model_module_version": "1.2.0",
          "model_name": "LayoutModel",
          "state": {
            "_model_module": "@jupyter-widgets/base",
            "_model_module_version": "1.2.0",
            "_model_name": "LayoutModel",
            "_view_count": null,
            "_view_module": "@jupyter-widgets/base",
            "_view_module_version": "1.2.0",
            "_view_name": "LayoutView",
            "align_content": null,
            "align_items": null,
            "align_self": null,
            "border": null,
            "bottom": null,
            "display": null,
            "flex": null,
            "flex_flow": null,
            "grid_area": null,
            "grid_auto_columns": null,
            "grid_auto_flow": null,
            "grid_auto_rows": null,
            "grid_column": null,
            "grid_gap": null,
            "grid_row": null,
            "grid_template_areas": null,
            "grid_template_columns": null,
            "grid_template_rows": null,
            "height": null,
            "justify_content": null,
            "justify_items": null,
            "left": null,
            "margin": null,
            "max_height": null,
            "max_width": null,
            "min_height": null,
            "min_width": null,
            "object_fit": null,
            "object_position": null,
            "order": null,
            "overflow": null,
            "overflow_x": null,
            "overflow_y": null,
            "padding": null,
            "right": null,
            "top": null,
            "visibility": null,
            "width": null
          }
        },
        "f47e7752fd7e4940bedf57d157aea00c": {
          "model_module": "@jupyter-widgets/controls",
          "model_module_version": "1.5.0",
          "model_name": "FloatProgressModel",
          "state": {
            "_dom_classes": [],
            "_model_module": "@jupyter-widgets/controls",
            "_model_module_version": "1.5.0",
            "_model_name": "FloatProgressModel",
            "_view_count": null,
            "_view_module": "@jupyter-widgets/controls",
            "_view_module_version": "1.5.0",
            "_view_name": "ProgressView",
            "bar_style": "success",
            "description": "",
            "description_tooltip": null,
            "layout": "IPY_MODEL_650786cd569248368c8289a11c4668cc",
            "max": 363,
            "min": 0,
            "orientation": "horizontal",
            "style": "IPY_MODEL_7e5d51a1aa8148bab1d5580e3ada9445",
            "value": 363
          }
        },
        "f8751b6b35cc489b8918a5d23bed8670": {
          "model_module": "@jupyter-widgets/controls",
          "model_module_version": "1.5.0",
          "model_name": "DescriptionStyleModel",
          "state": {
            "_model_module": "@jupyter-widgets/controls",
            "_model_module_version": "1.5.0",
            "_model_name": "DescriptionStyleModel",
            "_view_count": null,
            "_view_module": "@jupyter-widgets/base",
            "_view_module_version": "1.2.0",
            "_view_name": "StyleView",
            "description_width": ""
          }
        }
      }
    }
  },
  "nbformat": 4,
  "nbformat_minor": 0
}
